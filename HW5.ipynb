{
  "nbformat": 4,
  "nbformat_minor": 0,
  "metadata": {
    "accelerator": "GPU",
    "anaconda-cloud": {},
    "colab": {
      "name": "6031050121_HW5.ipynb",
      "provenance": [],
      "collapsed_sections": [],
      "toc_visible": true,
      "machine_shape": "hm"
    },
    "kernelspec": {
      "display_name": "Python 3",
      "name": "python3"
    },
    "language_info": {
      "codemirror_mode": {
        "name": "ipython",
        "version": 3
      },
      "file_extension": ".py",
      "mimetype": "text/x-python",
      "name": "python",
      "nbconvert_exporter": "python",
      "pygments_lexer": "ipython3",
      "version": "3.5.2"
    }
  },
  "cells": [
    {
      "cell_type": "markdown",
      "metadata": {
        "id": "ko8K6ntRi-W6"
      },
      "source": [
        "# Homework: Word Embedding\n",
        "\n",
        "In this exercise, you will work on the skip-gram neural network architecture for Word2Vec. You will be using Keras to train your model. \n",
        "\n",
        "You must complete the following tasks:\n",
        "1. Read/clean text files\n",
        "2. Indexing (Assign a number to each word)\n",
        "3. Create skip-grams (inputs for your model)\n",
        "4. Create the skip-gram neural network model\n",
        "5. Visualization\n",
        "6. Evaluation (Using pre-trained, not using pre-trained)\n",
        "    (classify topic from 4 categories) \n",
        "    \n",
        "This notebook assumes you have already installed Tensorflow and Keras with python3 and had GPU enabled. If you run this exercise on GCloud using the provided disk image you are all set.\n",
        "\n"
      ]
    },
    {
      "cell_type": "code",
      "metadata": {
        "colab": {
          "base_uri": "https://localhost:8080/"
        },
        "id": "J1mnUii98wFD",
        "outputId": "1a6f891c-cb6a-4874-cea8-29d89f16ad66"
      },
      "source": [
        "%cd /content/drive/MyDrive/gggg"
      ],
      "execution_count": 1,
      "outputs": [
        {
          "output_type": "stream",
          "text": [
            "/content/drive/MyDrive/gggg\n"
          ],
          "name": "stdout"
        }
      ]
    },
    {
      "cell_type": "code",
      "metadata": {
        "id": "XRMd6iHH8z6a",
        "colab": {
          "base_uri": "https://localhost:8080/"
        },
        "outputId": "e688606a-ea6f-48e8-96c9-5ce07f49fd8b"
      },
      "source": [
        "%mkdir test"
      ],
      "execution_count": 2,
      "outputs": [
        {
          "output_type": "stream",
          "text": [
            "mkdir: cannot create directory ‘test’: File exists\n"
          ],
          "name": "stdout"
        }
      ]
    },
    {
      "cell_type": "code",
      "metadata": {
        "colab": {
          "base_uri": "https://localhost:8080/"
        },
        "id": "Ds8AL5AbNJgT",
        "outputId": "7053f7e9-81ac-4d1b-ba63-1ccf27e61bf0"
      },
      "source": [
        "from google.colab import drive\n",
        "drive.mount('/content/drive')"
      ],
      "execution_count": 3,
      "outputs": [
        {
          "output_type": "stream",
          "text": [
            "Drive already mounted at /content/drive; to attempt to forcibly remount, call drive.mount(\"/content/drive\", force_remount=True).\n"
          ],
          "name": "stdout"
        }
      ]
    },
    {
      "cell_type": "code",
      "metadata": {
        "id": "Jw11OhLsi-W8"
      },
      "source": [
        "%tensorflow_version 2.x\n",
        "%matplotlib inline\n",
        "import numpy as np\n",
        "import pandas as pd\n",
        "import math\n",
        "import glob\n",
        "import re\n",
        "import random\n",
        "import collections\n",
        "import os\n",
        "import sys\n",
        "import tensorflow as tf\n",
        "from tensorflow.keras.preprocessing import sequence\n",
        "from tensorflow.keras.models import Sequential, Model\n",
        "from tensorflow.keras.layers import GRU, Dropout\n",
        "from tensorflow.keras.models import load_model\n",
        "from tensorflow.keras.layers import Embedding, Reshape, Activation, Input, Dense, Masking, Conv1D, Bidirectional\n",
        "from tensorflow.python.keras.layers.merge import Dot\n",
        "from tensorflow.python.keras.utils import np_utils\n",
        "from tensorflow.python.keras.utils.data_utils import get_file\n",
        "from tensorflow.python.keras.utils.np_utils import to_categorical\n",
        "from tensorflow.keras.preprocessing.sequence import skipgrams\n",
        "from tensorflow.keras.preprocessing import sequence\n",
        "from tensorflow.keras import backend as K\n",
        "from tensorflow.keras.optimizers import Adam\n",
        "\n",
        "random.seed(42)"
      ],
      "execution_count": 4,
      "outputs": []
    },
    {
      "cell_type": "markdown",
      "metadata": {
        "id": "RdYpL3Uyi-XD"
      },
      "source": [
        "# Step 1: Read/clean text files\n",
        "\n",
        "The given code can be used to processed the pre-tokenzied text file from the wikipedia corpus. In your homework, you must replace those text files with raw text files.  You must use your own tokenizer to process your text files"
      ]
    },
    {
      "cell_type": "code",
      "metadata": {
        "colab": {
          "base_uri": "https://localhost:8080/"
        },
        "id": "Wco1eVRVzn6O",
        "outputId": "779c1514-d036-41a0-81de-d658e25796b7"
      },
      "source": [
        "!wget https://www.dropbox.com/s/eexden7246sgfzf/BEST-TrainingSet.zip\n",
        "!wget https://www.dropbox.com/s/n87fiy25f2yc3gt/wiki.zip\n",
        "!unzip wiki.zip\n",
        "!unzip BEST-TrainingSet.zip"
      ],
      "execution_count": null,
      "outputs": [
        {
          "output_type": "stream",
          "text": [
            "--2021-02-21 06:26:50--  https://www.dropbox.com/s/eexden7246sgfzf/BEST-TrainingSet.zip\n",
            "Resolving www.dropbox.com (www.dropbox.com)... 162.125.5.18, 2620:100:601b:18::a27d:812\n",
            "Connecting to www.dropbox.com (www.dropbox.com)|162.125.5.18|:443... connected.\n",
            "HTTP request sent, awaiting response... 301 Moved Permanently\n",
            "Location: /s/raw/eexden7246sgfzf/BEST-TrainingSet.zip [following]\n",
            "--2021-02-21 06:26:51--  https://www.dropbox.com/s/raw/eexden7246sgfzf/BEST-TrainingSet.zip\n",
            "Reusing existing connection to www.dropbox.com:443.\n",
            "HTTP request sent, awaiting response... 302 Found\n",
            "Location: https://ucd434c6539f8ecb0a21fe6cf44f.dl.dropboxusercontent.com/cd/0/inline/BJXh7crqm7IedYdH1GtDtXp0cP5aiPRkwhW_2qdMfA-uFSaU5kYp9-x0RK1RMTvJs-kMyCLtpVqWwzguLMi0Q3PsrkdhycTK-6YrKygqgpAjiTXhtX1TLnq0urztbPb_vbE/file# [following]\n",
            "--2021-02-21 06:26:51--  https://ucd434c6539f8ecb0a21fe6cf44f.dl.dropboxusercontent.com/cd/0/inline/BJXh7crqm7IedYdH1GtDtXp0cP5aiPRkwhW_2qdMfA-uFSaU5kYp9-x0RK1RMTvJs-kMyCLtpVqWwzguLMi0Q3PsrkdhycTK-6YrKygqgpAjiTXhtX1TLnq0urztbPb_vbE/file\n",
            "Resolving ucd434c6539f8ecb0a21fe6cf44f.dl.dropboxusercontent.com (ucd434c6539f8ecb0a21fe6cf44f.dl.dropboxusercontent.com)... 162.125.3.15, 2620:100:601b:15::a27d:80f\n",
            "Connecting to ucd434c6539f8ecb0a21fe6cf44f.dl.dropboxusercontent.com (ucd434c6539f8ecb0a21fe6cf44f.dl.dropboxusercontent.com)|162.125.3.15|:443... connected.\n",
            "HTTP request sent, awaiting response... 302 Found\n",
            "Location: /cd/0/inline2/BJXQczzx1bZgSlle7zimRN0U30PNrTX2lTQIWq_V4POzK3EmyzApgcYx1CY0C1BZTKrYd5A4oe4nkr66Y750yPzIGmH2ctwEhQZFyNXKRwdrbKVRBgffF185Y84qmEdanY5O-2_LubOARaJYf1VxLe7-CzBO703rVdBVbDfbk9fE0d2pcosdoHMxYZRyt_AOKPWWWIdRRsS9O6OEDf0z5LER0S0zaYunE1VY51_wMgEK37g0es7egUgIuEs5hjcIn4UIegGMXFvEHfvAxxHcXaKtL59AnAIPNVaYQrlHHta2hclUFpArI4X4CCkoePEyiaONJ72v7GEw2KT4kGmHv-Ky0Jwi1EmUCayYNbUbPZFkwQ/file [following]\n",
            "--2021-02-21 06:26:52--  https://ucd434c6539f8ecb0a21fe6cf44f.dl.dropboxusercontent.com/cd/0/inline2/BJXQczzx1bZgSlle7zimRN0U30PNrTX2lTQIWq_V4POzK3EmyzApgcYx1CY0C1BZTKrYd5A4oe4nkr66Y750yPzIGmH2ctwEhQZFyNXKRwdrbKVRBgffF185Y84qmEdanY5O-2_LubOARaJYf1VxLe7-CzBO703rVdBVbDfbk9fE0d2pcosdoHMxYZRyt_AOKPWWWIdRRsS9O6OEDf0z5LER0S0zaYunE1VY51_wMgEK37g0es7egUgIuEs5hjcIn4UIegGMXFvEHfvAxxHcXaKtL59AnAIPNVaYQrlHHta2hclUFpArI4X4CCkoePEyiaONJ72v7GEw2KT4kGmHv-Ky0Jwi1EmUCayYNbUbPZFkwQ/file\n",
            "Reusing existing connection to ucd434c6539f8ecb0a21fe6cf44f.dl.dropboxusercontent.com:443.\n",
            "HTTP request sent, awaiting response... 200 OK\n",
            "Length: 13122229 (13M) [application/zip]\n",
            "Saving to: ‘BEST-TrainingSet.zip.3’\n",
            "\n",
            "BEST-TrainingSet.zi 100%[===================>]  12.51M  39.1MB/s    in 0.3s    \n",
            "\n",
            "2021-02-21 06:26:53 (39.1 MB/s) - ‘BEST-TrainingSet.zip.3’ saved [13122229/13122229]\n",
            "\n",
            "--2021-02-21 06:26:53--  https://www.dropbox.com/s/n87fiy25f2yc3gt/wiki.zip\n",
            "Resolving www.dropbox.com (www.dropbox.com)... 162.125.3.18, 2620:100:601b:18::a27d:812\n",
            "Connecting to www.dropbox.com (www.dropbox.com)|162.125.3.18|:443... connected.\n",
            "HTTP request sent, awaiting response... 301 Moved Permanently\n",
            "Location: /s/raw/n87fiy25f2yc3gt/wiki.zip [following]\n",
            "--2021-02-21 06:26:53--  https://www.dropbox.com/s/raw/n87fiy25f2yc3gt/wiki.zip\n",
            "Reusing existing connection to www.dropbox.com:443.\n",
            "HTTP request sent, awaiting response... 302 Found\n",
            "Location: https://ucbdc2fe6d0653ab07d2986c77f8.dl.dropboxusercontent.com/cd/0/inline/BJUeyinxaDX1Oad1n6wzrgiGxXdaCIAXAgs792Ye9igelljxwhcdKSwJMdGoTr-OVgZRfxuRaj9ynCBEcmsCnL7qGEY2DctwCIKasMIzYO-sYlEsnC_0TB-YX4v8bDV4W5c/file# [following]\n",
            "--2021-02-21 06:26:53--  https://ucbdc2fe6d0653ab07d2986c77f8.dl.dropboxusercontent.com/cd/0/inline/BJUeyinxaDX1Oad1n6wzrgiGxXdaCIAXAgs792Ye9igelljxwhcdKSwJMdGoTr-OVgZRfxuRaj9ynCBEcmsCnL7qGEY2DctwCIKasMIzYO-sYlEsnC_0TB-YX4v8bDV4W5c/file\n",
            "Resolving ucbdc2fe6d0653ab07d2986c77f8.dl.dropboxusercontent.com (ucbdc2fe6d0653ab07d2986c77f8.dl.dropboxusercontent.com)... 162.125.3.15, 2620:100:601b:15::a27d:80f\n",
            "Connecting to ucbdc2fe6d0653ab07d2986c77f8.dl.dropboxusercontent.com (ucbdc2fe6d0653ab07d2986c77f8.dl.dropboxusercontent.com)|162.125.3.15|:443... connected.\n",
            "HTTP request sent, awaiting response... 302 Found\n",
            "Location: /cd/0/inline2/BJXFXyjV5IIH3o0qWbRBB_Otket7i58_ytCHeOkaNYxmGMS5vHoOQaswRuX7jasVdhCqB0QpIETjaqN66SGQWWwv6gLWUdHKTzuHLk9Ehm-RPFYvGQ1PcS23IY36tq78v95nLBUN0DjUSavWZ6FrdgVdJi9YYC_bS4A2s0o8OsxLsoinDPzFx6By-Gki7_66lRr5kkpiCivjdalz5LZ2whTqSaQOUfmQXkg90W5uVtDDrrLnYr5XwV-uTS_Ijh_Z1wGCkU3PmKoTzrQ3d4HqlRyIPamsvyG1rjF7uH6h_nzj3Q7q_17XHk3BWOzqWUVf-EBgAO7iDHh8qP9OLv7UCbMj7oGc5IFZ2CFZFeVNGKoiXg/file [following]\n",
            "--2021-02-21 06:26:54--  https://ucbdc2fe6d0653ab07d2986c77f8.dl.dropboxusercontent.com/cd/0/inline2/BJXFXyjV5IIH3o0qWbRBB_Otket7i58_ytCHeOkaNYxmGMS5vHoOQaswRuX7jasVdhCqB0QpIETjaqN66SGQWWwv6gLWUdHKTzuHLk9Ehm-RPFYvGQ1PcS23IY36tq78v95nLBUN0DjUSavWZ6FrdgVdJi9YYC_bS4A2s0o8OsxLsoinDPzFx6By-Gki7_66lRr5kkpiCivjdalz5LZ2whTqSaQOUfmQXkg90W5uVtDDrrLnYr5XwV-uTS_Ijh_Z1wGCkU3PmKoTzrQ3d4HqlRyIPamsvyG1rjF7uH6h_nzj3Q7q_17XHk3BWOzqWUVf-EBgAO7iDHh8qP9OLv7UCbMj7oGc5IFZ2CFZFeVNGKoiXg/file\n",
            "Reusing existing connection to ucbdc2fe6d0653ab07d2986c77f8.dl.dropboxusercontent.com:443.\n",
            "HTTP request sent, awaiting response... 200 OK\n",
            "Length: 92415438 (88M) [application/zip]\n",
            "Saving to: ‘wiki.zip.3’\n",
            "\n",
            "wiki.zip.3           49%[========>           ]  43.51M  72.5MB/s               "
          ],
          "name": "stdout"
        }
      ]
    },
    {
      "cell_type": "code",
      "metadata": {
        "id": "s0ALwvtzDZ-f"
      },
      "source": [
        "#Step 1: read the wikipedia text file\n",
        "with open(\"wiki/thwiki_chk.txt\") as f:\n",
        "    #the delimiter is one or more whitespace characters\n",
        "    input_text = re.compile(r\"\\s+\").split(f.read()) \n",
        "    #exclude an empty string from our input\n",
        "    input_text = [word for word in input_text if word != ''] "
      ],
      "execution_count": 5,
      "outputs": []
    },
    {
      "cell_type": "code",
      "metadata": {
        "id": "KXoFAfjaDcJ2",
        "colab": {
          "base_uri": "https://localhost:8080/"
        },
        "outputId": "54e67978-b6d9-4272-8a26-f06137bfe97e"
      },
      "source": [
        "tokens = input_text\n",
        "print(tokens[:10])\n",
        "print(\"total word count:\", len(tokens))"
      ],
      "execution_count": 6,
      "outputs": [
        {
          "output_type": "stream",
          "text": [
            "['หน้า', 'หลัก', 'วิกิพีเดีย', 'ดำเนินการ', 'โดย', 'มูลนิธิ', 'วิกิ', 'มีเดีย', 'องค์กร', 'ไม่']\n",
            "total word count: 36349066\n"
          ],
          "name": "stdout"
        }
      ]
    },
    {
      "cell_type": "markdown",
      "metadata": {
        "id": "GDVMvTRci-Xu"
      },
      "source": [
        "# Step 2: Indexing (Assign a number to each word)\n",
        "\n",
        "The code below generates an indexed dataset(each word is represented by a number), a dictionary, a reversed dictionary\n",
        "\n",
        "## <font color='blue'>Homework Question 1:</font>\n",
        "<font color='blue'>“UNK” is often used to represent an unknown word (a word which does not exist in your dictionary/training set). You can also represent a rare word with this token as well.  How do you define a rare word in your program? Explain in your own words and capture the screenshot of your code segment that is a part of this process</font>\n",
        "\n",
        " + <font color='blue'>edit or replace create_index with your own code to set a threshold for rare words and replace them with \"UNK\"</font>"
      ]
    },
    {
      "cell_type": "markdown",
      "metadata": {
        "id": "zMoALjWBiqTZ"
      },
      "source": [
        "Ans: Using data visualization for find a good threshold for cut off rare words so i picked 5 as a threshold that mean all of the word which has less than or equal to threshold will be change into UNK as a process of rareword replacing ( the words which cannot surpass threshould are considered as rare words"
      ]
    },
    {
      "cell_type": "code",
      "metadata": {
        "id": "O6NP7nQGi-Xw",
        "colab": {
          "base_uri": "https://localhost:8080/",
          "height": 321
        },
        "outputId": "80507401-fda8-44cd-beb3-b507a37e50a6"
      },
      "source": [
        "#step 2:Build dictionary and build a dataset(replace each word with its index)\n",
        "\n",
        "import numpy as np\n",
        "import matplotlib.pyplot as plt\n",
        "\n",
        "\n",
        "\n",
        "def create_index(input_text, min_thres_unk = 0, max_word_count = None):\n",
        "    # TODO#1 : edit or replace this function\n",
        "    words = [word for word in input_text ]\n",
        "    word_count = list()\n",
        "\n",
        "    #use set and len to get the number of unique words\n",
        "    word_count.extend(collections.Counter(words).most_common(len(set(words))))\n",
        "    #include a token for unknown word\n",
        "    unk_count = 0\n",
        "    state = 0\n",
        "\n",
        "    \n",
        "    freq = [e[1] for e in word_count]\n",
        "  \n",
        "    plt.hist(freq,  range=[1, 1000])\n",
        "    plt.yscale('log')\n",
        "\n",
        "    plt.show()\n",
        "  \n",
        "    if min_thres_unk:\n",
        "      pointer = 0\n",
        "      for i,c in enumerate(word_count):\n",
        "        if c[1] <= min_thres_unk:\n",
        "          unk_count+=1\n",
        "          state = 1\n",
        "        elif state  == 0:\n",
        "          pointer = i\n",
        "\n",
        "\n",
        "      word_count = word_count[:pointer+1]\n",
        "    new_word = set([e[0] for e in word_count])\n",
        "\n",
        "\n",
        "\n",
        "    word_count.append((\"UNK\",unk_count))\n",
        "    #print out 10 most frequent words\n",
        "    print(word_count[0:10])\n",
        "\n",
        "    dictionary = dict()\n",
        "    dictionary[\"for_keras_zero_padding\"] = 0\n",
        "    for word in word_count:\n",
        "        dictionary[word[0]] = len(dictionary)\n",
        "    reverse_dictionary = dict(zip(dictionary.values(), dictionary.keys()))\n",
        "    data = list()\n",
        "    for word in input_text:\n",
        "        if word in new_word:\n",
        "          data.append(dictionary[word])\n",
        "        else:\n",
        "          data.append(dictionary['UNK'])\n",
        "\n",
        "    return data,dictionary, reverse_dictionary\n",
        "\n",
        "# call method with min_thres_unk=1ß\n",
        "dataset, dictionary, reverse_dictionary = create_index(tokens, 5)\n",
        "print(len(dataset))\n",
        "print(len(dictionary))"
      ],
      "execution_count": 7,
      "outputs": [
        {
          "output_type": "display_data",
          "data": {
            "image/png": "[encoded data removed]",
            "text/plain": [
              "<Figure size 432x288 with 1 Axes>"
            ]
          },
          "metadata": {
            "tags": [],
            "needs_background": "light"
          }
        },
        {
          "output_type": "stream",
          "text": [
            "[('ที่', 950006), ('ใน', 897329), ('เป็น', 726847), ('และ', 668116), ('การ', 619128), ('มี', 536738), ('ของ', 532237), ('ได้', 508117), (')', 359576), ('\"', 357830)]\n",
            "36349066\n",
            "109904\n"
          ],
          "name": "stdout"
        }
      ]
    },
    {
      "cell_type": "code",
      "metadata": {
        "id": "2fotaYMgi-Xz",
        "colab": {
          "base_uri": "https://localhost:8080/"
        },
        "outputId": "62c4d8e1-d451-467d-bc1e-bd2fcd8c8388"
      },
      "source": [
        "print(\"output sample (dataset):\",dataset[:10])\n",
        "print(\"output sample (dictionary):\",{k: dictionary[k] for k in list(dictionary)[:10]})\n",
        "print(\"output sample (reverse dictionary):\",{k: reverse_dictionary[k] for k in list(reverse_dictionary)[:10]})"
      ],
      "execution_count": 8,
      "outputs": [
        {
          "output_type": "stream",
          "text": [
            "output sample (dataset): [229, 208, 2453, 573, 15, 1829, 7149, 3124, 681, 24]\n",
            "output sample (dictionary): {'for_keras_zero_padding': 0, 'ที่': 1, 'ใน': 2, 'เป็น': 3, 'และ': 4, 'การ': 5, 'มี': 6, 'ของ': 7, 'ได้': 8, ')': 9}\n",
            "output sample (reverse dictionary): {0: 'for_keras_zero_padding', 1: 'ที่', 2: 'ใน', 3: 'เป็น', 4: 'และ', 5: 'การ', 6: 'มี', 7: 'ของ', 8: 'ได้', 9: ')'}\n"
          ],
          "name": "stdout"
        }
      ]
    },
    {
      "cell_type": "markdown",
      "metadata": {
        "id": "HutTzPO7i-X3"
      },
      "source": [
        "# Step3: Create skip-grams (inputs for your model)\n",
        "Keras has a skipgrams-generator, the cell below shows us how it generates skipgrams \n",
        "\n",
        "## <font color='blue'>Homework Question 2:</font>\n",
        "<font color='blue'>The negative samples are sampled from sampling_table.  Look through Keras source code to find out how they sample negative samples. Discuss the sampling technique taught in class and compare it to the Keras source code.</font>\n",
        "\n"
      ]
    },
    {
      "cell_type": "markdown",
      "metadata": {
        "id": "kEiXQs2B1kw7"
      },
      "source": [
        "Ans: a difference is apoches of probablility-normalization. In class the prob was normalized by power with factional number but keras use this equation: p(word) = (min(1, sqrt(word_frequency / sampling_factor) /\r\n",
        " (word_frequency / sampling_factor)))"
      ]
    },
    {
      "cell_type": "markdown",
      "metadata": {
        "id": "cwYFRO3YGryQ"
      },
      "source": [
        "<font color='red'>Q2: PUT YOUR ANSER HERE!!!</font>"
      ]
    },
    {
      "cell_type": "code",
      "metadata": {
        "id": "C520WnI0i-X4",
        "colab": {
          "base_uri": "https://localhost:8080/"
        },
        "outputId": "d95a2016-d775-42bd-ff76-1441fe111a13"
      },
      "source": [
        "# Step 3: Create data samples\n",
        "vocab_size = len(dictionary)\n",
        "skip_window = 1       # How many words to consider left and right.\n",
        "\n",
        "# TODO#2 check out keras source code and find out how their sampling technique works. Describe it in your own words.\n",
        "sample_set= dataset[:10]\n",
        "sampling_table = sequence.make_sampling_table(vocab_size)\n",
        "couples, labels = skipgrams(sample_set, vocab_size, window_size=skip_window, sampling_table=sampling_table)\n",
        "word_target, word_context = zip(*couples)\n",
        "word_target = np.array(word_target, dtype=\"int32\")\n",
        "word_context = np.array(word_context, dtype=\"int32\")\n",
        "\n",
        "print(couples, labels)\n",
        "\n",
        "for i in range(8):\n",
        "    print(reverse_dictionary[couples[i][0]],reverse_dictionary[couples[i][1]])\n",
        "\n"
      ],
      "execution_count": 9,
      "outputs": [
        {
          "output_type": "stream",
          "text": [
            "[[3124, 7149], [3124, 93851], [3124, 54988], [2453, 85182], [208, 229], [3124, 681], [2453, 573], [24, 28894], [24, 681], [208, 2453], [2453, 91925], [208, 58879], [208, 71427], [2453, 208]] [1, 0, 0, 0, 1, 1, 1, 0, 1, 1, 0, 0, 0, 1]\n",
            "มีเดีย วิกิ\n",
            "มีเดีย พระสาโรชรั\n",
            "มีเดีย ไชลด์\n",
            "วิกิพีเดีย ควิเบกแอร์เพล\n",
            "หลัก หน้า\n",
            "มีเดีย องค์กร\n",
            "วิกิพีเดีย ดำเนินการ\n",
            "ไม่ เกิดพันธะ\n"
          ],
          "name": "stdout"
        }
      ]
    },
    {
      "cell_type": "markdown",
      "metadata": {
        "id": "F6UL0FhEi-X6"
      },
      "source": [
        "# Step 4: create the skip-gram model\n",
        "## <font color='blue'>Homework Question 3:</font>\n",
        " <font color='blue'>Q3:  In your own words, discuss why Sigmoid is chosen as the activation function in the  skip-gram model.</font>"
      ]
    },
    {
      "cell_type": "markdown",
      "metadata": {
        "id": "nRZIsA1Gh6mf"
      },
      "source": [
        "ANS: Because sigmoid is a good choice of calculate in term of probablility and has a simple term when it's taken diff and the range of value is between 0,1 so it can avoid exploding vanishing gadient"
      ]
    },
    {
      "cell_type": "markdown",
      "metadata": {
        "id": "-oQLGkkuHG7o"
      },
      "source": [
        "<font color='red'>Q3: PUT YOUR ANSER HERE!!!</font>"
      ]
    },
    {
      "cell_type": "code",
      "metadata": {
        "id": "kq7Eh9pXi-X7",
        "colab": {
          "base_uri": "https://localhost:8080/"
        },
        "outputId": "0034e078-6909-46bb-fabb-283e05c491ea"
      },
      "source": [
        "#reference: https://github.com/nzw0301/keras-examples/blob/master/Skip-gram-with-NS.ipynb\n",
        "dim_embedddings = 32\n",
        "V= len(dictionary)\n",
        "\n",
        "#step1: select the embedding of the target word from W\n",
        "w_inputs = Input(shape=(1, ), dtype='int32')\n",
        "w = Embedding(V+1, dim_embedddings)(w_inputs)\n",
        "\n",
        "#step2: select the embedding of the context word from C\n",
        "c_inputs = Input(shape=(1, ), dtype='int32')\n",
        "c  = Embedding(V+1, dim_embedddings)(c_inputs)\n",
        "\n",
        "#step3: compute the dot product:c_k*v_j\n",
        "o = Dot(axes=2)([w, c])\n",
        "o = Reshape((1,), input_shape=(1, 1))(o)\n",
        "\n",
        "#step4: normailize dot products into probability\n",
        "o = Activation('sigmoid')(o)\n",
        "#TO DO#4 Question: Why sigmoid?\n",
        "\n",
        "SkipGram = Model(inputs=[w_inputs, c_inputs], outputs=o)\n",
        "SkipGram.summary()\n",
        "opt=Adam(lr=0.01)\n",
        "SkipGram.compile(loss='binary_crossentropy', optimizer=opt)"
      ],
      "execution_count": 10,
      "outputs": [
        {
          "output_type": "stream",
          "text": [
            "Model: \"model\"\n",
            "__________________________________________________________________________________________________\n",
            "Layer (type)                    Output Shape         Param #     Connected to                     \n",
            "==================================================================================================\n",
            "input_1 (InputLayer)            [(None, 1)]          0                                            \n",
            "__________________________________________________________________________________________________\n",
            "input_2 (InputLayer)            [(None, 1)]          0                                            \n",
            "__________________________________________________________________________________________________\n",
            "embedding (Embedding)           (None, 1, 32)        3516960     input_1[0][0]                    \n",
            "__________________________________________________________________________________________________\n",
            "embedding_1 (Embedding)         (None, 1, 32)        3516960     input_2[0][0]                    \n",
            "__________________________________________________________________________________________________\n",
            "dot (Dot)                       (None, 1, 1)         0           embedding[0][0]                  \n",
            "                                                                 embedding_1[0][0]                \n",
            "__________________________________________________________________________________________________\n",
            "reshape (Reshape)               (None, 1)            0           dot[0][0]                        \n",
            "__________________________________________________________________________________________________\n",
            "activation (Activation)         (None, 1)            0           reshape[0][0]                    \n",
            "==================================================================================================\n",
            "Total params: 7,033,920\n",
            "Trainable params: 7,033,920\n",
            "Non-trainable params: 0\n",
            "__________________________________________________________________________________________________\n"
          ],
          "name": "stdout"
        }
      ]
    },
    {
      "cell_type": "code",
      "metadata": {
        "id": "Qs1eBMlv5FQl",
        "colab": {
          "base_uri": "https://localhost:8080/"
        },
        "outputId": "44659e93-8821-4e55-a64c-2f61db3e929b"
      },
      "source": [
        "len(dataset)"
      ],
      "execution_count": 50,
      "outputs": [
        {
          "output_type": "execute_result",
          "data": {
            "text/plain": [
              "36349066"
            ]
          },
          "metadata": {
            "tags": []
          },
          "execution_count": 50
        }
      ]
    },
    {
      "cell_type": "code",
      "metadata": {
        "id": "MgR5p_h1i-X9"
      },
      "source": [
        "# you don't have to spend too much time training for your homework, you are allowed to do it on a smaller corpus\n",
        "# currently the dataset is 1/20 of the full text file.\n",
        "for _ in range(1):\n",
        "    prev_i=0\n",
        "    print(prev_i)\n",
        "    #it is likely that your GPU won't be able to handle large input\n",
        "    #just do it 100000 words at a time\n",
        "    for i in range(len(dataset)//100000):\n",
        "        #generate skipgrams\n",
        "        data, labels = skipgrams(sequence=dataset[prev_i*100000:(i*100000)+100000], vocabulary_size=V, window_size=2, negative_samples=4.)\n",
        "        x = [np.array(x) for x in zip(*data)]\n",
        "        y = np.array(labels, dtype=np.int32)\n",
        "        if x:\n",
        "            loss = SkipGram.train_on_batch(x, y)\n",
        "        prev_i = i \n",
        "        print(loss,i*100000)\n"
      ],
      "execution_count": null,
      "outputs": []
    },
    {
      "cell_type": "code",
      "metadata": {
        "id": "sY69_WFHi-X_"
      },
      "source": [
        "SkipGram.save_weights('my_skipgram32_weights-hw.h5')"
      ],
      "execution_count": null,
      "outputs": []
    },
    {
      "cell_type": "code",
      "metadata": {
        "id": "SRdwEnQnNiBT"
      },
      "source": [
        "## I restarted my session so this weights come from previous session training ( 1 eporch)\r\n",
        "SkipGram.load_weights('my_skipgram32_weights-hw.h5')"
      ],
      "execution_count": 60,
      "outputs": []
    },
    {
      "cell_type": "code",
      "metadata": {
        "id": "7UD13eKki-YA",
        "scrolled": true,
        "colab": {
          "base_uri": "https://localhost:8080/"
        },
        "outputId": "5c656ca6-7de4-46f1-dcd1-ed39e1e57f3a"
      },
      "source": [
        "#Get weight of the embedding layer\n",
        "final_embeddings=SkipGram.get_weights()[0]\n",
        "print(final_embeddings)\n",
        "print(final_embeddings.shape)"
      ],
      "execution_count": 61,
      "outputs": [
        {
          "output_type": "stream",
          "text": [
            "[[ 0.03217584 -0.00633525  0.04837986 ... -0.01650785 -0.04674113\n",
            "   0.03138161]\n",
            " [ 0.53025055  0.47032288  0.4194459  ... -0.10992594 -0.45043236\n",
            "   0.38256776]\n",
            " [ 0.42733765  0.4445961   0.5103343  ... -0.05750939 -0.50145453\n",
            "   0.44299632]\n",
            " ...\n",
            " [ 0.04131928  0.04237149  0.01988628 ...  0.04836312  0.01234924\n",
            "  -0.02553778]\n",
            " [ 0.41542163  0.42954892  0.37651753 ... -0.42746246 -0.42733023\n",
            "   0.502051  ]\n",
            " [-0.00815544  0.04571868 -0.03131225 ...  0.00713114  0.00218074\n",
            "   0.02337874]]\n",
            "(109905, 32)\n"
          ],
          "name": "stdout"
        }
      ]
    },
    {
      "cell_type": "code",
      "metadata": {
        "id": "VHAtz_yLUMBO"
      },
      "source": [
        "dictionary"
      ],
      "execution_count": null,
      "outputs": []
    },
    {
      "cell_type": "markdown",
      "metadata": {
        "id": "8ovPmh6Ri-YC"
      },
      "source": [
        "# Step 5: Intrinsic Evaluation: Word Vector Analogies\n",
        "## <font color='blue'>Homework Question 4: </font>\n",
        "<font color='blue'> Read section 2.1 and 2.3 in this [lecture note](http://web.stanford.edu/class/cs224n/readings/cs224n-2019-notes02-wordvecs2.pdf). Come up with 10 semantic analogy examples and report results produced by your word embeddings </font>\n"
      ]
    },
    {
      "cell_type": "code",
      "metadata": {
        "id": "k8rTxYaLi-YD",
        "colab": {
          "base_uri": "https://localhost:8080/"
        },
        "outputId": "964179e2-a047-4914-9be6-9bc9a7063613"
      },
      "source": [
        "# TODO#4:Come up with 10 semantic analogy examples and report results produced by your word embeddings \n",
        "#and tell us what you observe\n",
        "import scipy\n",
        "import scipy.spatial\n",
        "s = [ ['นก','ไก่','คน' ] , ['พยายาม','หนี','ขยัน'],['คน','ชีวิต','ตาย'],['ปลา','น้ำ','นภา'],['นรก','บาป','บุญ'],['บอล','กีฬา','หมา'],['หนาว','เย็น','ไฟ'],['เพื่อน','แอบ','ชอบ'],['ไทย', \n",
        "'อาเซียน','อังกฤษ'],['คอม','ไฟ','กระดาษ'],['ทหาร','เผด็จการ','ประชาธิปไตย']]\n",
        "for i in s:\n",
        "  \n",
        "  new_word_vec = (final_embeddings[dictionary[i[0]]]-final_embeddings[dictionary[i[1]]]+final_embeddings[dictionary[i[2]]]).reshape(1,-1)\n",
        "  distance = scipy.spatial.distance.cdist(final_embeddings, new_word_vec, 'cosine').reshape(-1)\n",
        "  index = np.argpartition(distance,1)[:1][0]\n",
        "  print(i[0],'-',i[1],'+',i[2],'=',reverse_dictionary[index])\n"
      ],
      "execution_count": 106,
      "outputs": [
        {
          "output_type": "stream",
          "text": [
            "นก - ไก่ + คน = สกุล\n",
            "พยายาม - หนี + ขยัน = พฤติกรรม\n",
            "คน - ชีวิต + ตาย = Phantom\n",
            "ปลา - น้ำ + นภา = ออฟ\n",
            "นรก - บาป + บุญ = รู\n",
            "บอล - กีฬา + หมา = นะ\n",
            "หนาว - เย็น + ไฟ = อตุ\n",
            "เพื่อน - แอบ + ชอบ = อะไร\n",
            "ไทย - อาเซียน + อังกฤษ = สมาคม\n",
            "คอม - ไฟ + กระดาษ = เลิศ\n",
            "ทหาร - เผด็จการ + ประชาธิปไตย = ประชาชน\n"
          ],
          "name": "stdout"
        }
      ]
    },
    {
      "cell_type": "markdown",
      "metadata": {
        "id": "sLqG8WaNi-YE"
      },
      "source": [
        "# Step 6: Extrinsic Evaluation\n",
        "\n",
        "## <font color='blue'>Homework Question5:</font>\n",
        "<font color='blue'>\n",
        "Use the word embeddings from the skip-gram model as pre-trained weights in a classification model. Compare the result the with the same classification model that does not use the pre-trained weights. \n",
        "</font>\n"
      ]
    },
    {
      "cell_type": "code",
      "metadata": {
        "id": "dBPutcxEi-YF"
      },
      "source": [
        "all_news_filepath = glob.glob('BEST-TrainingSet/news/*.txt')\n",
        "all_novel_filepath = glob.glob('BEST-TrainingSet/novel/*.txt')\n",
        "all_article_filepath = glob.glob('BEST-TrainingSet/article/*.txt')\n",
        "all_encyclopedia_filepath = glob.glob('BEST-TrainingSet/encyclopedia/*.txt')"
      ],
      "execution_count": 53,
      "outputs": []
    },
    {
      "cell_type": "code",
      "metadata": {
        "id": "ZaX-L5n4i-YG"
      },
      "source": [
        "#preparing data for the classificaiton model\n",
        "#In your homework, we will only use the first 2000 words in each text file\n",
        "#any text file that has less than 2000 words will be padded\n",
        "#reason:just to make this homework feasible under limited time and resource\n",
        "max_length = 2000\n",
        "def word_to_index(word):\n",
        "    if word in dictionary:\n",
        "        return dictionary[word]\n",
        "    else:#if unknown\n",
        "        return dictionary[\"UNK\"]\n",
        "\n",
        "\n",
        "def prep_data():\n",
        "    input_text = list()\n",
        "    for textfile_path in [all_news_filepath, all_novel_filepath, all_article_filepath, all_encyclopedia_filepath]:\n",
        "        for input_file in textfile_path:\n",
        "            f = open(input_file,\"r\") #open file with name of \"*.txt\"\n",
        "            text = re.sub(r'\\|', ' ', f.read()) # replace separation symbol with white space           \n",
        "            text = re.sub(r'<\\W?\\w+>', '', text)# remove <NE> </NE> <AB> </AB> tags\n",
        "            text = text.split() #split() method without an argument splits on whitespace \n",
        "            indexed_text = list(map(lambda x:word_to_index(x), text[:max_length])) #map raw word string to its index   \n",
        "            if 'news' in input_file:\n",
        "                input_text.append([indexed_text,0]) \n",
        "            elif 'novel' in input_file:\n",
        "                input_text.append([indexed_text,1]) \n",
        "            elif 'article' in input_file:\n",
        "                input_text.append([indexed_text,2]) \n",
        "            elif 'encyclopedia' in input_file:\n",
        "                input_text.append([indexed_text,3]) \n",
        "            \n",
        "            f.close()\n",
        "    random.shuffle(input_text)\n",
        "    return input_text\n",
        "\n",
        "input_data = prep_data()\n",
        "train_data = input_data[:int(len(input_data)*0.6)]\n",
        "val_data = input_data[int(len(input_data)*0.6):int(len(input_data)*0.8)]\n",
        "test_data = input_data[int(len(input_data)*0.8):]\n",
        "\n",
        "train_input = [data[0] for data in train_data]\n",
        "train_input = sequence.pad_sequences(train_input, maxlen=max_length) #padding\n",
        "train_target = [data[1] for data in train_data]\n",
        "train_target=to_categorical(train_target, num_classes=4)\n",
        "\n",
        "val_input = [data[0] for data in val_data]\n",
        "val_input = sequence.pad_sequences(val_input, maxlen=max_length) #padding\n",
        "val_target = [data[1] for data in val_data]\n",
        "val_target=to_categorical(val_target, num_classes=4)\n",
        "\n",
        "test_input = [data[0] for data in test_data]\n",
        "test_input = sequence.pad_sequences(test_input, maxlen=max_length) #padding\n",
        "test_target = [data[1] for data in test_data]\n",
        "test_target=to_categorical(test_target, num_classes=4)\n",
        "\n",
        "del input_data, val_data,train_data, test_data"
      ],
      "execution_count": 54,
      "outputs": []
    },
    {
      "cell_type": "code",
      "metadata": {
        "id": "syrKnUxWi-YI",
        "colab": {
          "base_uri": "https://localhost:8080/"
        },
        "outputId": "33a12282-4b3e-4a76-a7ea-9411235c6e69"
      },
      "source": [
        "#the classification model\n",
        "#TODO#5 find out how to initialize your embedding layer with pre-trained weights, evaluate and observe\n",
        "#don't forget to compare it with the same model that does not use pre-trained weights\n",
        "#you can use your own model too! and feel free to customize this model as you wish\n",
        "cls_model = Sequential()\n",
        "cls_model.add(Embedding(len(dictionary)+1, 32, input_length=max_length,mask_zero=True))\n",
        "cls_model.add(GRU(32))\n",
        "cls_model.add(Dropout(0.5))\n",
        "cls_model.add(Dense(4, activation='softmax'))\n",
        "opt=Adam(lr=0.01)\n",
        "cls_model.compile(loss='categorical_crossentropy', optimizer=opt, metrics=['accuracy'])\n",
        "cls_model.summary()\n",
        "print('Train...')\n",
        "cls_model.fit(train_input, train_target,\n",
        "          epochs=10,\n",
        "          validation_data=[val_input, val_target])"
      ],
      "execution_count": 55,
      "outputs": [
        {
          "output_type": "stream",
          "text": [
            "Model: \"sequential\"\n",
            "_________________________________________________________________\n",
            "Layer (type)                 Output Shape              Param #   \n",
            "=================================================================\n",
            "embedding_2 (Embedding)      (None, 2000, 32)          3516960   \n",
            "_________________________________________________________________\n",
            "gru (GRU)                    (None, 32)                6336      \n",
            "_________________________________________________________________\n",
            "dropout (Dropout)            (None, 32)                0         \n",
            "_________________________________________________________________\n",
            "dense (Dense)                (None, 4)                 132       \n",
            "=================================================================\n",
            "Total params: 3,523,428\n",
            "Trainable params: 3,523,428\n",
            "Non-trainable params: 0\n",
            "_________________________________________________________________\n",
            "Train...\n",
            "Epoch 1/10\n",
            "10/10 [==============================] - 33s 3s/step - loss: 1.3688 - accuracy: 0.3216 - val_loss: 0.0000e+00 - val_accuracy: 0.0000e+00\n",
            "Epoch 2/10\n",
            "10/10 [==============================] - 26s 3s/step - loss: 1.2448 - accuracy: 0.4359 - val_loss: 0.0000e+00 - val_accuracy: 0.0000e+00\n",
            "Epoch 3/10\n",
            "10/10 [==============================] - 22s 2s/step - loss: 0.7487 - accuracy: 0.7180 - val_loss: 0.0000e+00 - val_accuracy: 0.0000e+00\n",
            "Epoch 4/10\n",
            "10/10 [==============================] - 22s 2s/step - loss: 0.3332 - accuracy: 0.8708 - val_loss: 0.0000e+00 - val_accuracy: 0.0000e+00\n",
            "Epoch 5/10\n",
            "10/10 [==============================] - 19s 2s/step - loss: 0.1648 - accuracy: 0.9549 - val_loss: 0.0000e+00 - val_accuracy: 0.0000e+00\n",
            "Epoch 6/10\n",
            "10/10 [==============================] - 19s 2s/step - loss: 0.0702 - accuracy: 0.9924 - val_loss: 0.0000e+00 - val_accuracy: 0.0000e+00\n",
            "Epoch 7/10\n",
            "10/10 [==============================] - 26s 2s/step - loss: 0.0368 - accuracy: 0.9947 - val_loss: 0.0000e+00 - val_accuracy: 0.0000e+00\n",
            "Epoch 8/10\n",
            "10/10 [==============================] - 26s 2s/step - loss: 0.0143 - accuracy: 0.9987 - val_loss: 0.0000e+00 - val_accuracy: 0.0000e+00\n",
            "Epoch 9/10\n",
            "10/10 [==============================] - 26s 2s/step - loss: 0.0130 - accuracy: 1.0000 - val_loss: 0.0000e+00 - val_accuracy: 0.0000e+00\n",
            "Epoch 10/10\n",
            "10/10 [==============================] - 22s 2s/step - loss: 0.0065 - accuracy: 1.0000 - val_loss: 0.0000e+00 - val_accuracy: 0.0000e+00\n"
          ],
          "name": "stdout"
        },
        {
          "output_type": "execute_result",
          "data": {
            "text/plain": [
              "<tensorflow.python.keras.callbacks.History at 0x7fd2bf016400>"
            ]
          },
          "metadata": {
            "tags": []
          },
          "execution_count": 55
        }
      ]
    },
    {
      "cell_type": "code",
      "metadata": {
        "id": "4t_dK8l9H92h",
        "colab": {
          "base_uri": "https://localhost:8080/"
        },
        "outputId": "f9600ef4-7003-4284-845d-7c8b84d1bb2e"
      },
      "source": [
        "results = cls_model.evaluate(test_input, test_target)\n",
        "print(\"test loss, test acc:\", results)"
      ],
      "execution_count": 56,
      "outputs": [
        {
          "output_type": "stream",
          "text": [
            "4/4 [==============================] - 2s 110ms/step - loss: 2.8888 - accuracy: 0.4314\n",
            "test loss, test acc: [2.888795852661133, 0.4313725531101227]\n"
          ],
          "name": "stdout"
        }
      ]
    },
    {
      "cell_type": "code",
      "metadata": {
        "id": "4wZU9eEkHy2i",
        "colab": {
          "base_uri": "https://localhost:8080/"
        },
        "outputId": "c0881d1e-d14e-4bdf-d2f9-0c7787d5ac76"
      },
      "source": [
        "cls_model_with_init = Sequential()\r\n",
        "cls_model_with_init.add(Embedding(len(dictionary)+1, 32, input_length=max_length,mask_zero=True,weights=[final_embeddings]))\r\n",
        "cls_model_with_init.add(GRU(32))\r\n",
        "cls_model_with_init.add(Dropout(0.5))\r\n",
        "cls_model_with_init.add(Dense(4, activation='softmax'))\r\n",
        "opt=Adam(lr=0.01)\r\n",
        "cls_model_with_init.compile(loss='categorical_crossentropy', optimizer=opt, metrics=['accuracy'])\r\n",
        "cls_model_with_init.summary()\r\n",
        "print('Train...')\r\n",
        "cls_model_with_init.fit(train_input, train_target,\r\n",
        "          epochs=10,\r\n",
        "          validation_data=[val_input, val_target])"
      ],
      "execution_count": 104,
      "outputs": [
        {
          "output_type": "stream",
          "text": [
            "Model: \"sequential_1\"\n",
            "_________________________________________________________________\n",
            "Layer (type)                 Output Shape              Param #   \n",
            "=================================================================\n",
            "embedding_3 (Embedding)      (None, 2000, 32)          3516960   \n",
            "_________________________________________________________________\n",
            "gru_1 (GRU)                  (None, 32)                6336      \n",
            "_________________________________________________________________\n",
            "dropout_1 (Dropout)          (None, 32)                0         \n",
            "_________________________________________________________________\n",
            "dense_1 (Dense)              (None, 4)                 132       \n",
            "=================================================================\n",
            "Total params: 3,523,428\n",
            "Trainable params: 3,523,428\n",
            "Non-trainable params: 0\n",
            "_________________________________________________________________\n",
            "Train...\n",
            "Epoch 1/10\n",
            "10/10 [==============================] - 31s 3s/step - loss: 1.4372 - accuracy: 0.2932 - val_loss: 0.0000e+00 - val_accuracy: 0.0000e+00\n",
            "Epoch 2/10\n",
            "10/10 [==============================] - 26s 2s/step - loss: 1.2926 - accuracy: 0.3994 - val_loss: 0.0000e+00 - val_accuracy: 0.0000e+00\n",
            "Epoch 3/10\n",
            "10/10 [==============================] - 26s 2s/step - loss: 1.2632 - accuracy: 0.3999 - val_loss: 0.0000e+00 - val_accuracy: 0.0000e+00\n",
            "Epoch 4/10\n",
            "10/10 [==============================] - 26s 2s/step - loss: 1.0829 - accuracy: 0.5668 - val_loss: 0.0000e+00 - val_accuracy: 0.0000e+00\n",
            "Epoch 5/10\n",
            "10/10 [==============================] - 26s 2s/step - loss: 0.8601 - accuracy: 0.7329 - val_loss: 0.0000e+00 - val_accuracy: 0.0000e+00\n",
            "Epoch 6/10\n",
            "10/10 [==============================] - 26s 2s/step - loss: 0.5484 - accuracy: 0.7898 - val_loss: 0.0000e+00 - val_accuracy: 0.0000e+00\n",
            "Epoch 7/10\n",
            "10/10 [==============================] - 30s 3s/step - loss: 0.3391 - accuracy: 0.8831 - val_loss: 0.0000e+00 - val_accuracy: 0.0000e+00\n",
            "Epoch 8/10\n",
            "10/10 [==============================] - 22s 2s/step - loss: 0.2672 - accuracy: 0.8987 - val_loss: 0.0000e+00 - val_accuracy: 0.0000e+00\n",
            "Epoch 9/10\n",
            "10/10 [==============================] - 30s 3s/step - loss: 0.1516 - accuracy: 0.9565 - val_loss: 0.0000e+00 - val_accuracy: 0.0000e+00\n",
            "Epoch 10/10\n",
            "10/10 [==============================] - 26s 2s/step - loss: 0.0807 - accuracy: 0.9905 - val_loss: 0.0000e+00 - val_accuracy: 0.0000e+00\n"
          ],
          "name": "stdout"
        },
        {
          "output_type": "execute_result",
          "data": {
            "text/plain": [
              "<tensorflow.python.keras.callbacks.History at 0x7fd2bd91a438>"
            ]
          },
          "metadata": {
            "tags": []
          },
          "execution_count": 104
        }
      ]
    },
    {
      "cell_type": "code",
      "metadata": {
        "colab": {
          "base_uri": "https://localhost:8080/"
        },
        "id": "RSvvEW90dpo9",
        "outputId": "960d223c-4a9f-4d83-e418-618a388591c5"
      },
      "source": [
        "results_with_init = cls_model_with_init.evaluate(test_input, test_target)\r\n",
        "print(\"without init:test loss, test acc:\", results)\r\n",
        "print(\"with init test loss, test acc:\", results_with_init)"
      ],
      "execution_count": 105,
      "outputs": [
        {
          "output_type": "stream",
          "text": [
            "4/4 [==============================] - 2s 110ms/step - loss: 1.8717 - accuracy: 0.4804\n",
            "without init:test loss, test acc: [2.888795852661133, 0.4313725531101227]\n",
            "with init test loss, test acc: [1.8716546297073364, 0.4803921580314636]\n"
          ],
          "name": "stdout"
        }
      ]
    },
    {
      "cell_type": "code",
      "metadata": {
        "id": "lHjsV8ZoewQc"
      },
      "source": [
        ""
      ],
      "execution_count": null,
      "outputs": []
    }
  ]
}