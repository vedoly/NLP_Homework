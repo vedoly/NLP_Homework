{
  "nbformat": 4,
  "nbformat_minor": 0,
  "metadata": {
    "kernelspec": {
      "display_name": "Python 3",
      "language": "python",
      "name": "python3"
    },
    "language_info": {
      "codemirror_mode": {
        "name": "ipython",
        "version": 3
      },
      "file_extension": ".py",
      "mimetype": "text/x-python",
      "name": "python",
      "nbconvert_exporter": "python",
      "pygments_lexer": "ipython3",
      "version": "3.6.4"
    },
    "colab": {
      "name": "hw4_6031050121",
      "provenance": [],
      "collapsed_sections": [],
      "toc_visible": true
    }
  },
  "cells": [
    {
      "cell_type": "markdown",
      "metadata": {
        "collapsed": true,
        "id": "15QfB7RAuXAc"
      },
      "source": [
        "# Language Modeling using Ngram"
      ]
    },
    {
      "cell_type": "markdown",
      "metadata": {
        "id": "gucid6KNuXAe"
      },
      "source": [
        "In this Exercise, you are going to use NLTK which is a natural language processing library for python to create a bigram language model and its variation. You will build one model for each of the following type and calculate their perplexity:\n",
        "- Unigram Model\n",
        "- Bigram Model\n",
        "- Bigram Model with Laplace smoothing\n",
        "- Bigram Model with Interpolation\n",
        "- Bigram Model with Kneser-ney Interpolation\n",
        "- Neural LM (optional)\n",
        "\n"
      ]
    },
    {
      "cell_type": "code",
      "metadata": {
        "id": "MRRrn78ZjL54",
        "colab": {
          "base_uri": "https://localhost:8080/"
        },
        "outputId": "011c6b7e-ed46-4158-a543-3670daab4fda"
      },
      "source": [
        "#download corpus\n",
        "!wget --no-check-certificate https://github.com/ekapolc/nlp_2019/raw/master/HW4/BEST2010.zip\n",
        "!unzip BEST2010.zip"
      ],
      "execution_count": 1,
      "outputs": [
        {
          "output_type": "stream",
          "text": [
            "--2021-02-14 12:55:22--  https://github.com/ekapolc/nlp_2019/raw/master/HW4/BEST2010.zip\n",
            "Resolving github.com (github.com)... 140.82.121.3\n",
            "Connecting to github.com (github.com)|140.82.121.3|:443... connected.\n",
            "HTTP request sent, awaiting response... 302 Found\n",
            "Location: https://raw.githubusercontent.com/ekapolc/nlp_2019/master/HW4/BEST2010.zip [following]\n",
            "--2021-02-14 12:55:22--  https://raw.githubusercontent.com/ekapolc/nlp_2019/master/HW4/BEST2010.zip\n",
            "Resolving raw.githubusercontent.com (raw.githubusercontent.com)... 185.199.108.133, 185.199.109.133, 185.199.110.133, ...\n",
            "Connecting to raw.githubusercontent.com (raw.githubusercontent.com)|185.199.108.133|:443... connected.\n",
            "HTTP request sent, awaiting response... 200 OK\n",
            "Length: 7423530 (7.1M) [application/zip]\n",
            "Saving to: ‘BEST2010.zip’\n",
            "\n",
            "BEST2010.zip        100%[===================>]   7.08M  --.-KB/s    in 0.1s    \n",
            "\n",
            "2021-02-14 12:55:23 (53.4 MB/s) - ‘BEST2010.zip’ saved [7423530/7423530]\n",
            "\n",
            "Archive:  BEST2010.zip\n",
            "   creating: BEST2010/\n",
            "  inflating: BEST2010/article.txt    \n",
            "  inflating: BEST2010/encyclopedia.txt  \n",
            "  inflating: BEST2010/news.txt       \n"
          ],
          "name": "stdout"
        }
      ]
    },
    {
      "cell_type": "code",
      "metadata": {
        "id": "GjJDeG03uXAf"
      },
      "source": [
        "#First we import necessary library such as math, nltk, bigram, and collections.\n",
        "import math\n",
        "import nltk\n",
        "import io\n",
        "import random\n",
        "from random import shuffle\n",
        "from nltk import bigrams, trigrams\n",
        "from collections import Counter, defaultdict\n",
        "random.seed(999)"
      ],
      "execution_count": 2,
      "outputs": []
    },
    {
      "cell_type": "markdown",
      "metadata": {
        "id": "HugXBHNEuXAh"
      },
      "source": [
        "BEST2010 is a free Thai NLP dataset by NECTEC usually use as a standard benchmark for various NLP tasks includeing language modeling. BEST2010 is separated into 4 domain article, encyclopedia, news and novel. The data is already  tokenized using '|' as a separator.\n",
        "\n",
        "For example,\n",
        "\n",
        "ตาม|ที่|นางประนอม ทองจันทร์| |กับ| |ด.ช.กิตติพงษ์ แหลมผักแว่น| |และ| |ด.ญ.กาญจนา กรองแก้ว| |ป่วย|สงสัย|ติด|เชื้อ|ไข้|ขณะ|นี้|ยัง|ไม่|ดี|ขึ้น|"
      ]
    },
    {
      "cell_type": "code",
      "metadata": {
        "id": "iu-AJSZZuXAi"
      },
      "source": [
        "# We choose news domain as our dataset\n",
        "best2010=[]\n",
        "fp= io.open('BEST2010/news.txt','r',encoding='utf-8')\n",
        "for i,line in enumerate(fp):\n",
        "    best2010.append(line.strip()[:-1])\n",
        "fp.close()\n",
        "all_vocabulary =set()\n",
        "total_word_count =0\n",
        "for line in best2010:\n",
        "    for word in line.split('|'):        \n",
        "        all_vocabulary.add(word)\n",
        "        total_word_count+=1"
      ],
      "execution_count": 3,
      "outputs": []
    },
    {
      "cell_type": "code",
      "metadata": {
        "id": "3WfpGgbruXAj",
        "colab": {
          "base_uri": "https://localhost:8080/"
        },
        "outputId": "4b4890dd-bd79-4701-eb89-21d4e2a44cc7"
      },
      "source": [
        "#For simplicity, we assumes that each line is a sentence.\n",
        "print ('Total sentences in BEST2010 news dataset :\\t'+ str(len(best2010)))\n",
        "print ('Total word counts in BEST2010 news dataset :\\t'+ str(total_word_count))\n",
        "print ('Total vocabulary in BEST2010 news dataset :\\t'+ str(len(all_vocabulary)))"
      ],
      "execution_count": 4,
      "outputs": [
        {
          "output_type": "stream",
          "text": [
            "Total sentences in BEST2010 news dataset :\t30969\n",
            "Total word counts in BEST2010 news dataset :\t1660190\n",
            "Total vocabulary in BEST2010 news dataset :\t35488\n"
          ],
          "name": "stdout"
        }
      ]
    },
    {
      "cell_type": "markdown",
      "metadata": {
        "id": "_JD9iXF1uXAm"
      },
      "source": [
        "We separate out input into 2 sets, train and test data with 70:30 ratio"
      ]
    },
    {
      "cell_type": "code",
      "metadata": {
        "id": "_WGcQq_juXAm",
        "colab": {
          "base_uri": "https://localhost:8080/"
        },
        "outputId": "d69e7c2d-9fda-4e30-c111-a65cee7334aa"
      },
      "source": [
        "sentences = best2010\n",
        "# The data is separated to train and test set with 70:30 ratio.\n",
        "train = sentences[:int(len(sentences)*0.7)]\n",
        "test = sentences[int(len(sentences)*0.7):]\n",
        "\n",
        "#Training data\n",
        "train_vocabulary =set()\n",
        "train_word_count =0\n",
        "for line in train:\n",
        "    for word in line.split('|'):        \n",
        "        train_vocabulary.add(word)\n",
        "        train_word_count+=1\n",
        "print ('Total sentences in BEST2010 news training dataset :\\t'+ str(len(train)))\n",
        "print ('Total word counts in BEST2010 news training dataset :\\t'+ str(train_word_count))\n",
        "print ('Total vocabuary in BEST2010 news training dataset :\\t'+ str(len(train_vocabulary)))\n",
        "# We will use 1/vocab_size as a default value for unknown word\n",
        "unk_value = math.pow(len(train_vocabulary),-1)"
      ],
      "execution_count": 5,
      "outputs": [
        {
          "output_type": "stream",
          "text": [
            "Total sentences in BEST2010 news training dataset :\t21678\n",
            "Total word counts in BEST2010 news training dataset :\t1042797\n",
            "Total vocabuary in BEST2010 news training dataset :\t26240\n"
          ],
          "name": "stdout"
        }
      ]
    },
    {
      "cell_type": "markdown",
      "metadata": {
        "id": "pHtCMFMluXAo"
      },
      "source": [
        "# Unigram"
      ]
    },
    {
      "cell_type": "markdown",
      "metadata": {
        "id": "2V1WQTGzuXAp"
      },
      "source": [
        "In this section, we will demonstrate how to build a unigram language model <br>\n",
        "**Important note:** <br>\n",
        "**\\<s\\>** = sentence start symbol <br>\n",
        "**\\</s\\>** = sentence end symbol "
      ]
    },
    {
      "cell_type": "code",
      "metadata": {
        "id": "vQjO4wX_uXAp"
      },
      "source": [
        "def getUnigramModel(data):\n",
        "    model = defaultdict(lambda: 0)\n",
        "    word_count =0\n",
        "    for sentence in data:\n",
        "        sentence +=  u'|</s>' #for unigram model we can always ignore <s>, since p(w0=<s>)=1\n",
        "        for w1 in sentence.split('|'):\n",
        "            model[w1] +=1.0\n",
        "            word_count+=1\n",
        "    for w1 in model:\n",
        "        model[w1] = model[w1]/(word_count)\n",
        "    return model"
      ],
      "execution_count": 6,
      "outputs": []
    },
    {
      "cell_type": "code",
      "metadata": {
        "id": "dxoVqkfuuXAr"
      },
      "source": [
        "model = getUnigramModel(train)"
      ],
      "execution_count": 7,
      "outputs": []
    },
    {
      "cell_type": "code",
      "metadata": {
        "id": "6coGxSY7uXAt"
      },
      "source": [
        "def getLnValue(x):\n",
        "    if x >0.0:\n",
        "        return math.log(x)\n",
        "    else:\n",
        "        return math.log(unk_value)"
      ],
      "execution_count": 8,
      "outputs": []
    },
    {
      "cell_type": "code",
      "metadata": {
        "id": "cFy8yhZjuXAv",
        "colab": {
          "base_uri": "https://localhost:8080/"
        },
        "outputId": "bd0640de-bd36-4fc5-99a6-50beed8d36db"
      },
      "source": [
        "#problability of 'นายก'\n",
        "print(getLnValue(model[u'นายก']))\n",
        "#for example, problability of 'นายกรัฐมนตรี' which is an unknown word is equal to\n",
        "print(getLnValue(model[u'นายกรัฐมนตรี']))\n",
        "#problability of 'นายก' 'ได้' 'ให้' 'สัมภาษณ์' 'กับ' 'สื่อ'\n",
        "prob = getLnValue(model[u'นายก'])+getLnValue(model[u'ได้'])+ getLnValue(model[u'ให้'])+getLnValue(model[u'สัมภาษณ์'])+getLnValue(model[u'กับ'])+getLnValue(model[u'สื่อ'])+getLnValue(model['</s>'])\n",
        "print ('Problability of a sentence', math.exp(prob))"
      ],
      "execution_count": 9,
      "outputs": [
        {
          "output_type": "stream",
          "text": [
            "-6.551526663995246\n",
            "-10.175040243058024\n",
            "Problability of a sentence 5.617210748667918e-18\n"
          ],
          "name": "stdout"
        }
      ]
    },
    {
      "cell_type": "markdown",
      "metadata": {
        "id": "D8EfqnDsuXAw"
      },
      "source": [
        "# Perplexity\n",
        "\n",
        "In order to compare language model we need to calculate perplexity. In this task you should write a perplexity calculation code for the unigram model. The result perplexity should be around 556.39 and\n",
        "476.07 on train and test data."
      ]
    },
    {
      "cell_type": "markdown",
      "metadata": {
        "id": "qDbyLBEggie0"
      },
      "source": [
        "# TODO #0\n",
        "**Fill your name and ID here** <br>\n",
        "**Name**: Ravipas Aphikulvanich\n",
        "<br>\n",
        "**ID**: 6031050121"
      ]
    },
    {
      "cell_type": "markdown",
      "metadata": {
        "id": "hZHQ-6tVuXAx"
      },
      "source": [
        "## TODO #1 **Calculate perplexity**"
      ]
    },
    {
      "cell_type": "code",
      "metadata": {
        "id": "kh0DwzoouXAx"
      },
      "source": [
        "import math\n",
        "def calculate_sentence_ln_prob(sentence, model):\n",
        "  \n",
        "  out = 0\n",
        "  count = 0\n",
        "  words = sentence.split('|')\n",
        "  for k in words:\n",
        "\n",
        "    out += getLnValue(model[k])\n",
        "    \n",
        "  return out,len(words)\n",
        "\n",
        "    \n",
        "\n",
        "\n",
        "def perplexity(test,model):\n",
        "    out = 0\n",
        "    count = 0\n",
        "\n",
        "    for i,sentence in enumerate(test):\n",
        "      sentence += '|</s>'\n",
        "     \n",
        "     \n",
        "      n = len(sentence.split('|'))\n",
        "\n",
        "      out+=   calculate_sentence_ln_prob(sentence,model)[0] \n",
        "      count += calculate_sentence_ln_prob(sentence,model)[1] \n",
        "    \n",
        "    return math.e ** ( -out/count)\n",
        "  "
      ],
      "execution_count": 10,
      "outputs": []
    },
    {
      "cell_type": "code",
      "metadata": {
        "id": "KTkIoVWsuXAz",
        "colab": {
          "base_uri": "https://localhost:8080/"
        },
        "outputId": "54722767-dd17-40ec-b0b6-21a4aa4c40a1"
      },
      "source": [
        "print(perplexity(train,model))\n",
        "print(perplexity(test,model))"
      ],
      "execution_count": 11,
      "outputs": [
        {
          "output_type": "stream",
          "text": [
            "556.3925994212193\n",
            "476.06878923035305\n"
          ],
          "name": "stdout"
        }
      ]
    },
    {
      "cell_type": "markdown",
      "metadata": {
        "id": "gad1QuPAHUoK"
      },
      "source": [
        "## TODO #2 **Please explain why this model give us such a high perplexity.**"
      ]
    },
    {
      "cell_type": "markdown",
      "metadata": {
        "id": "tMbhIO29HT6y"
      },
      "source": [
        "**Your answer**: Because the model are considered by unigram probability which not include information of consecutive words so every calculation that happened, only use independent probability of individual word combine with each other in sentence. \n",
        "They are no clue which next word has more or less probability so it make this model to has high perplexity because we have to take many time for random to guess a correct and valid sentence but if we use priciple of bigram the model may be has a less perplexity  "
      ]
    },
    {
      "cell_type": "markdown",
      "metadata": {
        "id": "lK0gaMf0uXA2"
      },
      "source": [
        "# Bigram"
      ]
    },
    {
      "cell_type": "markdown",
      "metadata": {
        "id": "dmTkAY_QuXA3"
      },
      "source": [
        "Next, you will create a better language model than a unigram (which is not much to compare with). But first, it is very tedious to count every pair of words that occur in our corpus by ourselves. In this case, nltk provide us a simple library which will do it for us."
      ]
    },
    {
      "cell_type": "code",
      "metadata": {
        "id": "Lv6r2LJ1uXA4",
        "colab": {
          "base_uri": "https://localhost:8080/"
        },
        "outputId": "f61a8c5a-1506-4ce1-815a-1411c3940a2e"
      },
      "source": [
        "#example of nltk usage for bigram\n",
        "sentence = 'I always search google for an answer .'\n",
        "\n",
        "print('This is how nltk generate bigram.')\n",
        "for w1,w2 in bigrams(sentence.split(), pad_right=True, pad_left=True):\n",
        "    print (w1,w2)\n",
        "print('None is used as a start and end of sentence symbol.')"
      ],
      "execution_count": 12,
      "outputs": [
        {
          "output_type": "stream",
          "text": [
            "This is how nltk generate bigram.\n",
            "None I\n",
            "I always\n",
            "always search\n",
            "search google\n",
            "google for\n",
            "for an\n",
            "an answer\n",
            "answer .\n",
            ". None\n",
            "None is used as a start and end of sentence symbol.\n"
          ],
          "name": "stdout"
        }
      ]
    },
    {
      "cell_type": "markdown",
      "metadata": {
        "id": "5R2T-6i9uXA6"
      },
      "source": [
        "Now, you should be able to implement a bigram model by yourself. Also, you must create a new perplexity calculation for bigram. The result perplexity should be around 58.78 and 146.26 on train and test data."
      ]
    },
    {
      "cell_type": "code",
      "metadata": {
        "colab": {
          "base_uri": "https://localhost:8080/"
        },
        "id": "Q9WLpA2jj1HA",
        "outputId": "97a4fa71-ecfa-4cef-bcdf-220abaf903ab"
      },
      "source": [
        "len(train)"
      ],
      "execution_count": null,
      "outputs": [
        {
          "output_type": "execute_result",
          "data": {
            "text/plain": [
              "21678"
            ]
          },
          "metadata": {
            "tags": []
          },
          "execution_count": 13
        }
      ]
    },
    {
      "cell_type": "code",
      "metadata": {
        "id": "z8cm8YCcoTjS"
      },
      "source": [
        "model"
      ],
      "execution_count": null,
      "outputs": []
    },
    {
      "cell_type": "code",
      "metadata": {
        "id": "3hOqpf1ekXth"
      },
      "source": [
        "model = defaultdict(lambda: 0)"
      ],
      "execution_count": null,
      "outputs": []
    },
    {
      "cell_type": "code",
      "metadata": {
        "id": "xqLac9STlHwg"
      },
      "source": [
        " model = defaultdict(lambda: defaultdict(lambda: 0))\r\n",
        "    "
      ],
      "execution_count": null,
      "outputs": []
    },
    {
      "cell_type": "markdown",
      "metadata": {
        "id": "9aYkjzTzuXA7"
      },
      "source": [
        "## TODO #3 **Create a Bigram Model**"
      ]
    },
    {
      "cell_type": "code",
      "metadata": {
        "id": "6RdVLsNTkYNF"
      },
      "source": [
        "model['5']= {'5':'3'}"
      ],
      "execution_count": 13,
      "outputs": []
    },
    {
      "cell_type": "code",
      "metadata": {
        "id": "ZhnAa1XuuXA7"
      },
      "source": [
        "def getBigramModel(data):\n",
        "  count = defaultdict(lambda: 0)\n",
        "  model = defaultdict(lambda: defaultdict(lambda: 0))\n",
        " \n",
        "  for sentence in data:\n",
        "    # sentence += '|<\\s>'\n",
        "    # sentence += '<s>|'\n",
        "    for w1,w2 in bigrams(sentence.split('|'), pad_right=True, pad_left=True):\n",
        "      model[w1][w2] += 1\n",
        "      count[w1] +=  1\n",
        "\n",
        "  for key in model:\n",
        "    for key2 in model[key]:\n",
        "      model[key][key2] /= count[key]\n",
        "\n",
        "\n",
        "  return model\n",
        "\n",
        "model = getBigramModel(train)"
      ],
      "execution_count": 14,
      "outputs": []
    },
    {
      "cell_type": "code",
      "metadata": {
        "colab": {
          "base_uri": "https://localhost:8080/",
          "height": 103
        },
        "id": "p-U1GstAl6eB",
        "outputId": "5bc47fd7-349c-490f-a28c-8f1369eb76ef"
      },
      "source": [
        "model"
      ],
      "execution_count": null,
      "outputs": [
        {
          "output_type": "execute_result",
          "data": {
            "application/vnd.google.colaboratory.intrinsic+json": {
              "type": "string"
            },
            "text/plain": [
              "'หลัง|เข้า|เยี่ยม|ดู|อาการ|ผู้|ป่วย|แล้ว| |น.พ.จรัล|ประชุม|ร่วม|กับ|เจ้าหน้าที่|ทุก|ฝ่าย| |เพื่อ|สรุป|ผล|การ|ดำเนิน|การ| |รวม|ทั้ง|สอบสวน|โรค|ก่อน|ที่|ผู้|ป่วย|จะ|ถูก|ส่ง|มา|รักษา|ตัว| |จาก|นั้น|ร่วม|กัน|แถลง|ข่าว| |โดย| |น.พ.จรัล|กล่าว|ว่า| |ขณะ|นี้|ผู้|ป่วย|ทั้ง| |3| |ราย| |อาการ|ยัง|ทรง| |โดย|ใน|ราย|ของ| |ด.ช.กิตติพงษ์| |กับ| |ด.ญ.กาญจนา| |ปอด|หาย|เป็น|ปกติ|แล้ว| |คาด|ว่า|จะ|กลับ|บ้าน|ได้|ใน|ไม่|ช้า|นี้| |แต่|ใน|ราย|ของ|นางประนอม|อาการ|ยัง|น่า|เป็นห่วง| |ซึ่ง|ทั้ง| |3| |ราย| |ใน|ชั้น|นี้|ถือ|ว่า|เป็น|ผู้|ป่วย|อยู่|ใน|ขั้น|น่า|สงสัย|อาจ|ติด|เชื้อ|ไข้|หวัด|นก| |เพราะ|ตรวจ|พบ|ผู้|ป่วย|มี|อาการ|ปอด|บวม|ปอด|อักเสบ| |เนื่อง|จาก|ติด|เชื้อ|ไวรัส| |แต่|ยัง|สรุป|ไม่|ได้|ว่า|ติด|เชื้อ|ไข้|หวัด|นก|แน่ชัด|หรือ|ไม่| |ต้อง|รอ|ผล|ตรวจ|จาก|ห้อง|ปฏิบัติการ|ที่|ได้|ส่ง|ตัวอย่าง|เลือด| |ไป|ตรวจ|พิสูจน์|ที่|กรมวิทยาศาสตร์การแพทย์กระทรวงสาธารณสุข| |และ| |รพ.ศิริราช| |ซึ่ง|จะ|ทราบ|ผล|ใน|วัน|สอง|วัน|นี้'"
            ]
          },
          "metadata": {
            "tags": []
          },
          "execution_count": 56
        }
      ]
    },
    {
      "cell_type": "code",
      "metadata": {
        "id": "kOqobA88pXj8"
      },
      "source": [
        "for w1,w2 in bigrams(sentence.split('|'), pad_right=True, pad_left=True):\r\n",
        "      model[w1][w2] += 1\r\n",
        "      count +=  1"
      ],
      "execution_count": null,
      "outputs": []
    },
    {
      "cell_type": "markdown",
      "metadata": {
        "id": "i3_Cgu6guXA-"
      },
      "source": [
        "## TODO #4 **Calculate Perplexity for Bigram Model**\n",
        "\n"
      ]
    },
    {
      "cell_type": "code",
      "metadata": {
        "id": "4i3NoQGfuXA-"
      },
      "source": [
        "def calculate_sentence_ln_prob(sentence, model):\n",
        "    out = 0\n",
        "\n",
        "    for w1,w2 in bigrams(sentence.split('|'), pad_right=True, pad_left=True):\n",
        "      # model[w1][w2] += 1\n",
        "\n",
        "      out += getLnValue(model[w1][w2])\n",
        "    return out\n",
        "\n",
        "def perplexity(test,model):\n",
        "    count = 0\n",
        "    out = 0\n",
        "    \n",
        "\n",
        "    for i,sentence in enumerate(test):\n",
        "      # sentence += '|</s>'\n",
        "      # sentence = '<s>|' + sentence \n",
        "     \n",
        "      n = len(sentence.split('|')) + 1\n",
        "      count += n\n",
        "\n",
        "      out+=   calculate_sentence_ln_prob(sentence,model)\n",
        "\n",
        "    \n",
        "    return math.e ** ( -out/count)"
      ],
      "execution_count": 17,
      "outputs": []
    },
    {
      "cell_type": "code",
      "metadata": {
        "id": "OC1L5YWfuXBA",
        "colab": {
          "base_uri": "https://localhost:8080/"
        },
        "outputId": "34dd8834-4d33-49a5-99ee-eead3de1074f"
      },
      "source": [
        "print (perplexity(train,model) )\n",
        "print (perplexity(test, model))\n",
        "\n",
        "# 58.78942889767147\n",
        "# 146.26539331038614"
      ],
      "execution_count": 18,
      "outputs": [
        {
          "output_type": "stream",
          "text": [
            "58.789428897671456\n",
            "146.26539331038612\n"
          ],
          "name": "stdout"
        }
      ]
    },
    {
      "cell_type": "markdown",
      "metadata": {
        "id": "9BAF9DQbuXBC"
      },
      "source": [
        "# Smoothing"
      ]
    },
    {
      "cell_type": "code",
      "metadata": {
        "id": "BxWDABACuAgf"
      },
      "source": [
        "def getBigramModelLaplace(data):\r\n",
        "  count = defaultdict(lambda: 1)\r\n",
        "  model = defaultdict(lambda: defaultdict(lambda: 1))\r\n",
        " \r\n",
        "  for sentence in data:\r\n",
        "    # sentence += '|<\\s>'\r\n",
        "    # sentence += '<s>|'\r\n",
        "    for w1,w2 in bigrams(sentence.split('|'), pad_right=True, pad_left=True):\r\n",
        "      model[w1][w2] += 1\r\n",
        "      count[w1] +=  1\r\n",
        "\r\n",
        "  for key in model:\r\n",
        "    for key2 in model[key]:\r\n",
        "      model[key][key2] /= count[key]\r\n",
        "\r\n",
        "\r\n",
        "  return model\r\n",
        "\r\n",
        "model = getBigramModel(train)"
      ],
      "execution_count": 19,
      "outputs": []
    },
    {
      "cell_type": "markdown",
      "metadata": {
        "id": "jwa7YQiouXBD"
      },
      "source": [
        "## TODO #5 **Bigram with Laplace smoothing (Add-One Smoothing)**"
      ]
    },
    {
      "cell_type": "code",
      "metadata": {
        "id": "hnDlweIQuXBD",
        "colab": {
          "base_uri": "https://localhost:8080/"
        },
        "outputId": "7d5d2495-9c0e-45de-dd97-63c54a76d687"
      },
      "source": [
        "#Laplace Smoothing\n",
        "def getBigramWithLaplaceSmoothing(data):\n",
        "  count = defaultdict(lambda: 0)\n",
        "  model = defaultdict(lambda: defaultdict(lambda: 0))\n",
        "  unk_value = math.pow(len(train_vocabulary),-1)\n",
        "  for sentence in data:\n",
        "    # sentence += '|<\\s>'\n",
        "    # sentence += '<s>|'\n",
        "    for w1,w2 in bigrams(sentence.split('|'), pad_right=True, pad_left=True):\n",
        "      model[w1][w2] += 1\n",
        "      count[w1] +=  1\n",
        "\n",
        "  for key in model:\n",
        "    for key2 in model[key]:\n",
        "      model[key][key2] = (model[key][key2] + 1)/(count[key] + len(count))\n",
        "    \n",
        "\n",
        "\n",
        "\n",
        "  return model\n",
        "\n",
        "model = getBigramWithLaplaceSmoothing(train)\n",
        "print (perplexity(train,model) )\n",
        "print (perplexity(test, model))\n",
        "\n",
        "# 974.8134581679766\n",
        "# 1098.1622194979489"
      ],
      "execution_count": 20,
      "outputs": [
        {
          "output_type": "stream",
          "text": [
            "974.8134581679763\n",
            "1098.1622194979484\n"
          ],
          "name": "stdout"
        }
      ]
    },
    {
      "cell_type": "code",
      "metadata": {
        "id": "vthZoO8TyYCh"
      },
      "source": [
        "def getUnigramModel2(data,word_count):\r\n",
        "\r\n",
        "\r\n",
        "    model = defaultdict(lambda: 0)\r\n",
        "\r\n",
        "    for sentence in data:\r\n",
        "        # sentence +=  u'|</s>' #for unigram model we can always ignore <s>, since p(w0=<s>)=1\r\n",
        "        for w1,w2 in bigrams(sentence.split('|'), pad_right=True, pad_left=True):\r\n",
        "            model[w1] +=1.0\r\n",
        "    for w1 in model:\r\n",
        "        model[w1] = model[w1]/word_count\r\n",
        "    return model"
      ],
      "execution_count": 21,
      "outputs": []
    },
    {
      "cell_type": "code",
      "metadata": {
        "colab": {
          "base_uri": "https://localhost:8080/"
        },
        "id": "6hPjip5P0IJW",
        "outputId": "d179d9e4-5365-4506-a99d-74613571a8c2"
      },
      "source": [
        "unk_value"
      ],
      "execution_count": null,
      "outputs": [
        {
          "output_type": "execute_result",
          "data": {
            "text/plain": [
              "3.8109756097560976e-05"
            ]
          },
          "metadata": {
            "tags": []
          },
          "execution_count": 111
        }
      ]
    },
    {
      "cell_type": "markdown",
      "metadata": {
        "id": "5JDswBSIuXBG"
      },
      "source": [
        "## TODO #6 **Bigram with Interpolation**\n",
        "lambda value is 0.7 for bigram, 0.25 for unigram, and 0.05 for unknown word"
      ]
    },
    {
      "cell_type": "code",
      "metadata": {
        "id": "pskrwklHuXBI",
        "colab": {
          "base_uri": "https://localhost:8080/"
        },
        "outputId": "4ded5e5b-277e-4bcc-df98-ff576b92e555"
      },
      "source": [
        "#interpolation\n",
        "def getBigramWithInterpolation(data):\n",
        "  # count = defaultdict(lambda: 0)\n",
        "  model = getBigramModel(data)\n",
        "  unigram = getUnigramModel2(data,train_word_count)\n",
        "  \n",
        "\n",
        "  for key in model:\n",
        "    for key2 in model[key]:\n",
        "      model[key][key2] *= 0.70\n",
        "\n",
        "  for key in model:\n",
        "    for key2 in model[key]:\n",
        "      model[key][key2] += 0.25*unigram[key2]\n",
        "\n",
        "  for key in model:\n",
        "    for key2 in model[key]:\n",
        "      model[key][key2] += 0.05*unk_value\n",
        "\n",
        "    \n",
        "  return model\n",
        "  \n",
        "\n",
        "    \n",
        "model = getBigramWithInterpolation(train)\n",
        "print (perplexity(train,model))        \n",
        "print (perplexity(test,model))\n",
        "\n",
        "# 73.38409869825665\n",
        "# 172.67485908813356"
      ],
      "execution_count": 22,
      "outputs": [
        {
          "output_type": "stream",
          "text": [
            "73.38409869825664\n",
            "172.6748590881335\n"
          ],
          "name": "stdout"
        }
      ]
    },
    {
      "cell_type": "markdown",
      "metadata": {
        "id": "90FupFyQuXBL"
      },
      "source": [
        "the result perplexity on training and testing should be \n",
        "\n",
        "    974.81, 1098.16 for Laplace smoothing\n",
        "    73.38, 172.67 for Interpolation"
      ]
    },
    {
      "cell_type": "markdown",
      "metadata": {
        "id": "pUorP-EWuXBM"
      },
      "source": [
        "# Language modeling on multiple domains\n",
        "\n",
        "Sometimes, we do not have enough data to create a language model for a new domain. In that case, we can improvised by combining several models to improve result on the new domain.\n",
        "\n",
        "In this exercise you will try to merge two language models from news and article domains to create a language model for the encyclopedia domain."
      ]
    },
    {
      "cell_type": "code",
      "metadata": {
        "id": "Jel9Hx69uXBN"
      },
      "source": [
        "# create article data\n",
        "encyclo_data=[]\n",
        "fp= io.open('BEST2010/encyclopedia.txt','r',encoding='utf-8')\n",
        "for i,line in enumerate(fp):\n",
        "    encyclo_data.append(line.strip()[:-1])\n",
        "fp.close()"
      ],
      "execution_count": 23,
      "outputs": []
    },
    {
      "cell_type": "markdown",
      "metadata": {
        "id": "9skdgo8muXBO"
      },
      "source": [
        "First, you should try to calculate perplexity of your bigram with interpolation using \"news data\" (train) on \"encyclopedia data\" (test). The result perplexity should be around 727.35.\n",
        "\n",
        "For your information, a bigram model with interpolation using \"ariticle data\" (train) to test on \"encyclopedia data\" (test) has a perplexity of 505.79."
      ]
    },
    {
      "cell_type": "code",
      "metadata": {
        "id": "x0l91qLEuXBP",
        "colab": {
          "base_uri": "https://localhost:8080/"
        },
        "outputId": "06dddf5c-f9f1-4665-8d1b-13c4149f86d5"
      },
      "source": [
        "# print perplexity of bigram with interpolation on article data        \n",
        "# 727.3502637212223\n",
        "print (perplexity(encyclo_data,model))"
      ],
      "execution_count": 24,
      "outputs": [
        {
          "output_type": "stream",
          "text": [
            "727.3502637212221\n"
          ],
          "name": "stdout"
        }
      ]
    },
    {
      "cell_type": "code",
      "metadata": {
        "id": "Cz3Jl-yP3T8o"
      },
      "source": [
        "# create article data\r\n",
        "data=[]\r\n",
        "\r\n",
        "fp= io.open('BEST2010/article.txt','r',encoding='utf-8')\r\n",
        "for i,line in enumerate(fp):\r\n",
        "    data.append(line.strip()[:-1])\r\n",
        "fp.close()\r\n",
        "\r\n",
        "\r\n",
        "fp= io.open('BEST2010/news.txt','r',encoding='utf-8')\r\n",
        "for i,line in enumerate(fp):\r\n",
        "    data.append(line.strip()[:-1])\r\n",
        "fp.close()\r\n",
        "\r\n",
        "\r\n",
        "all_vocabulary =set()\r\n",
        "total_word_count =0\r\n",
        "for line in data:\r\n",
        "    for word in line.split('|'):        \r\n",
        "        all_vocabulary.add(word)\r\n",
        "        total_word_count+=1"
      ],
      "execution_count": 25,
      "outputs": []
    },
    {
      "cell_type": "code",
      "metadata": {
        "colab": {
          "base_uri": "https://localhost:8080/"
        },
        "id": "4x_96_An6LWl",
        "outputId": "a6341996-4d63-436f-a455-897025d589e8"
      },
      "source": [
        "len(all_vocabulary)"
      ],
      "execution_count": null,
      "outputs": [
        {
          "output_type": "execute_result",
          "data": {
            "text/plain": [
              "52581"
            ]
          },
          "metadata": {
            "tags": []
          },
          "execution_count": 38
        }
      ]
    },
    {
      "cell_type": "code",
      "metadata": {
        "id": "ut0rQdtR6Fs2"
      },
      "source": [
        "##interpolation\r\n",
        "def getBigramWithInterpolation2(data,n_vocab):\r\n",
        "  # count = defaultdict(lambda: 0)\r\n",
        "  unk_value = math.pow(n_vocab,-1)\r\n",
        "  model = getBigramModel(data)\r\n",
        "  unigram = getUnigramModel2(data,train_word_count)\r\n",
        "  \r\n",
        "\r\n",
        "  for key in model:\r\n",
        "    for key2 in model[key]:\r\n",
        "      model[key][key2] *= 0.70\r\n",
        "\r\n",
        "  for key in model:\r\n",
        "    for key2 in model[key]:\r\n",
        "      model[key][key2] += 0.25*unigram[key2]\r\n",
        "\r\n",
        "  for key in model:\r\n",
        "    for key2 in model[key]:\r\n",
        "      model[key][key2] += 0.05*unk_value\r\n",
        "\r\n",
        "    \r\n",
        "  return model\r\n",
        "  \r\n",
        "\r\n",
        "    \r\n",
        "\r\n",
        "# 974.8134581679766\r\n",
        "# 1098.1622194979489"
      ],
      "execution_count": 26,
      "outputs": []
    },
    {
      "cell_type": "markdown",
      "metadata": {
        "id": "hwV9j9U-uXBR"
      },
      "source": [
        "## TODO #7 \n",
        "Write a model that produce 450.0 or less perplexity on encyclopedia data without using data from the encyclopedia as training data. (Hint : Try to combine a model with news data and a model with article data together.)"
      ]
    },
    {
      "cell_type": "code",
      "metadata": {
        "id": "wBjmLhUcuXBS",
        "colab": {
          "base_uri": "https://localhost:8080/"
        },
        "outputId": "1a2bd88d-1895-44e9-c6ef-3ecd359648c2"
      },
      "source": [
        "combined_model = getBigramWithInterpolation2(data,len(all_vocabulary))\n",
        "# 428.85251789073953 (on combined data)\n",
        "print('Perplexity of combine Bigram model with interpolation smoothing on encyclopedia test data',perplexity(encyclo_data, combined_model))"
      ],
      "execution_count": 27,
      "outputs": [
        {
          "output_type": "stream",
          "text": [
            "Perplexity of combine Bigram model with interpolation smoothing on encyclopedia test data 364.0662576538735\n"
          ],
          "name": "stdout"
        }
      ]
    },
    {
      "cell_type": "markdown",
      "metadata": {
        "id": "XNPEhD7WuXBV"
      },
      "source": [
        "## TODO #8 \n",
        "## Kneser-ney on \"News\"\n",
        "\n",
        "<!-- Reimplement equation 4.33 in SLP textbook (https://lagunita.stanford.edu/c4x/Engineering/CS-224N/asset/slp4.pdf) -->\n",
        "\n",
        "Implement Bigram Knerser-ney LM. The result perplexity should be around 55.06 and 140.76 on train and test data. \n"
      ]
    },
    {
      "cell_type": "code",
      "metadata": {
        "id": "TfTQWtD0BdsL"
      },
      "source": [
        "def getBigramCount(data):\r\n",
        "\r\n",
        "\r\n",
        "  fw = defaultdict(lambda: defaultdict(lambda: 0))\r\n",
        "  bw = defaultdict(lambda: defaultdict(lambda: 0))\r\n",
        " \r\n",
        "  for sentence in data:\r\n",
        "\r\n",
        "    for w1,w2 in bigrams(sentence.split('|'), pad_right=True, pad_left=True):\r\n",
        "      fw[w1][w2]\r\n",
        "      bw[w2][w1] += 1\r\n",
        "  return fw,bw \r\n",
        "\r\n",
        "def getUniqueAndCount(dic):\r\n",
        "  unique = defaultdict(lambda: 0)\r\n",
        "  count = defaultdict(lambda: 0)\r\n",
        "  for k1 in dic:\r\n",
        "    unique[k1]= len(dic[k1])\r\n",
        "    for k2 in dic[k1]:\r\n",
        "      count[k1] += dic[k1][k2]\r\n",
        "\r\n",
        "  return unique, count\r\n",
        "\r\n"
      ],
      "execution_count": 28,
      "outputs": []
    },
    {
      "cell_type": "code",
      "metadata": {
        "id": "2CzvIQ9ho7MR",
        "colab": {
          "base_uri": "https://localhost:8080/"
        },
        "outputId": "fea91735-4278-4e85-a1a8-cb3decb1b5b3"
      },
      "source": [
        "unigram = defaultdict(lambda: 0.0)\n",
        "bigram= defaultdict(lambda: defaultdict(lambda: 0))\n",
        "\n",
        "\n",
        "for sentence in data:\n",
        "    for w1, w2 in bigrams(sentence.split('|'), pad_right=True, pad_left=True): \n",
        "        bigram[w1][w2] += 1.0\n",
        "        unigram[w1] += 1.0\n",
        "\n",
        "\n",
        "bigram_fw = defaultdict(lambda: 0.0)\n",
        "bigram_bw = defaultdict(lambda: 0.0)\n",
        "\n",
        "for k1 in bigram:\n",
        "  for k2 in bigram[k1]:\n",
        "    if bigram[k1][k2] == 0:\n",
        "      break\n",
        "    bigram_fw[k1] += 1\n",
        "    bigram_bw[k2] += 1#\n",
        " \n",
        "for k1 in bigram:\n",
        "  if k1 in unigram:\n",
        "    \n",
        "    for k2 in bigram[k1]:\n",
        "\n",
        "      bigram[k1][k2] = (max(bigram[k1][k2]-0.75,0)/unigram[k1]) +  (0.75 / unigram[k1]) * bigram_bw[k2] *  bigram_bw[k1]/float(len(bigram_fw))\n",
        "print (perplexity(train,model))        \n",
        "print (perplexity(test,model))\n",
        "# 71.14054002208687\n",
        "# 174.02464248000433"
      ],
      "execution_count": 52,
      "outputs": [
        {
          "output_type": "stream",
          "text": [
            "73.38409869825664\n",
            "172.6748590881335\n"
          ],
          "name": "stdout"
        }
      ]
    },
    {
      "cell_type": "code",
      "metadata": {
        "colab": {
          "base_uri": "https://localhost:8080/"
        },
        "id": "HPMJa-ObIcsy",
        "outputId": "c3d2a203-a6b5-4d8f-b24b-9dfd61895660"
      },
      "source": [
        ""
      ],
      "execution_count": null,
      "outputs": [
        {
          "output_type": "execute_result",
          "data": {
            "text/plain": [
              "0.0"
            ]
          },
          "metadata": {
            "tags": []
          },
          "execution_count": 63
        }
      ]
    },
    {
      "cell_type": "markdown",
      "metadata": {
        "id": "iAtK3fic_DlB"
      },
      "source": [
        "## TODO #9\n",
        "## Neural LM (optional)\n",
        "do it on news corpus that we splitted into train and test sets at the beginning of this exercise. "
      ]
    },
    {
      "cell_type": "code",
      "metadata": {
        "id": "4bxt1CWO_BbF"
      },
      "source": [
        "#there are many ways to do this. e.g.:\n",
        "#https://machinelearningmastery.com/develop-word-based-neural-language-models-python-keras/"
      ],
      "execution_count": null,
      "outputs": []
    }
  ]
}