{
  "nbformat": 4,
  "nbformat_minor": 0,
  "metadata": {
    "colab": {
      "name": "6031050121_HW3",
      "provenance": [],
      "collapsed_sections": []
    },
    "kernelspec": {
      "display_name": "Python 3",
      "language": "python",
      "name": "python3"
    },
    "language_info": {
      "codemirror_mode": {
        "name": "ipython",
        "version": 3
      },
      "file_extension": ".py",
      "mimetype": "text/x-python",
      "name": "python",
      "nbconvert_exporter": "python",
      "pygments_lexer": "ipython3",
      "version": "3.7.3"
    },
    "accelerator": "GPU"
  },
  "cells": [
    {
      "cell_type": "markdown",
      "metadata": {
        "id": "SpCKO19dhHPq"
      },
      "source": [
        "# HW 3 - Neural POS Tagger\n",
        "\n",
        "In this exercise, you are going to build a set of deep learning models on part-of-speech (POS) tagging using Tensorflow 2. Tensorflow is a deep learning framwork developed by Google to provide an easier way to use standard layers and networks.\n",
        "\n",
        "To complete this exercise, you will need to build deep learning models for POS tagging in Thai using NECTEC's ORCHID corpus. You will build one model for each of the following type:\n",
        "\n",
        "- Neural POS Tagging with Word Embedding using Fixed / non-Fixed Pretrained weights\n",
        "- Neural POS Tagging with Viterbi / Marginal CRF\n",
        "\n",
        "Pretrained word embeddding are already given for you to use (albeit, a very bad one).\n",
        "\n",
        "We also provide the code for data cleaning, preprocessing and some starter code for tensorflow 2 in this notebook but feel free to modify those parts to suit your needs. Feel free to use additional libraries (e.g. scikit-learn) as long as you have a model for each type mentioned above.\n",
        "\n",
        "### Don't forget to change hardware accelrator to GPU in runtime on Google Colab ###"
      ]
    },
    {
      "cell_type": "markdown",
      "metadata": {
        "id": "Qx0YbM_8hHPt"
      },
      "source": [
        "## 1. Setup and Preprocessing"
      ]
    },
    {
      "cell_type": "markdown",
      "metadata": {
        "id": "yF3lPNNkhHPu"
      },
      "source": [
        "We use POS data from [ORCHID corpus](https://www.nectec.or.th/corpus/index.php?league=pm), which is a POS corpus for Thai language.\n",
        "A method used to read the corpus into a list of sentences with (word, POS) pairs have been implemented already. The example usage has shown below.\n",
        "We also create a word vector for unknown word by random."
      ]
    },
    {
      "cell_type": "code",
      "metadata": {
        "id": "GS6O5yT6feRd"
      },
      "source": [
        "%tensorflow_version 2.x"
      ],
      "execution_count": 55,
      "outputs": []
    },
    {
      "cell_type": "code",
      "metadata": {
        "id": "58LvFz30zumq",
        "colab": {
          "base_uri": "https://localhost:8080/"
        },
        "outputId": "c1cfa48e-3fc9-4c96-d441-3c4b4069525c"
      },
      "source": [
        "! wget -O resources.zip https://ucb3aeb654e60f3648f04f22eb59.dl.dropboxusercontent.com/cd/0/inline/BIaRLFjy59--thi6E4swPxzV5fuh-_XpP5dyz0UFPSGy3uyj69Lj5XNKQl-6qeuSq-incriwY47uEfJEZjZI6gIP7fRHkC3sUyHAYDaLwSzmIQ/file\n",
        "!unzip resources.zip"
      ],
      "execution_count": 2,
      "outputs": [
        {
          "output_type": "stream",
          "text": [
            "--2021-02-06 18:09:34--  https://ucb3aeb654e60f3648f04f22eb59.dl.dropboxusercontent.com/cd/0/inline/BIaRLFjy59--thi6E4swPxzV5fuh-_XpP5dyz0UFPSGy3uyj69Lj5XNKQl-6qeuSq-incriwY47uEfJEZjZI6gIP7fRHkC3sUyHAYDaLwSzmIQ/file\n",
            "Resolving ucb3aeb654e60f3648f04f22eb59.dl.dropboxusercontent.com (ucb3aeb654e60f3648f04f22eb59.dl.dropboxusercontent.com)... 162.125.6.15, 2620:100:6019:15::a27d:40f\n",
            "Connecting to ucb3aeb654e60f3648f04f22eb59.dl.dropboxusercontent.com (ucb3aeb654e60f3648f04f22eb59.dl.dropboxusercontent.com)|162.125.6.15|:443... connected.\n",
            "HTTP request sent, awaiting response... 302 Found\n",
            "Location: /cd/0/inline2/BIckZB4S76LWIZ4y52ax7dhUnxjKzSb2HQXiibE_dyB9D_uFvJiYATat2b739O1R6G2V-4vCZWktrENpgU06YboSXKTfoT5P8fMQIzGYBFgKsNq0pdcYUj5Kq3bVSvPviYJ2ySknx7vjYgE44ySxKx9EnskR9oRrY-_DrPeNQIohdkRI59niz3i9qRN3m92B2UO-YWwRVrSikrnxWw9JmEGVZueoi3jobl0u0net5H5A6toJgweOnge9ueUjApQuXEp3GA1b_Y7bOV7TvVGK_o547GHRXmXryDHMBvpjBMEYPJVwD14O8-g3gGTB_5D2DLx3pUjJ-B4BWjBuQlzrRilc/file [following]\n",
            "--2021-02-06 18:09:34--  https://ucb3aeb654e60f3648f04f22eb59.dl.dropboxusercontent.com/cd/0/inline2/BIckZB4S76LWIZ4y52ax7dhUnxjKzSb2HQXiibE_dyB9D_uFvJiYATat2b739O1R6G2V-4vCZWktrENpgU06YboSXKTfoT5P8fMQIzGYBFgKsNq0pdcYUj5Kq3bVSvPviYJ2ySknx7vjYgE44ySxKx9EnskR9oRrY-_DrPeNQIohdkRI59niz3i9qRN3m92B2UO-YWwRVrSikrnxWw9JmEGVZueoi3jobl0u0net5H5A6toJgweOnge9ueUjApQuXEp3GA1b_Y7bOV7TvVGK_o547GHRXmXryDHMBvpjBMEYPJVwD14O8-g3gGTB_5D2DLx3pUjJ-B4BWjBuQlzrRilc/file\n",
            "Reusing existing connection to ucb3aeb654e60f3648f04f22eb59.dl.dropboxusercontent.com:443.\n",
            "HTTP request sent, awaiting response... 200 OK\n",
            "Length: 151484222 (144M) [application/zip]\n",
            "Saving to: ‘resources.zip’\n",
            "\n",
            "resources.zip       100%[===================>] 144.47M   116MB/s    in 1.2s    \n",
            "\n",
            "2021-02-06 18:09:36 (116 MB/s) - ‘resources.zip’ saved [151484222/151484222]\n",
            "\n",
            "Archive:  resources.zip\n",
            "  inflating: basic_ff_embedding.pt   \n",
            "   creating: data/\n",
            " extracting: data/__init__.py        \n",
            "  inflating: data/__init__.pyc       \n",
            "   creating: data/__pycache__/\n",
            "  inflating: data/__pycache__/__init__.cpython-36.pyc  \n",
            "  inflating: data/__pycache__/orchid_corpus.cpython-36.pyc  \n",
            "  inflating: data/orchid97.txt       \n",
            "  inflating: data/orchid_corpus.py   \n",
            "  inflating: data/orchid_corpus.pyc  \n",
            "  inflating: data/orchid_test.txt    \n",
            "  inflating: data/orchid_train.txt   \n",
            "   creating: embeddings/\n",
            " extracting: embeddings/__init__.py  \n",
            "   creating: embeddings/__pycache__/\n",
            "  inflating: embeddings/__pycache__/__init__.cpython-36.pyc  \n",
            "  inflating: embeddings/__pycache__/emb_reader.cpython-36.pyc  \n",
            "  inflating: embeddings/emb_reader.py  \n",
            "  inflating: embeddings/polyglot-th.pkl  \n",
            "   creating: model/\n",
            "  inflating: model/_DS_Store         \n",
            "  inflating: model/crf_basic.model   \n",
            "  inflating: model/crf_neural.model  \n"
          ],
          "name": "stdout"
        }
      ]
    },
    {
      "cell_type": "code",
      "metadata": {
        "id": "H2a9b92hYTg2",
        "colab": {
          "base_uri": "https://localhost:8080/"
        },
        "outputId": "ddb35c06-81d6-4ee8-fc9d-7d1b484422c0"
      },
      "source": [
        "!pip install python-crfsuite\n",
        "!pip install tensorflow-addons\n",
        "!pip install tf2crf"
      ],
      "execution_count": 3,
      "outputs": [
        {
          "output_type": "stream",
          "text": [
            "Requirement already satisfied: python-crfsuite in /usr/local/lib/python3.6/dist-packages (0.9.7)\n",
            "Requirement already satisfied: tensorflow-addons in /usr/local/lib/python3.6/dist-packages (0.8.3)\n",
            "Requirement already satisfied: typeguard in /usr/local/lib/python3.6/dist-packages (from tensorflow-addons) (2.7.1)\n",
            "Requirement already satisfied: tf2crf in /usr/local/lib/python3.6/dist-packages (0.1.29)\n",
            "Requirement already satisfied: tensorflow>=2.1.0 in /usr/local/lib/python3.6/dist-packages (from tf2crf) (2.4.1)\n",
            "Requirement already satisfied: tensorflow-addons>=0.8.2 in /usr/local/lib/python3.6/dist-packages (from tf2crf) (0.8.3)\n",
            "Requirement already satisfied: keras-preprocessing~=1.1.2 in /usr/local/lib/python3.6/dist-packages (from tensorflow>=2.1.0->tf2crf) (1.1.2)\n",
            "Requirement already satisfied: flatbuffers~=1.12.0 in /usr/local/lib/python3.6/dist-packages (from tensorflow>=2.1.0->tf2crf) (1.12)\n",
            "Requirement already satisfied: numpy~=1.19.2 in /usr/local/lib/python3.6/dist-packages (from tensorflow>=2.1.0->tf2crf) (1.19.5)\n",
            "Requirement already satisfied: wrapt~=1.12.1 in /usr/local/lib/python3.6/dist-packages (from tensorflow>=2.1.0->tf2crf) (1.12.1)\n",
            "Requirement already satisfied: tensorboard~=2.4 in /usr/local/lib/python3.6/dist-packages (from tensorflow>=2.1.0->tf2crf) (2.4.1)\n",
            "Requirement already satisfied: astunparse~=1.6.3 in /usr/local/lib/python3.6/dist-packages (from tensorflow>=2.1.0->tf2crf) (1.6.3)\n",
            "Requirement already satisfied: absl-py~=0.10 in /usr/local/lib/python3.6/dist-packages (from tensorflow>=2.1.0->tf2crf) (0.10.0)\n",
            "Requirement already satisfied: protobuf>=3.9.2 in /usr/local/lib/python3.6/dist-packages (from tensorflow>=2.1.0->tf2crf) (3.12.4)\n",
            "Requirement already satisfied: google-pasta~=0.2 in /usr/local/lib/python3.6/dist-packages (from tensorflow>=2.1.0->tf2crf) (0.2.0)\n",
            "Requirement already satisfied: termcolor~=1.1.0 in /usr/local/lib/python3.6/dist-packages (from tensorflow>=2.1.0->tf2crf) (1.1.0)\n",
            "Requirement already satisfied: wheel~=0.35 in /usr/local/lib/python3.6/dist-packages (from tensorflow>=2.1.0->tf2crf) (0.36.2)\n",
            "Requirement already satisfied: gast==0.3.3 in /usr/local/lib/python3.6/dist-packages (from tensorflow>=2.1.0->tf2crf) (0.3.3)\n",
            "Requirement already satisfied: six~=1.15.0 in /usr/local/lib/python3.6/dist-packages (from tensorflow>=2.1.0->tf2crf) (1.15.0)\n",
            "Requirement already satisfied: opt-einsum~=3.3.0 in /usr/local/lib/python3.6/dist-packages (from tensorflow>=2.1.0->tf2crf) (3.3.0)\n",
            "Requirement already satisfied: grpcio~=1.32.0 in /usr/local/lib/python3.6/dist-packages (from tensorflow>=2.1.0->tf2crf) (1.32.0)\n",
            "Requirement already satisfied: tensorflow-estimator<2.5.0,>=2.4.0 in /usr/local/lib/python3.6/dist-packages (from tensorflow>=2.1.0->tf2crf) (2.4.0)\n",
            "Requirement already satisfied: h5py~=2.10.0 in /usr/local/lib/python3.6/dist-packages (from tensorflow>=2.1.0->tf2crf) (2.10.0)\n",
            "Requirement already satisfied: typing-extensions~=3.7.4 in /usr/local/lib/python3.6/dist-packages (from tensorflow>=2.1.0->tf2crf) (3.7.4.3)\n",
            "Requirement already satisfied: typeguard in /usr/local/lib/python3.6/dist-packages (from tensorflow-addons>=0.8.2->tf2crf) (2.7.1)\n",
            "Requirement already satisfied: werkzeug>=0.11.15 in /usr/local/lib/python3.6/dist-packages (from tensorboard~=2.4->tensorflow>=2.1.0->tf2crf) (1.0.1)\n",
            "Requirement already satisfied: tensorboard-plugin-wit>=1.6.0 in /usr/local/lib/python3.6/dist-packages (from tensorboard~=2.4->tensorflow>=2.1.0->tf2crf) (1.8.0)\n",
            "Requirement already satisfied: setuptools>=41.0.0 in /usr/local/lib/python3.6/dist-packages (from tensorboard~=2.4->tensorflow>=2.1.0->tf2crf) (53.0.0)\n",
            "Requirement already satisfied: google-auth<2,>=1.6.3 in /usr/local/lib/python3.6/dist-packages (from tensorboard~=2.4->tensorflow>=2.1.0->tf2crf) (1.24.0)\n",
            "Requirement already satisfied: google-auth-oauthlib<0.5,>=0.4.1 in /usr/local/lib/python3.6/dist-packages (from tensorboard~=2.4->tensorflow>=2.1.0->tf2crf) (0.4.2)\n",
            "Requirement already satisfied: markdown>=2.6.8 in /usr/local/lib/python3.6/dist-packages (from tensorboard~=2.4->tensorflow>=2.1.0->tf2crf) (3.3.3)\n",
            "Requirement already satisfied: requests<3,>=2.21.0 in /usr/local/lib/python3.6/dist-packages (from tensorboard~=2.4->tensorflow>=2.1.0->tf2crf) (2.23.0)\n",
            "Requirement already satisfied: cachetools<5.0,>=2.0.0 in /usr/local/lib/python3.6/dist-packages (from google-auth<2,>=1.6.3->tensorboard~=2.4->tensorflow>=2.1.0->tf2crf) (4.2.1)\n",
            "Requirement already satisfied: pyasn1-modules>=0.2.1 in /usr/local/lib/python3.6/dist-packages (from google-auth<2,>=1.6.3->tensorboard~=2.4->tensorflow>=2.1.0->tf2crf) (0.2.8)\n",
            "Requirement already satisfied: rsa<5,>=3.1.4; python_version >= \"3.6\" in /usr/local/lib/python3.6/dist-packages (from google-auth<2,>=1.6.3->tensorboard~=2.4->tensorflow>=2.1.0->tf2crf) (4.7)\n",
            "Requirement already satisfied: requests-oauthlib>=0.7.0 in /usr/local/lib/python3.6/dist-packages (from google-auth-oauthlib<0.5,>=0.4.1->tensorboard~=2.4->tensorflow>=2.1.0->tf2crf) (1.3.0)\n",
            "Requirement already satisfied: importlib-metadata; python_version < \"3.8\" in /usr/local/lib/python3.6/dist-packages (from markdown>=2.6.8->tensorboard~=2.4->tensorflow>=2.1.0->tf2crf) (3.4.0)\n",
            "Requirement already satisfied: certifi>=2017.4.17 in /usr/local/lib/python3.6/dist-packages (from requests<3,>=2.21.0->tensorboard~=2.4->tensorflow>=2.1.0->tf2crf) (2020.12.5)\n",
            "Requirement already satisfied: chardet<4,>=3.0.2 in /usr/local/lib/python3.6/dist-packages (from requests<3,>=2.21.0->tensorboard~=2.4->tensorflow>=2.1.0->tf2crf) (3.0.4)\n",
            "Requirement already satisfied: urllib3!=1.25.0,!=1.25.1,<1.26,>=1.21.1 in /usr/local/lib/python3.6/dist-packages (from requests<3,>=2.21.0->tensorboard~=2.4->tensorflow>=2.1.0->tf2crf) (1.24.3)\n",
            "Requirement already satisfied: idna<3,>=2.5 in /usr/local/lib/python3.6/dist-packages (from requests<3,>=2.21.0->tensorboard~=2.4->tensorflow>=2.1.0->tf2crf) (2.10)\n",
            "Requirement already satisfied: pyasn1<0.5.0,>=0.4.6 in /usr/local/lib/python3.6/dist-packages (from pyasn1-modules>=0.2.1->google-auth<2,>=1.6.3->tensorboard~=2.4->tensorflow>=2.1.0->tf2crf) (0.4.8)\n",
            "Requirement already satisfied: oauthlib>=3.0.0 in /usr/local/lib/python3.6/dist-packages (from requests-oauthlib>=0.7.0->google-auth-oauthlib<0.5,>=0.4.1->tensorboard~=2.4->tensorflow>=2.1.0->tf2crf) (3.1.0)\n",
            "Requirement already satisfied: zipp>=0.5 in /usr/local/lib/python3.6/dist-packages (from importlib-metadata; python_version < \"3.8\"->markdown>=2.6.8->tensorboard~=2.4->tensorflow>=2.1.0->tf2crf) (3.4.0)\n"
          ],
          "name": "stdout"
        }
      ]
    },
    {
      "cell_type": "code",
      "metadata": {
        "id": "_c7upY0fYsdt"
      },
      "source": [
        "%tensorflow_version 2.x"
      ],
      "execution_count": 4,
      "outputs": []
    },
    {
      "cell_type": "code",
      "metadata": {
        "id": "rJpCbSvJhHPv"
      },
      "source": [
        "from data.orchid_corpus import get_sentences\n",
        "import numpy as np\n",
        "import numpy.random\n",
        "import tensorflow as tf\n",
        "np.random.seed(42)"
      ],
      "execution_count": 5,
      "outputs": []
    },
    {
      "cell_type": "code",
      "metadata": {
        "id": "U4SZz56ThHP0",
        "scrolled": false,
        "colab": {
          "base_uri": "https://localhost:8080/"
        },
        "outputId": "5f0020a2-66b0-4d39-cb92-03630b335cb2"
      },
      "source": [
        "yunk_emb =np.random.randn(32)\n",
        "train_data = get_sentences('train')\n",
        "test_data = get_sentences('test')\n",
        "print(train_data[0])"
      ],
      "execution_count": 6,
      "outputs": [
        {
          "output_type": "stream",
          "text": [
            "[('การ', 'FIXN'), ('ประชุม', 'VACT'), ('ทาง', 'NCMN'), ('วิชาการ', 'NCMN'), ('<space>', 'PUNC'), ('ครั้ง', 'CFQC'), ('ที่ 1', 'DONM')]\n"
          ],
          "name": "stdout"
        }
      ]
    },
    {
      "cell_type": "markdown",
      "metadata": {
        "id": "awxn_GRIhHP3"
      },
      "source": [
        "Next, we load pretrained weight embedding using pickle. The pretrained weight is a dictionary which map a word to its embedding."
      ]
    },
    {
      "cell_type": "code",
      "metadata": {
        "id": "0GS3lTZshHP4"
      },
      "source": [
        "import pickle\n",
        "fp = open('basic_ff_embedding.pt', 'rb')\n",
        "embeddings = pickle.load(fp)\n",
        "fp.close()"
      ],
      "execution_count": 7,
      "outputs": []
    },
    {
      "cell_type": "markdown",
      "metadata": {
        "id": "5CqTNKsChHP7"
      },
      "source": [
        "The given code below generates an indexed dataset(each word is represented by a number) for training and testing data. The index 0 is reserved for padding to help with variable length sequence. (Additionally, You can read more about padding here [https://machinelearningmastery.com/data-preparation-variable-length-input-sequences-sequence-prediction/])"
      ]
    },
    {
      "cell_type": "markdown",
      "metadata": {
        "id": "IPGUNEZyhHP8"
      },
      "source": [
        "## 2. Prepare Data"
      ]
    },
    {
      "cell_type": "code",
      "metadata": {
        "id": "7fMWn8qehHP9"
      },
      "source": [
        "word_to_idx ={}\n",
        "idx_to_word ={}\n",
        "label_to_idx = {}\n",
        "for sentence in train_data:\n",
        "    for word,pos in sentence:\n",
        "        if word not in word_to_idx:\n",
        "            word_to_idx[word] = len(word_to_idx)+1\n",
        "            idx_to_word[word_to_idx[word]] = word\n",
        "        if pos not in label_to_idx:\n",
        "            label_to_idx[pos] = len(label_to_idx)+1\n",
        "word_to_idx['UNK'] = len(word_to_idx)\n",
        "\n",
        "n_classes = len(label_to_idx.keys())+1"
      ],
      "execution_count": 8,
      "outputs": []
    },
    {
      "cell_type": "markdown",
      "metadata": {
        "id": "QgvZ8v_2hHP_"
      },
      "source": [
        "This section is tweaked a little from the demo, word2features will return word index instead of features, and sent2labels will return a sequence of word indices in the sentence."
      ]
    },
    {
      "cell_type": "code",
      "metadata": {
        "id": "ktf2KkJghHQA"
      },
      "source": [
        "def word2features(sent, i, emb):\n",
        "    word = sent[i][0]\n",
        "    if word in word_to_idx :\n",
        "        return word_to_idx[word]\n",
        "    else :\n",
        "        return word_to_idx['UNK']\n",
        "\n",
        "def sent2features(sent, emb_dict):\n",
        "    return np.asarray([word2features(sent, i, emb_dict) for i in range(len(sent))])\n",
        "\n",
        "def sent2labels(sent):\n",
        "    return numpy.asarray([label_to_idx[label] for (word, label) in sent],dtype='int32')\n",
        "\n",
        "def sent2tokens(sent):\n",
        "    return [word for (word, label) in sent]"
      ],
      "execution_count": 9,
      "outputs": []
    },
    {
      "cell_type": "code",
      "metadata": {
        "id": "cgBw3I9ShHQD",
        "colab": {
          "base_uri": "https://localhost:8080/"
        },
        "outputId": "20b3bf94-42d7-409d-e457-d10ea76fec72"
      },
      "source": [
        "sent2features(train_data[100], embeddings)"
      ],
      "execution_count": 10,
      "outputs": [
        {
          "output_type": "execute_result",
          "data": {
            "text/plain": [
              "array([ 29, 327,   5, 328])"
            ]
          },
          "metadata": {
            "tags": []
          },
          "execution_count": 10
        }
      ]
    },
    {
      "cell_type": "markdown",
      "metadata": {
        "id": "3O7oClK-hHQG"
      },
      "source": [
        "Next we create train and test dataset, then we use tensorflow 2 to post-pad the sequence to max sequence with 0. Our labels are changed to a one-hot vector."
      ]
    },
    {
      "cell_type": "code",
      "metadata": {
        "id": "0tJxtPtohHQH",
        "colab": {
          "base_uri": "https://localhost:8080/"
        },
        "outputId": "c52beacb-6145-46f6-daf7-8dc45c682f28"
      },
      "source": [
        "%%time\n",
        "x_train = np.asarray([sent2features(sent, embeddings) for sent in train_data])\n",
        "y_train = [sent2labels(sent) for sent in train_data]\n",
        "x_test = [sent2features(sent, embeddings) for sent in test_data]\n",
        "y_test = [sent2labels(sent) for sent in test_data]"
      ],
      "execution_count": 11,
      "outputs": [
        {
          "output_type": "stream",
          "text": [
            "CPU times: user 268 ms, sys: 0 ns, total: 268 ms\n",
            "Wall time: 269 ms\n"
          ],
          "name": "stdout"
        },
        {
          "output_type": "stream",
          "text": [
            "/usr/local/lib/python3.6/dist-packages/numpy/core/_asarray.py:83: VisibleDeprecationWarning: Creating an ndarray from ragged nested sequences (which is a list-or-tuple of lists-or-tuples-or ndarrays with different lengths or shapes) is deprecated. If you meant to do this, you must specify 'dtype=object' when creating the ndarray\n",
            "  return array(a, dtype, copy=False, order=order)\n"
          ],
          "name": "stderr"
        }
      ]
    },
    {
      "cell_type": "code",
      "metadata": {
        "id": "M03BNSHYIe75"
      },
      "source": [
        "y_test = [sent2labels(sent) for sent in test_data]\r\n",
        "x_test=tf.keras.preprocessing.sequence.pad_sequences(x_test, maxlen=102, dtype='int32', padding='post', truncating='pre', value=0.)\r\n",
        "for i in range(len(y_train)):\r\n",
        "    y_temp.append(np.eye(n_classes)[y_train[i]][np.newaxis,:])\r\n",
        "y_train = np.asarray(y_temp).reshape(-1,102,n_classes)"
      ],
      "execution_count": null,
      "outputs": []
    },
    {
      "cell_type": "code",
      "metadata": {
        "id": "DG1gvJ4mhHQJ"
      },
      "source": [
        "x_train=tf.keras.preprocessing.sequence.pad_sequences(x_train, maxlen=None, dtype='int32', padding='post', truncating='pre', value=0.)\n",
        "y_train=tf.keras.preprocessing.sequence.pad_sequences(y_train, maxlen=None, dtype='int32', padding='post', truncating='pre', value=0.)\n",
        "x_test=tf.keras.preprocessing.sequence.pad_sequences(x_test, maxlen=102, dtype='int32', padding='post', truncating='pre', value=0.)\n",
        "y_temp =[]\n",
        "for i in range(len(y_train)):\n",
        "    y_temp.append(np.eye(n_classes)[y_train[i]][np.newaxis,:])\n",
        "y_train = np.asarray(y_temp).reshape(-1,102,n_classes)\n",
        "del(y_temp)"
      ],
      "execution_count": 12,
      "outputs": []
    },
    {
      "cell_type": "code",
      "metadata": {
        "id": "ZU9x6VdehHQM",
        "colab": {
          "base_uri": "https://localhost:8080/"
        },
        "outputId": "89639dc3-d2ea-4420-d33a-a9cb83a26820"
      },
      "source": [
        "print(x_train[100],x_train.shape)\n",
        "print(y_train[100][3],y_train.shape)"
      ],
      "execution_count": 13,
      "outputs": [
        {
          "output_type": "stream",
          "text": [
            "[ 29 327   5 328   0   0   0   0   0   0   0   0   0   0   0   0   0   0\n",
            "   0   0   0   0   0   0   0   0   0   0   0   0   0   0   0   0   0   0\n",
            "   0   0   0   0   0   0   0   0   0   0   0   0   0   0   0   0   0   0\n",
            "   0   0   0   0   0   0   0   0   0   0   0   0   0   0   0   0   0   0\n",
            "   0   0   0   0   0   0   0   0   0   0   0   0   0   0   0   0   0   0\n",
            "   0   0   0   0   0   0   0   0   0   0   0   0] (18500, 102)\n",
            "[0. 0. 0. 1. 0. 0. 0. 0. 0. 0. 0. 0. 0. 0. 0. 0. 0. 0. 0. 0. 0. 0. 0. 0.\n",
            " 0. 0. 0. 0. 0. 0. 0. 0. 0. 0. 0. 0. 0. 0. 0. 0. 0. 0. 0. 0. 0. 0. 0. 0.] (18500, 102, 48)\n"
          ],
          "name": "stdout"
        }
      ]
    },
    {
      "cell_type": "markdown",
      "metadata": {
        "id": "dx_c3-LwhHQP"
      },
      "source": [
        "## 3. Evaluate"
      ]
    },
    {
      "cell_type": "markdown",
      "metadata": {
        "id": "tvCW24orhHQP"
      },
      "source": [
        "Our output from tf keras is a distribution of problabilities on all possible label. outputToLabel will return an indices of maximum problability from output sequence.\n",
        "\n",
        "evaluation_report is the same as in the demo"
      ]
    },
    {
      "cell_type": "code",
      "metadata": {
        "id": "Iqgp2gd4hHQQ"
      },
      "source": [
        "def outputToLabel(yt,seq_len):\n",
        "    out = []\n",
        "    for i in range(0,len(yt)):\n",
        "        if(i==seq_len):\n",
        "            break\n",
        "        out.append(np.argmax(yt[i]))\n",
        "    return out"
      ],
      "execution_count": 14,
      "outputs": []
    },
    {
      "cell_type": "code",
      "metadata": {
        "id": "pzIL_rsAhHQT"
      },
      "source": [
        "import pandas as pd\n",
        "from IPython.display import display\n",
        "\n",
        "def evaluation_report(y_true, y_pred):\n",
        "    # retrieve all tags in y_true\n",
        "    tag_set = set()\n",
        "    for sent in y_true:\n",
        "        for tag in sent:\n",
        "            tag_set.add(tag)\n",
        "    for sent in y_pred:\n",
        "        for tag in sent:\n",
        "            tag_set.add(tag)\n",
        "    tag_list = sorted(list(tag_set))\n",
        "    \n",
        "    # count correct points\n",
        "    tag_info = dict()\n",
        "    for tag in tag_list:\n",
        "        tag_info[tag] = {'correct_tagged': 0, 'y_true': 0, 'y_pred': 0}\n",
        "\n",
        "    all_correct = 0\n",
        "    all_count = sum([len(sent) for sent in y_true])\n",
        "    for sent_true, sent_pred in zip(y_true, y_pred):\n",
        "        for tag_true, tag_pred in zip(sent_true, sent_pred):\n",
        "            if tag_true == tag_pred:\n",
        "                tag_info[tag_true]['correct_tagged'] += 1\n",
        "                all_correct += 1\n",
        "            tag_info[tag_true]['y_true'] += 1\n",
        "            tag_info[tag_pred]['y_pred'] += 1\n",
        "    accuracy = (all_correct / all_count) * 100\n",
        "            \n",
        "    # summarize and make evaluation result\n",
        "    eval_list = list()\n",
        "    for tag in tag_list:\n",
        "        eval_result = dict()\n",
        "        eval_result['tag'] = tag\n",
        "        eval_result['correct_count'] = tag_info[tag]['correct_tagged']\n",
        "        precision = (tag_info[tag]['correct_tagged']/tag_info[tag]['y_pred'])*100 if tag_info[tag]['y_pred'] else '-'\n",
        "        recall = (tag_info[tag]['correct_tagged']/tag_info[tag]['y_true'])*100 if (tag_info[tag]['y_true'] > 0) else 0\n",
        "        eval_result['precision'] = precision\n",
        "        eval_result['recall'] = recall\n",
        "        eval_result['f_score'] = (2*precision*recall)/(precision+recall) if (type(precision) is float and recall > 0) else '-'\n",
        "        \n",
        "        eval_list.append(eval_result)\n",
        "\n",
        "    eval_list.append({'tag': 'accuracy=%.2f' % accuracy, 'correct_count': '', 'precision': '', 'recall': '', 'f_score': ''})\n",
        "    \n",
        "    df = pd.DataFrame.from_dict(eval_list)\n",
        "    df = df[['tag', 'precision', 'recall', 'f_score', 'correct_count']]\n",
        "    display(df)"
      ],
      "execution_count": 15,
      "outputs": []
    },
    {
      "cell_type": "markdown",
      "metadata": {
        "id": "4YG-RiHdhHQV"
      },
      "source": [
        "## 4. Train a model"
      ]
    },
    {
      "cell_type": "code",
      "metadata": {
        "id": "2HrkAiMFhHQW"
      },
      "source": [
        "from tensorflow.keras.models import Sequential, Model\n",
        "from tensorflow.keras.layers import Embedding, Reshape, Activation, Input, Dense,GRU,Reshape,TimeDistributed,Bidirectional,Dropout,Masking\n",
        "from tensorflow.keras.optimizers import Adam"
      ],
      "execution_count": 16,
      "outputs": []
    },
    {
      "cell_type": "markdown",
      "metadata": {
        "id": "U75Ivn2vhHQZ"
      },
      "source": [
        "The model is this section is separated to two groups\n",
        "\n",
        "- Neural POS Tagger (4.1)\n",
        "- Neural CRF POS Tagger (4.2)"
      ]
    },
    {
      "cell_type": "markdown",
      "metadata": {
        "id": "CLwL3B7rhHQZ"
      },
      "source": [
        "## 4.1.1 Neural POS Tagger  (Example)"
      ]
    },
    {
      "cell_type": "markdown",
      "metadata": {
        "id": "pVoB-1XVhHQa"
      },
      "source": [
        "We create a simple Neural POS Tagger as an example for you. This model dosen't use any pretrained word embbeding so it need to use Embedding layer to train the word embedding from scratch.\n",
        "\n",
        "Instead of using tensorflow.keras.models.Sequential, we use tensorflow.keras.models.Model. The latter is better as it can have multiple input/output, of which Sequential model could not. Due to this reason, the Model class is widely used for building a complex deep learning model."
      ]
    },
    {
      "cell_type": "code",
      "metadata": {
        "id": "DxBvv9qfhHQb",
        "colab": {
          "base_uri": "https://localhost:8080/"
        },
        "outputId": "a3492709-6d17-4ac1-aa0e-0a8199507cc6"
      },
      "source": [
        "inputs = Input(shape=(102,), dtype='int32')\n",
        "output = (Embedding(len(word_to_idx),32,input_length=102,mask_zero=True))(inputs)\n",
        "output = Bidirectional(GRU(32, return_sequences=True))(output)\n",
        "output = Dropout(0.2)(output)\n",
        "output = TimeDistributed(Dense(n_classes,activation='softmax'))(output)\n",
        "model = Model(inputs, output)\n",
        "model.compile(optimizer=Adam(lr=0.001),  loss='categorical_crossentropy', metrics=['categorical_accuracy'])\n",
        "\n",
        "model.summary()\n",
        "model.fit(x_train,y=y_train, batch_size=64,epochs=10,verbose=1)"
      ],
      "execution_count": 17,
      "outputs": [
        {
          "output_type": "stream",
          "text": [
            "Model: \"model\"\n",
            "_________________________________________________________________\n",
            "Layer (type)                 Output Shape              Param #   \n",
            "=================================================================\n",
            "input_1 (InputLayer)         [(None, 102)]             0         \n",
            "_________________________________________________________________\n",
            "embedding (Embedding)        (None, 102, 32)           480608    \n",
            "_________________________________________________________________\n",
            "bidirectional (Bidirectional (None, 102, 64)           12672     \n",
            "_________________________________________________________________\n",
            "dropout (Dropout)            (None, 102, 64)           0         \n",
            "_________________________________________________________________\n",
            "time_distributed (TimeDistri (None, 102, 48)           3120      \n",
            "=================================================================\n",
            "Total params: 496,400\n",
            "Trainable params: 496,400\n",
            "Non-trainable params: 0\n",
            "_________________________________________________________________\n",
            "Epoch 1/10\n",
            "290/290 [==============================] - 18s 19ms/step - loss: 0.3935 - categorical_accuracy: 0.3655\n",
            "Epoch 2/10\n",
            "290/290 [==============================] - 5s 19ms/step - loss: 0.0714 - categorical_accuracy: 0.8836\n",
            "Epoch 3/10\n",
            "290/290 [==============================] - 5s 19ms/step - loss: 0.0385 - categorical_accuracy: 0.9320\n",
            "Epoch 4/10\n",
            "290/290 [==============================] - 5s 19ms/step - loss: 0.0292 - categorical_accuracy: 0.9442\n",
            "Epoch 5/10\n",
            "290/290 [==============================] - 5s 19ms/step - loss: 0.0257 - categorical_accuracy: 0.9494\n",
            "Epoch 6/10\n",
            "290/290 [==============================] - 5s 19ms/step - loss: 0.0229 - categorical_accuracy: 0.9545\n",
            "Epoch 7/10\n",
            "290/290 [==============================] - 5s 19ms/step - loss: 0.0212 - categorical_accuracy: 0.9556\n",
            "Epoch 8/10\n",
            "290/290 [==============================] - 5s 18ms/step - loss: 0.0196 - categorical_accuracy: 0.9587\n",
            "Epoch 9/10\n",
            "290/290 [==============================] - 5s 18ms/step - loss: 0.0189 - categorical_accuracy: 0.9599\n",
            "Epoch 10/10\n",
            "290/290 [==============================] - 5s 19ms/step - loss: 0.0185 - categorical_accuracy: 0.9604\n"
          ],
          "name": "stdout"
        },
        {
          "output_type": "execute_result",
          "data": {
            "text/plain": [
              "<tensorflow.python.keras.callbacks.History at 0x7f526da868d0>"
            ]
          },
          "metadata": {
            "tags": []
          },
          "execution_count": 17
        }
      ]
    },
    {
      "cell_type": "code",
      "metadata": {
        "id": "Wo9Da8MThHQf",
        "colab": {
          "base_uri": "https://localhost:8080/"
        },
        "outputId": "34a04a89-2132-49af-ed5e-e362a835e3f8"
      },
      "source": [
        "%%time\n",
        "model.fit(x_train,y_train,batch_size=64,epochs=10,verbose=1)"
      ],
      "execution_count": 18,
      "outputs": [
        {
          "output_type": "stream",
          "text": [
            "Epoch 1/10\n",
            "290/290 [==============================] - 5s 18ms/step - loss: 0.0175 - categorical_accuracy: 0.9626\n",
            "Epoch 2/10\n",
            "290/290 [==============================] - 5s 18ms/step - loss: 0.0168 - categorical_accuracy: 0.9641\n",
            "Epoch 3/10\n",
            "290/290 [==============================] - 5s 19ms/step - loss: 0.0163 - categorical_accuracy: 0.9648\n",
            "Epoch 4/10\n",
            "290/290 [==============================] - 5s 19ms/step - loss: 0.0157 - categorical_accuracy: 0.9662\n",
            "Epoch 5/10\n",
            "290/290 [==============================] - 5s 19ms/step - loss: 0.0152 - categorical_accuracy: 0.9671\n",
            "Epoch 6/10\n",
            "290/290 [==============================] - 5s 18ms/step - loss: 0.0148 - categorical_accuracy: 0.9682\n",
            "Epoch 7/10\n",
            "290/290 [==============================] - 5s 19ms/step - loss: 0.0143 - categorical_accuracy: 0.9693\n",
            "Epoch 8/10\n",
            "290/290 [==============================] - 5s 19ms/step - loss: 0.0139 - categorical_accuracy: 0.9697\n",
            "Epoch 9/10\n",
            "290/290 [==============================] - 5s 18ms/step - loss: 0.0134 - categorical_accuracy: 0.9710\n",
            "Epoch 10/10\n",
            "290/290 [==============================] - 5s 19ms/step - loss: 0.0131 - categorical_accuracy: 0.9716\n",
            "CPU times: user 1min 12s, sys: 8.44 s, total: 1min 20s\n",
            "Wall time: 54 s\n"
          ],
          "name": "stdout"
        },
        {
          "output_type": "execute_result",
          "data": {
            "text/plain": [
              "<tensorflow.python.keras.callbacks.History at 0x7f52868b2240>"
            ]
          },
          "metadata": {
            "tags": []
          },
          "execution_count": 18
        }
      ]
    },
    {
      "cell_type": "code",
      "metadata": {
        "id": "yusa214hhHQh",
        "colab": {
          "base_uri": "https://localhost:8080/",
          "height": 1000
        },
        "outputId": "62c597e7-a9a5-40b1-9693-d91a0cac5374"
      },
      "source": [
        "%%time\n",
        "#model.save_weights('/data/my_pos_no_crf.h5')\n",
        "#model.load_weights('/data/my_pos_no_crf.h5')\n",
        "y_pred=model.predict(x_test)\n",
        "ypred = [outputToLabel(y_pred[i],len(y_test[i])) for i in range(len(y_pred))]\n",
        "evaluation_report(y_test, ypred)"
      ],
      "execution_count": 19,
      "outputs": [
        {
          "output_type": "display_data",
          "data": {
            "text/html": [
              "<div>\n",
              "<style scoped>\n",
              "    .dataframe tbody tr th:only-of-type {\n",
              "        vertical-align: middle;\n",
              "    }\n",
              "\n",
              "    .dataframe tbody tr th {\n",
              "        vertical-align: top;\n",
              "    }\n",
              "\n",
              "    .dataframe thead th {\n",
              "        text-align: right;\n",
              "    }\n",
              "</style>\n",
              "<table border=\"1\" class=\"dataframe\">\n",
              "  <thead>\n",
              "    <tr style=\"text-align: right;\">\n",
              "      <th></th>\n",
              "      <th>tag</th>\n",
              "      <th>precision</th>\n",
              "      <th>recall</th>\n",
              "      <th>f_score</th>\n",
              "      <th>correct_count</th>\n",
              "    </tr>\n",
              "  </thead>\n",
              "  <tbody>\n",
              "    <tr>\n",
              "      <th>0</th>\n",
              "      <td>1</td>\n",
              "      <td>99.8638</td>\n",
              "      <td>99.4573</td>\n",
              "      <td>99.6601</td>\n",
              "      <td>3665</td>\n",
              "    </tr>\n",
              "    <tr>\n",
              "      <th>1</th>\n",
              "      <td>2</td>\n",
              "      <td>94.4808</td>\n",
              "      <td>94.6411</td>\n",
              "      <td>94.5609</td>\n",
              "      <td>7806</td>\n",
              "    </tr>\n",
              "    <tr>\n",
              "      <th>2</th>\n",
              "      <td>3</td>\n",
              "      <td>89.7288</td>\n",
              "      <td>96.5717</td>\n",
              "      <td>93.0246</td>\n",
              "      <td>16310</td>\n",
              "    </tr>\n",
              "    <tr>\n",
              "      <th>3</th>\n",
              "      <td>4</td>\n",
              "      <td>99.9455</td>\n",
              "      <td>99.3886</td>\n",
              "      <td>99.6663</td>\n",
              "      <td>12843</td>\n",
              "    </tr>\n",
              "    <tr>\n",
              "      <th>4</th>\n",
              "      <td>5</td>\n",
              "      <td>95.6522</td>\n",
              "      <td>98.5075</td>\n",
              "      <td>97.0588</td>\n",
              "      <td>66</td>\n",
              "    </tr>\n",
              "    <tr>\n",
              "      <th>5</th>\n",
              "      <td>6</td>\n",
              "      <td>98.954</td>\n",
              "      <td>90.613</td>\n",
              "      <td>94.6</td>\n",
              "      <td>473</td>\n",
              "    </tr>\n",
              "    <tr>\n",
              "      <th>6</th>\n",
              "      <td>7</td>\n",
              "      <td>98.2091</td>\n",
              "      <td>97.595</td>\n",
              "      <td>97.9011</td>\n",
              "      <td>2029</td>\n",
              "    </tr>\n",
              "    <tr>\n",
              "      <th>7</th>\n",
              "      <td>8</td>\n",
              "      <td>70.3822</td>\n",
              "      <td>53.253</td>\n",
              "      <td>60.631</td>\n",
              "      <td>221</td>\n",
              "    </tr>\n",
              "    <tr>\n",
              "      <th>8</th>\n",
              "      <td>9</td>\n",
              "      <td>70.7165</td>\n",
              "      <td>61.6848</td>\n",
              "      <td>65.8926</td>\n",
              "      <td>227</td>\n",
              "    </tr>\n",
              "    <tr>\n",
              "      <th>9</th>\n",
              "      <td>10</td>\n",
              "      <td>61.9643</td>\n",
              "      <td>41.3588</td>\n",
              "      <td>49.6069</td>\n",
              "      <td>347</td>\n",
              "    </tr>\n",
              "    <tr>\n",
              "      <th>10</th>\n",
              "      <td>11</td>\n",
              "      <td>86.3158</td>\n",
              "      <td>95.3488</td>\n",
              "      <td>90.6077</td>\n",
              "      <td>82</td>\n",
              "    </tr>\n",
              "    <tr>\n",
              "      <th>11</th>\n",
              "      <td>12</td>\n",
              "      <td>95.6258</td>\n",
              "      <td>98.2522</td>\n",
              "      <td>96.9212</td>\n",
              "      <td>787</td>\n",
              "    </tr>\n",
              "    <tr>\n",
              "      <th>12</th>\n",
              "      <td>13</td>\n",
              "      <td>90.8419</td>\n",
              "      <td>85.5593</td>\n",
              "      <td>88.1215</td>\n",
              "      <td>3075</td>\n",
              "    </tr>\n",
              "    <tr>\n",
              "      <th>13</th>\n",
              "      <td>14</td>\n",
              "      <td>95.0565</td>\n",
              "      <td>93.5325</td>\n",
              "      <td>94.2883</td>\n",
              "      <td>5134</td>\n",
              "    </tr>\n",
              "    <tr>\n",
              "      <th>14</th>\n",
              "      <td>15</td>\n",
              "      <td>80.2165</td>\n",
              "      <td>72.6381</td>\n",
              "      <td>76.2395</td>\n",
              "      <td>815</td>\n",
              "    </tr>\n",
              "    <tr>\n",
              "      <th>15</th>\n",
              "      <td>16</td>\n",
              "      <td>89.3737</td>\n",
              "      <td>86.1366</td>\n",
              "      <td>87.7252</td>\n",
              "      <td>2069</td>\n",
              "    </tr>\n",
              "    <tr>\n",
              "      <th>16</th>\n",
              "      <td>17</td>\n",
              "      <td>97.2763</td>\n",
              "      <td>85.6164</td>\n",
              "      <td>91.0747</td>\n",
              "      <td>500</td>\n",
              "    </tr>\n",
              "    <tr>\n",
              "      <th>17</th>\n",
              "      <td>18</td>\n",
              "      <td>98.0359</td>\n",
              "      <td>99.3939</td>\n",
              "      <td>98.7102</td>\n",
              "      <td>1148</td>\n",
              "    </tr>\n",
              "    <tr>\n",
              "      <th>18</th>\n",
              "      <td>19</td>\n",
              "      <td>97.9472</td>\n",
              "      <td>96.8116</td>\n",
              "      <td>97.3761</td>\n",
              "      <td>334</td>\n",
              "    </tr>\n",
              "    <tr>\n",
              "      <th>19</th>\n",
              "      <td>20</td>\n",
              "      <td>98.2818</td>\n",
              "      <td>96.9492</td>\n",
              "      <td>97.6109</td>\n",
              "      <td>286</td>\n",
              "    </tr>\n",
              "    <tr>\n",
              "      <th>20</th>\n",
              "      <td>21</td>\n",
              "      <td>93.0323</td>\n",
              "      <td>95.1815</td>\n",
              "      <td>94.0946</td>\n",
              "      <td>1442</td>\n",
              "    </tr>\n",
              "    <tr>\n",
              "      <th>21</th>\n",
              "      <td>22</td>\n",
              "      <td>84.3373</td>\n",
              "      <td>78.6026</td>\n",
              "      <td>81.3691</td>\n",
              "      <td>1260</td>\n",
              "    </tr>\n",
              "    <tr>\n",
              "      <th>22</th>\n",
              "      <td>23</td>\n",
              "      <td>89.3788</td>\n",
              "      <td>94.8264</td>\n",
              "      <td>92.022</td>\n",
              "      <td>1338</td>\n",
              "    </tr>\n",
              "    <tr>\n",
              "      <th>23</th>\n",
              "      <td>24</td>\n",
              "      <td>92.1472</td>\n",
              "      <td>82.0765</td>\n",
              "      <td>86.8208</td>\n",
              "      <td>751</td>\n",
              "    </tr>\n",
              "    <tr>\n",
              "      <th>24</th>\n",
              "      <td>25</td>\n",
              "      <td>91.3194</td>\n",
              "      <td>63.6804</td>\n",
              "      <td>75.0357</td>\n",
              "      <td>263</td>\n",
              "    </tr>\n",
              "    <tr>\n",
              "      <th>25</th>\n",
              "      <td>26</td>\n",
              "      <td>95.6522</td>\n",
              "      <td>87.5</td>\n",
              "      <td>91.3947</td>\n",
              "      <td>154</td>\n",
              "    </tr>\n",
              "    <tr>\n",
              "      <th>26</th>\n",
              "      <td>27</td>\n",
              "      <td>92.8571</td>\n",
              "      <td>79.3893</td>\n",
              "      <td>85.5967</td>\n",
              "      <td>104</td>\n",
              "    </tr>\n",
              "    <tr>\n",
              "      <th>27</th>\n",
              "      <td>29</td>\n",
              "      <td>93.75</td>\n",
              "      <td>94.9367</td>\n",
              "      <td>94.3396</td>\n",
              "      <td>300</td>\n",
              "    </tr>\n",
              "    <tr>\n",
              "      <th>28</th>\n",
              "      <td>30</td>\n",
              "      <td>70.6422</td>\n",
              "      <td>75.4902</td>\n",
              "      <td>72.9858</td>\n",
              "      <td>77</td>\n",
              "    </tr>\n",
              "    <tr>\n",
              "      <th>29</th>\n",
              "      <td>31</td>\n",
              "      <td>50.3145</td>\n",
              "      <td>77.6699</td>\n",
              "      <td>61.0687</td>\n",
              "      <td>80</td>\n",
              "    </tr>\n",
              "    <tr>\n",
              "      <th>30</th>\n",
              "      <td>32</td>\n",
              "      <td>76.5152</td>\n",
              "      <td>56.7416</td>\n",
              "      <td>65.1613</td>\n",
              "      <td>101</td>\n",
              "    </tr>\n",
              "    <tr>\n",
              "      <th>31</th>\n",
              "      <td>33</td>\n",
              "      <td>91.8919</td>\n",
              "      <td>50</td>\n",
              "      <td>64.7619</td>\n",
              "      <td>34</td>\n",
              "    </tr>\n",
              "    <tr>\n",
              "      <th>32</th>\n",
              "      <td>34</td>\n",
              "      <td>86.0738</td>\n",
              "      <td>91.2811</td>\n",
              "      <td>88.601</td>\n",
              "      <td>513</td>\n",
              "    </tr>\n",
              "    <tr>\n",
              "      <th>33</th>\n",
              "      <td>35</td>\n",
              "      <td>50</td>\n",
              "      <td>55.5556</td>\n",
              "      <td>52.6316</td>\n",
              "      <td>5</td>\n",
              "    </tr>\n",
              "    <tr>\n",
              "      <th>34</th>\n",
              "      <td>36</td>\n",
              "      <td>100</td>\n",
              "      <td>75</td>\n",
              "      <td>85.7143</td>\n",
              "      <td>12</td>\n",
              "    </tr>\n",
              "    <tr>\n",
              "      <th>35</th>\n",
              "      <td>37</td>\n",
              "      <td>90.1786</td>\n",
              "      <td>99.0196</td>\n",
              "      <td>94.3925</td>\n",
              "      <td>101</td>\n",
              "    </tr>\n",
              "    <tr>\n",
              "      <th>36</th>\n",
              "      <td>38</td>\n",
              "      <td>53.4884</td>\n",
              "      <td>58.9744</td>\n",
              "      <td>56.0976</td>\n",
              "      <td>23</td>\n",
              "    </tr>\n",
              "    <tr>\n",
              "      <th>37</th>\n",
              "      <td>39</td>\n",
              "      <td>79.3333</td>\n",
              "      <td>85</td>\n",
              "      <td>82.069</td>\n",
              "      <td>119</td>\n",
              "    </tr>\n",
              "    <tr>\n",
              "      <th>38</th>\n",
              "      <td>40</td>\n",
              "      <td>100</td>\n",
              "      <td>99.6429</td>\n",
              "      <td>99.8211</td>\n",
              "      <td>279</td>\n",
              "    </tr>\n",
              "    <tr>\n",
              "      <th>39</th>\n",
              "      <td>41</td>\n",
              "      <td>68.1818</td>\n",
              "      <td>75</td>\n",
              "      <td>71.4286</td>\n",
              "      <td>15</td>\n",
              "    </tr>\n",
              "    <tr>\n",
              "      <th>40</th>\n",
              "      <td>42</td>\n",
              "      <td>100</td>\n",
              "      <td>70.5882</td>\n",
              "      <td>82.7586</td>\n",
              "      <td>12</td>\n",
              "    </tr>\n",
              "    <tr>\n",
              "      <th>41</th>\n",
              "      <td>43</td>\n",
              "      <td>25</td>\n",
              "      <td>11.1111</td>\n",
              "      <td>15.3846</td>\n",
              "      <td>1</td>\n",
              "    </tr>\n",
              "    <tr>\n",
              "      <th>42</th>\n",
              "      <td>45</td>\n",
              "      <td>0</td>\n",
              "      <td>0</td>\n",
              "      <td>-</td>\n",
              "      <td>0</td>\n",
              "    </tr>\n",
              "    <tr>\n",
              "      <th>43</th>\n",
              "      <td>46</td>\n",
              "      <td>50</td>\n",
              "      <td>20</td>\n",
              "      <td>28.5714</td>\n",
              "      <td>1</td>\n",
              "    </tr>\n",
              "    <tr>\n",
              "      <th>44</th>\n",
              "      <td>accuracy=93.10</td>\n",
              "      <td></td>\n",
              "      <td></td>\n",
              "      <td></td>\n",
              "      <td></td>\n",
              "    </tr>\n",
              "  </tbody>\n",
              "</table>\n",
              "</div>"
            ],
            "text/plain": [
              "               tag precision   recall  f_score correct_count\n",
              "0                1   99.8638  99.4573  99.6601          3665\n",
              "1                2   94.4808  94.6411  94.5609          7806\n",
              "2                3   89.7288  96.5717  93.0246         16310\n",
              "3                4   99.9455  99.3886  99.6663         12843\n",
              "4                5   95.6522  98.5075  97.0588            66\n",
              "5                6    98.954   90.613     94.6           473\n",
              "6                7   98.2091   97.595  97.9011          2029\n",
              "7                8   70.3822   53.253   60.631           221\n",
              "8                9   70.7165  61.6848  65.8926           227\n",
              "9               10   61.9643  41.3588  49.6069           347\n",
              "10              11   86.3158  95.3488  90.6077            82\n",
              "11              12   95.6258  98.2522  96.9212           787\n",
              "12              13   90.8419  85.5593  88.1215          3075\n",
              "13              14   95.0565  93.5325  94.2883          5134\n",
              "14              15   80.2165  72.6381  76.2395           815\n",
              "15              16   89.3737  86.1366  87.7252          2069\n",
              "16              17   97.2763  85.6164  91.0747           500\n",
              "17              18   98.0359  99.3939  98.7102          1148\n",
              "18              19   97.9472  96.8116  97.3761           334\n",
              "19              20   98.2818  96.9492  97.6109           286\n",
              "20              21   93.0323  95.1815  94.0946          1442\n",
              "21              22   84.3373  78.6026  81.3691          1260\n",
              "22              23   89.3788  94.8264   92.022          1338\n",
              "23              24   92.1472  82.0765  86.8208           751\n",
              "24              25   91.3194  63.6804  75.0357           263\n",
              "25              26   95.6522     87.5  91.3947           154\n",
              "26              27   92.8571  79.3893  85.5967           104\n",
              "27              29     93.75  94.9367  94.3396           300\n",
              "28              30   70.6422  75.4902  72.9858            77\n",
              "29              31   50.3145  77.6699  61.0687            80\n",
              "30              32   76.5152  56.7416  65.1613           101\n",
              "31              33   91.8919       50  64.7619            34\n",
              "32              34   86.0738  91.2811   88.601           513\n",
              "33              35        50  55.5556  52.6316             5\n",
              "34              36       100       75  85.7143            12\n",
              "35              37   90.1786  99.0196  94.3925           101\n",
              "36              38   53.4884  58.9744  56.0976            23\n",
              "37              39   79.3333       85   82.069           119\n",
              "38              40       100  99.6429  99.8211           279\n",
              "39              41   68.1818       75  71.4286            15\n",
              "40              42       100  70.5882  82.7586            12\n",
              "41              43        25  11.1111  15.3846             1\n",
              "42              45         0        0        -             0\n",
              "43              46        50       20  28.5714             1\n",
              "44  accuracy=93.10                                          "
            ]
          },
          "metadata": {
            "tags": []
          }
        },
        {
          "output_type": "stream",
          "text": [
            "CPU times: user 2.98 s, sys: 91.1 ms, total: 3.07 s\n",
            "Wall time: 2.82 s\n"
          ],
          "name": "stdout"
        }
      ]
    },
    {
      "cell_type": "markdown",
      "metadata": {
        "id": "H0NKka14hHQw"
      },
      "source": [
        "## 4.2 CRF Viterbi"
      ]
    },
    {
      "cell_type": "markdown",
      "metadata": {
        "id": "ijd1rwTghHQx"
      },
      "source": [
        "Your next task is to incorporate Conditional random fields (CRF) to your model.\n",
        "\n",
        "To use the CRF layer, you need to use an extension repository for tensorflow library, call tf2crf. If you want to see the detailed implementation, you should read the official tensorflow extention of CRF (https://www.tensorflow.org/addons/api_docs/python/tfa/text).\n",
        "\n",
        "tf2crf link :  https://github.com/xuxingya/tf2crf\n",
        "\n",
        "For inference, you should look at crf.py at the method call and view the input/output argmunets. \n",
        "Link : https://github.com/xuxingya/tf2crf/blob/master/tf2crf/crf.py\n",
        "\n"
      ]
    },
    {
      "cell_type": "markdown",
      "metadata": {
        "id": "KuybajePhHQy"
      },
      "source": [
        "### 4.2.1 CRF without pretrained weight\n",
        "### #TODO 1\n",
        "Incoperate CRF layer to your model in 4.1. CRF is quite complex compare to previous example model, so you should train it with more epoch, so it can converge.\n",
        "\n",
        "To finish this excercise you must train the model and show the evaluation report with this model as shown in the example.\n",
        "\n",
        "Do not forget to save this model weight."
      ]
    },
    {
      "cell_type": "code",
      "metadata": {
        "colab": {
          "base_uri": "https://localhost:8080/"
        },
        "id": "CFAO7TOtSaUT",
        "outputId": "67cfdcc3-f4e0-4cc4-d7bd-cd4a4aff6c00"
      },
      "source": [
        "x_train.shape"
      ],
      "execution_count": 20,
      "outputs": [
        {
          "output_type": "execute_result",
          "data": {
            "text/plain": [
              "(18500, 102)"
            ]
          },
          "metadata": {
            "tags": []
          },
          "execution_count": 20
        }
      ]
    },
    {
      "cell_type": "code",
      "metadata": {
        "colab": {
          "base_uri": "https://localhost:8080/"
        },
        "id": "0ksgNw8OSctH",
        "outputId": "c6358dfc-5aa4-4f15-b69e-63d7fbf02558"
      },
      "source": [
        "y_train.shape"
      ],
      "execution_count": 21,
      "outputs": [
        {
          "output_type": "execute_result",
          "data": {
            "text/plain": [
              "(18500, 102, 48)"
            ]
          },
          "metadata": {
            "tags": []
          },
          "execution_count": 21
        }
      ]
    },
    {
      "cell_type": "code",
      "metadata": {
        "id": "lEV0q1vAhHQy",
        "colab": {
          "base_uri": "https://localhost:8080/"
        },
        "outputId": "02749785-676c-440f-a0c9-6d9ab4727f9b"
      },
      "source": [
        "import numpy\r\n",
        "from tf2crf import CRF, ModelWithCRFLoss\r\n",
        "\r\n",
        "\r\n",
        "inputs = Input(shape=(102,), dtype='int32')\r\n",
        "output = (Embedding(len(word_to_idx),32,input_length=102,mask_zero=True))(inputs)\r\n",
        "output = Bidirectional(GRU(32, return_sequences=True))(output)\r\n",
        "output = Dropout(0.2)(output)\r\n",
        "output = Dense(n_classes)(output)\r\n",
        "crf = CRF(dtype='float32')\r\n",
        "output = crf(output)\r\n",
        "model = Model(inputs, output)\r\n",
        "model = ModelWithCRFLoss(model)\r\n",
        "model.compile(optimizer=Adam(lr=0.001), metrics=['categorical_accuracy'])\r\n",
        "\r\n",
        "# model.summary()\r\n",
        "model.fit(x_train,y=np.argmax(y_train, axis=2), batch_size=64,epochs=13,verbose=1)\r\n",
        "\r\n",
        "model.save_weights('to_do1.h5')\r\n"
      ],
      "execution_count": 24,
      "outputs": [
        {
          "output_type": "stream",
          "text": [
            "Epoch 1/13\n",
            "290/290 [==============================] - 69s 212ms/step - crf_loss: 26.1031 - accuracy: 0.5658\n",
            "Epoch 2/13\n",
            "290/290 [==============================] - 62s 212ms/step - crf_loss: 5.8303 - accuracy: 0.9078\n",
            "Epoch 3/13\n",
            "290/290 [==============================] - 62s 213ms/step - crf_loss: 3.6437 - accuracy: 0.9361\n",
            "Epoch 4/13\n",
            "290/290 [==============================] - 62s 215ms/step - crf_loss: 2.9005 - accuracy: 0.9461\n",
            "Epoch 5/13\n",
            "290/290 [==============================] - 62s 212ms/step - crf_loss: 2.5621 - accuracy: 0.9509\n",
            "Epoch 6/13\n",
            "290/290 [==============================] - 61s 209ms/step - crf_loss: 2.3431 - accuracy: 0.9539\n",
            "Epoch 7/13\n",
            "290/290 [==============================] - 60s 207ms/step - crf_loss: 2.1868 - accuracy: 0.9562\n",
            "Epoch 8/13\n",
            "290/290 [==============================] - 60s 207ms/step - crf_loss: 2.0427 - accuracy: 0.9583\n",
            "Epoch 9/13\n",
            "290/290 [==============================] - 60s 208ms/step - crf_loss: 1.9442 - accuracy: 0.9600\n",
            "Epoch 10/13\n",
            "290/290 [==============================] - 60s 208ms/step - crf_loss: 1.8579 - accuracy: 0.9613\n",
            "Epoch 11/13\n",
            "290/290 [==============================] - 61s 209ms/step - crf_loss: 1.7854 - accuracy: 0.9623\n",
            "Epoch 12/13\n",
            "290/290 [==============================] - 61s 211ms/step - crf_loss: 1.7058 - accuracy: 0.9644\n",
            "Epoch 13/13\n",
            "290/290 [==============================] - 61s 211ms/step - crf_loss: 1.6237 - accuracy: 0.9656\n"
          ],
          "name": "stdout"
        }
      ]
    },
    {
      "cell_type": "code",
      "metadata": {
        "id": "CADuMz2dmFBo",
        "outputId": "13920ecb-be0a-45d0-c15a-8384dcce8868",
        "colab": {
          "base_uri": "https://localhost:8080/",
          "height": 1000
        }
      },
      "source": [
        "#model.load_weights('/data/my_pos_no_crf.h5')\r\n",
        "y_pred=model.predict(x_test)\r\n",
        "\r\n",
        "evaluation_report(y_test, y_pred[0])"
      ],
      "execution_count": 27,
      "outputs": [
        {
          "output_type": "display_data",
          "data": {
            "text/html": [
              "<div>\n",
              "<style scoped>\n",
              "    .dataframe tbody tr th:only-of-type {\n",
              "        vertical-align: middle;\n",
              "    }\n",
              "\n",
              "    .dataframe tbody tr th {\n",
              "        vertical-align: top;\n",
              "    }\n",
              "\n",
              "    .dataframe thead th {\n",
              "        text-align: right;\n",
              "    }\n",
              "</style>\n",
              "<table border=\"1\" class=\"dataframe\">\n",
              "  <thead>\n",
              "    <tr style=\"text-align: right;\">\n",
              "      <th></th>\n",
              "      <th>tag</th>\n",
              "      <th>precision</th>\n",
              "      <th>recall</th>\n",
              "      <th>f_score</th>\n",
              "      <th>correct_count</th>\n",
              "    </tr>\n",
              "  </thead>\n",
              "  <tbody>\n",
              "    <tr>\n",
              "      <th>0</th>\n",
              "      <td>0</td>\n",
              "      <td>-</td>\n",
              "      <td>0</td>\n",
              "      <td>-</td>\n",
              "      <td>0</td>\n",
              "    </tr>\n",
              "    <tr>\n",
              "      <th>1</th>\n",
              "      <td>1</td>\n",
              "      <td>99.7827</td>\n",
              "      <td>99.7015</td>\n",
              "      <td>99.7421</td>\n",
              "      <td>3674</td>\n",
              "    </tr>\n",
              "    <tr>\n",
              "      <th>2</th>\n",
              "      <td>2</td>\n",
              "      <td>95.1404</td>\n",
              "      <td>94.4714</td>\n",
              "      <td>94.8047</td>\n",
              "      <td>7792</td>\n",
              "    </tr>\n",
              "    <tr>\n",
              "      <th>3</th>\n",
              "      <td>3</td>\n",
              "      <td>91.1425</td>\n",
              "      <td>96.2638</td>\n",
              "      <td>93.6332</td>\n",
              "      <td>16258</td>\n",
              "    </tr>\n",
              "    <tr>\n",
              "      <th>4</th>\n",
              "      <td>4</td>\n",
              "      <td>99.9922</td>\n",
              "      <td>99.644</td>\n",
              "      <td>99.8178</td>\n",
              "      <td>12876</td>\n",
              "    </tr>\n",
              "    <tr>\n",
              "      <th>5</th>\n",
              "      <td>5</td>\n",
              "      <td>88</td>\n",
              "      <td>98.5075</td>\n",
              "      <td>92.9577</td>\n",
              "      <td>66</td>\n",
              "    </tr>\n",
              "    <tr>\n",
              "      <th>6</th>\n",
              "      <td>6</td>\n",
              "      <td>99.7817</td>\n",
              "      <td>87.5479</td>\n",
              "      <td>93.2653</td>\n",
              "      <td>457</td>\n",
              "    </tr>\n",
              "    <tr>\n",
              "      <th>7</th>\n",
              "      <td>7</td>\n",
              "      <td>97.5551</td>\n",
              "      <td>97.8836</td>\n",
              "      <td>97.7191</td>\n",
              "      <td>2035</td>\n",
              "    </tr>\n",
              "    <tr>\n",
              "      <th>8</th>\n",
              "      <td>8</td>\n",
              "      <td>69.2833</td>\n",
              "      <td>48.9157</td>\n",
              "      <td>57.3446</td>\n",
              "      <td>203</td>\n",
              "    </tr>\n",
              "    <tr>\n",
              "      <th>9</th>\n",
              "      <td>9</td>\n",
              "      <td>61.0667</td>\n",
              "      <td>62.2283</td>\n",
              "      <td>61.642</td>\n",
              "      <td>229</td>\n",
              "    </tr>\n",
              "    <tr>\n",
              "      <th>10</th>\n",
              "      <td>10</td>\n",
              "      <td>62.1053</td>\n",
              "      <td>42.1931</td>\n",
              "      <td>50.2484</td>\n",
              "      <td>354</td>\n",
              "    </tr>\n",
              "    <tr>\n",
              "      <th>11</th>\n",
              "      <td>11</td>\n",
              "      <td>88.8889</td>\n",
              "      <td>93.0233</td>\n",
              "      <td>90.9091</td>\n",
              "      <td>80</td>\n",
              "    </tr>\n",
              "    <tr>\n",
              "      <th>12</th>\n",
              "      <td>12</td>\n",
              "      <td>96.2195</td>\n",
              "      <td>98.5019</td>\n",
              "      <td>97.3473</td>\n",
              "      <td>789</td>\n",
              "    </tr>\n",
              "    <tr>\n",
              "      <th>13</th>\n",
              "      <td>13</td>\n",
              "      <td>89.3666</td>\n",
              "      <td>85.5871</td>\n",
              "      <td>87.436</td>\n",
              "      <td>3076</td>\n",
              "    </tr>\n",
              "    <tr>\n",
              "      <th>14</th>\n",
              "      <td>14</td>\n",
              "      <td>94.5584</td>\n",
              "      <td>94.0244</td>\n",
              "      <td>94.2907</td>\n",
              "      <td>5161</td>\n",
              "    </tr>\n",
              "    <tr>\n",
              "      <th>15</th>\n",
              "      <td>15</td>\n",
              "      <td>83.4719</td>\n",
              "      <td>71.5686</td>\n",
              "      <td>77.0633</td>\n",
              "      <td>803</td>\n",
              "    </tr>\n",
              "    <tr>\n",
              "      <th>16</th>\n",
              "      <td>16</td>\n",
              "      <td>88.5033</td>\n",
              "      <td>88.1349</td>\n",
              "      <td>88.3187</td>\n",
              "      <td>2117</td>\n",
              "    </tr>\n",
              "    <tr>\n",
              "      <th>17</th>\n",
              "      <td>17</td>\n",
              "      <td>97.5855</td>\n",
              "      <td>83.0479</td>\n",
              "      <td>89.7317</td>\n",
              "      <td>485</td>\n",
              "    </tr>\n",
              "    <tr>\n",
              "      <th>18</th>\n",
              "      <td>18</td>\n",
              "      <td>98.6219</td>\n",
              "      <td>99.1342</td>\n",
              "      <td>98.8774</td>\n",
              "      <td>1145</td>\n",
              "    </tr>\n",
              "    <tr>\n",
              "      <th>19</th>\n",
              "      <td>19</td>\n",
              "      <td>97.6401</td>\n",
              "      <td>95.942</td>\n",
              "      <td>96.7836</td>\n",
              "      <td>331</td>\n",
              "    </tr>\n",
              "    <tr>\n",
              "      <th>20</th>\n",
              "      <td>20</td>\n",
              "      <td>98.2818</td>\n",
              "      <td>96.9492</td>\n",
              "      <td>97.6109</td>\n",
              "      <td>286</td>\n",
              "    </tr>\n",
              "    <tr>\n",
              "      <th>21</th>\n",
              "      <td>21</td>\n",
              "      <td>93.5484</td>\n",
              "      <td>93.7954</td>\n",
              "      <td>93.6717</td>\n",
              "      <td>1421</td>\n",
              "    </tr>\n",
              "    <tr>\n",
              "      <th>22</th>\n",
              "      <td>22</td>\n",
              "      <td>82.3752</td>\n",
              "      <td>81.3475</td>\n",
              "      <td>81.8581</td>\n",
              "      <td>1304</td>\n",
              "    </tr>\n",
              "    <tr>\n",
              "      <th>23</th>\n",
              "      <td>23</td>\n",
              "      <td>89.3255</td>\n",
              "      <td>96.669</td>\n",
              "      <td>92.8523</td>\n",
              "      <td>1364</td>\n",
              "    </tr>\n",
              "    <tr>\n",
              "      <th>24</th>\n",
              "      <td>24</td>\n",
              "      <td>86.755</td>\n",
              "      <td>85.9016</td>\n",
              "      <td>86.3262</td>\n",
              "      <td>786</td>\n",
              "    </tr>\n",
              "    <tr>\n",
              "      <th>25</th>\n",
              "      <td>25</td>\n",
              "      <td>90.4437</td>\n",
              "      <td>64.1646</td>\n",
              "      <td>75.0708</td>\n",
              "      <td>265</td>\n",
              "    </tr>\n",
              "    <tr>\n",
              "      <th>26</th>\n",
              "      <td>26</td>\n",
              "      <td>93.7853</td>\n",
              "      <td>94.3182</td>\n",
              "      <td>94.051</td>\n",
              "      <td>166</td>\n",
              "    </tr>\n",
              "    <tr>\n",
              "      <th>27</th>\n",
              "      <td>27</td>\n",
              "      <td>92.5</td>\n",
              "      <td>84.7328</td>\n",
              "      <td>88.4462</td>\n",
              "      <td>111</td>\n",
              "    </tr>\n",
              "    <tr>\n",
              "      <th>28</th>\n",
              "      <td>29</td>\n",
              "      <td>93.6556</td>\n",
              "      <td>98.1013</td>\n",
              "      <td>95.8269</td>\n",
              "      <td>310</td>\n",
              "    </tr>\n",
              "    <tr>\n",
              "      <th>29</th>\n",
              "      <td>30</td>\n",
              "      <td>71.2963</td>\n",
              "      <td>75.4902</td>\n",
              "      <td>73.3333</td>\n",
              "      <td>77</td>\n",
              "    </tr>\n",
              "    <tr>\n",
              "      <th>30</th>\n",
              "      <td>31</td>\n",
              "      <td>47.191</td>\n",
              "      <td>81.5534</td>\n",
              "      <td>59.7865</td>\n",
              "      <td>84</td>\n",
              "    </tr>\n",
              "    <tr>\n",
              "      <th>31</th>\n",
              "      <td>32</td>\n",
              "      <td>71.1409</td>\n",
              "      <td>59.5506</td>\n",
              "      <td>64.8318</td>\n",
              "      <td>106</td>\n",
              "    </tr>\n",
              "    <tr>\n",
              "      <th>32</th>\n",
              "      <td>33</td>\n",
              "      <td>85.3659</td>\n",
              "      <td>51.4706</td>\n",
              "      <td>64.2202</td>\n",
              "      <td>35</td>\n",
              "    </tr>\n",
              "    <tr>\n",
              "      <th>33</th>\n",
              "      <td>34</td>\n",
              "      <td>88.5764</td>\n",
              "      <td>89.6797</td>\n",
              "      <td>89.1247</td>\n",
              "      <td>504</td>\n",
              "    </tr>\n",
              "    <tr>\n",
              "      <th>34</th>\n",
              "      <td>35</td>\n",
              "      <td>83.3333</td>\n",
              "      <td>55.5556</td>\n",
              "      <td>66.6667</td>\n",
              "      <td>5</td>\n",
              "    </tr>\n",
              "    <tr>\n",
              "      <th>35</th>\n",
              "      <td>36</td>\n",
              "      <td>100</td>\n",
              "      <td>100</td>\n",
              "      <td>100</td>\n",
              "      <td>16</td>\n",
              "    </tr>\n",
              "    <tr>\n",
              "      <th>36</th>\n",
              "      <td>37</td>\n",
              "      <td>93.5185</td>\n",
              "      <td>99.0196</td>\n",
              "      <td>96.1905</td>\n",
              "      <td>101</td>\n",
              "    </tr>\n",
              "    <tr>\n",
              "      <th>37</th>\n",
              "      <td>38</td>\n",
              "      <td>62.5</td>\n",
              "      <td>51.2821</td>\n",
              "      <td>56.338</td>\n",
              "      <td>20</td>\n",
              "    </tr>\n",
              "    <tr>\n",
              "      <th>38</th>\n",
              "      <td>39</td>\n",
              "      <td>77.6398</td>\n",
              "      <td>89.2857</td>\n",
              "      <td>83.0565</td>\n",
              "      <td>125</td>\n",
              "    </tr>\n",
              "    <tr>\n",
              "      <th>39</th>\n",
              "      <td>40</td>\n",
              "      <td>100</td>\n",
              "      <td>100</td>\n",
              "      <td>100</td>\n",
              "      <td>280</td>\n",
              "    </tr>\n",
              "    <tr>\n",
              "      <th>40</th>\n",
              "      <td>41</td>\n",
              "      <td>88.8889</td>\n",
              "      <td>80</td>\n",
              "      <td>84.2105</td>\n",
              "      <td>16</td>\n",
              "    </tr>\n",
              "    <tr>\n",
              "      <th>41</th>\n",
              "      <td>42</td>\n",
              "      <td>100</td>\n",
              "      <td>88.2353</td>\n",
              "      <td>93.75</td>\n",
              "      <td>15</td>\n",
              "    </tr>\n",
              "    <tr>\n",
              "      <th>42</th>\n",
              "      <td>43</td>\n",
              "      <td>0</td>\n",
              "      <td>0</td>\n",
              "      <td>-</td>\n",
              "      <td>0</td>\n",
              "    </tr>\n",
              "    <tr>\n",
              "      <th>43</th>\n",
              "      <td>45</td>\n",
              "      <td>0</td>\n",
              "      <td>0</td>\n",
              "      <td>-</td>\n",
              "      <td>0</td>\n",
              "    </tr>\n",
              "    <tr>\n",
              "      <th>44</th>\n",
              "      <td>46</td>\n",
              "      <td>-</td>\n",
              "      <td>0</td>\n",
              "      <td>-</td>\n",
              "      <td>0</td>\n",
              "    </tr>\n",
              "    <tr>\n",
              "      <th>45</th>\n",
              "      <td>accuracy=93.28</td>\n",
              "      <td></td>\n",
              "      <td></td>\n",
              "      <td></td>\n",
              "      <td></td>\n",
              "    </tr>\n",
              "  </tbody>\n",
              "</table>\n",
              "</div>"
            ],
            "text/plain": [
              "               tag precision   recall  f_score correct_count\n",
              "0                0         -        0        -             0\n",
              "1                1   99.7827  99.7015  99.7421          3674\n",
              "2                2   95.1404  94.4714  94.8047          7792\n",
              "3                3   91.1425  96.2638  93.6332         16258\n",
              "4                4   99.9922   99.644  99.8178         12876\n",
              "5                5        88  98.5075  92.9577            66\n",
              "6                6   99.7817  87.5479  93.2653           457\n",
              "7                7   97.5551  97.8836  97.7191          2035\n",
              "8                8   69.2833  48.9157  57.3446           203\n",
              "9                9   61.0667  62.2283   61.642           229\n",
              "10              10   62.1053  42.1931  50.2484           354\n",
              "11              11   88.8889  93.0233  90.9091            80\n",
              "12              12   96.2195  98.5019  97.3473           789\n",
              "13              13   89.3666  85.5871   87.436          3076\n",
              "14              14   94.5584  94.0244  94.2907          5161\n",
              "15              15   83.4719  71.5686  77.0633           803\n",
              "16              16   88.5033  88.1349  88.3187          2117\n",
              "17              17   97.5855  83.0479  89.7317           485\n",
              "18              18   98.6219  99.1342  98.8774          1145\n",
              "19              19   97.6401   95.942  96.7836           331\n",
              "20              20   98.2818  96.9492  97.6109           286\n",
              "21              21   93.5484  93.7954  93.6717          1421\n",
              "22              22   82.3752  81.3475  81.8581          1304\n",
              "23              23   89.3255   96.669  92.8523          1364\n",
              "24              24    86.755  85.9016  86.3262           786\n",
              "25              25   90.4437  64.1646  75.0708           265\n",
              "26              26   93.7853  94.3182   94.051           166\n",
              "27              27      92.5  84.7328  88.4462           111\n",
              "28              29   93.6556  98.1013  95.8269           310\n",
              "29              30   71.2963  75.4902  73.3333            77\n",
              "30              31    47.191  81.5534  59.7865            84\n",
              "31              32   71.1409  59.5506  64.8318           106\n",
              "32              33   85.3659  51.4706  64.2202            35\n",
              "33              34   88.5764  89.6797  89.1247           504\n",
              "34              35   83.3333  55.5556  66.6667             5\n",
              "35              36       100      100      100            16\n",
              "36              37   93.5185  99.0196  96.1905           101\n",
              "37              38      62.5  51.2821   56.338            20\n",
              "38              39   77.6398  89.2857  83.0565           125\n",
              "39              40       100      100      100           280\n",
              "40              41   88.8889       80  84.2105            16\n",
              "41              42       100  88.2353    93.75            15\n",
              "42              43         0        0        -             0\n",
              "43              45         0        0        -             0\n",
              "44              46         -        0        -             0\n",
              "45  accuracy=93.28                                          "
            ]
          },
          "metadata": {
            "tags": []
          }
        }
      ]
    },
    {
      "cell_type": "markdown",
      "metadata": {
        "id": "qOnHO-__kj7T"
      },
      "source": [
        "\n",
        "### 4.2.2 CRF with pretrained weight\n",
        "\n",
        "### #TODO 2\n",
        "\n",
        "We would like you create a neural CRF POS tagger model  with the pretrained word embedding as an input and the word embedding is trainable (not fixed). To finish this excercise you must train the model and show the evaluation report with this model as shown in the example.\n",
        "\n",
        "Please note that the given pretrained word embedding only have weights for the vocabuary in BEST corpus.\n",
        "\n",
        "Optionally, you can use your own pretrained word embedding.\n",
        "\n",
        "#### Hint: You can get the embedding from get_embeddings function from embeddings/emb_reader.py . \n",
        "\n",
        "(You may want to read about Tensorflow Masking layer and Trainable parameter)"
      ]
    },
    {
      "cell_type": "code",
      "metadata": {
        "id": "YhZI1RoPe2xL"
      },
      "source": [
        "import embeddings.emb_reader as emb"
      ],
      "execution_count": 29,
      "outputs": []
    },
    {
      "cell_type": "code",
      "metadata": {
        "id": "yCy4-vmne8Tj"
      },
      "source": [
        "pretrained_dict =  emb.get_embeddings()"
      ],
      "execution_count": 38,
      "outputs": []
    },
    {
      "cell_type": "code",
      "metadata": {
        "id": "h49eX7iJmyAF",
        "outputId": "a6eba06e-7e73-4d0b-da06-8b2445757814",
        "colab": {
          "base_uri": "https://localhost:8080/"
        }
      },
      "source": [
        "embedding_matrix = []\r\n",
        "count = 0\r\n",
        "for key in word_to_idx:\r\n",
        "  if key in pretrained_dict:\r\n",
        "    embedding_matrix.append(pretrained_dict[key])\r\n",
        "  else:\r\n",
        "    count += 1\r\n",
        "    embedding_matrix.append(np.zeros(64))\r\n",
        "print(count)"
      ],
      "execution_count": 42,
      "outputs": [
        {
          "output_type": "stream",
          "text": [
            "11313\n"
          ],
          "name": "stdout"
        }
      ]
    },
    {
      "cell_type": "code",
      "metadata": {
        "id": "z5uqLehZnwt1",
        "outputId": "88aca4d4-e15c-4a3b-e9b4-3ba26d5237d6",
        "colab": {
          "base_uri": "https://localhost:8080/"
        }
      },
      "source": [
        "np.array(embedding_matrix).shape"
      ],
      "execution_count": 43,
      "outputs": [
        {
          "output_type": "execute_result",
          "data": {
            "text/plain": [
              "(15019, 64)"
            ]
          },
          "metadata": {
            "tags": []
          },
          "execution_count": 43
        }
      ]
    },
    {
      "cell_type": "code",
      "metadata": {
        "id": "KVBAv3a9kanH",
        "colab": {
          "base_uri": "https://localhost:8080/"
        },
        "outputId": "4c787227-8a3d-43c8-ec54-e7c5bf962631"
      },
      "source": [
        "import numpy\r\n",
        "from tf2crf import CRF, ModelWithCRFLoss\r\n",
        "from keras import initializers\r\n",
        "\r\n",
        "inputs = Input(shape=(102,), dtype='int32')\r\n",
        "output = (Embedding(len(word_to_idx),64,input_length=102,mask_zero=True,embeddings_initializer=initializers.Constant(embedding_matrix)))(inputs)\r\n",
        "output = Bidirectional(GRU(64, return_sequences=True))(output)\r\n",
        "output = Dropout(0.2)(output)\r\n",
        "crf = CRF(dtype='float32')\r\n",
        "output = crf(output)\r\n",
        "model = Model(inputs, output)\r\n",
        "model = ModelWithCRFLoss(model)\r\n",
        "model.compile(optimizer=Adam(lr=0.001), metrics=['categorical_accuracy'])\r\n",
        "\r\n",
        "model.fit(x_train,y=np.argmax(y_train, axis=2), batch_size=1024,epochs=13,verbose=1)\r\n",
        "model.summary()"
      ],
      "execution_count": 46,
      "outputs": [
        {
          "output_type": "stream",
          "text": [
            "Epoch 1/13\n",
            "290/290 [==============================] - 73s 227ms/step - crf_loss: 51.6465 - accuracy: 0.2233\n",
            "Epoch 2/13\n",
            "290/290 [==============================] - 65s 226ms/step - crf_loss: 38.7382 - accuracy: 0.3560\n",
            "Epoch 3/13\n",
            "290/290 [==============================] - 65s 225ms/step - crf_loss: 31.3212 - accuracy: 0.4590\n",
            "Epoch 4/13\n",
            "290/290 [==============================] - 66s 226ms/step - crf_loss: 26.1557 - accuracy: 0.5974\n",
            "Epoch 5/13\n",
            "290/290 [==============================] - 66s 227ms/step - crf_loss: 22.5115 - accuracy: 0.6728\n",
            "Epoch 6/13\n",
            "290/290 [==============================] - 66s 226ms/step - crf_loss: 18.7231 - accuracy: 0.8211\n",
            "Epoch 7/13\n",
            "290/290 [==============================] - 66s 227ms/step - crf_loss: 16.4863 - accuracy: 0.8426\n",
            "Epoch 8/13\n",
            "290/290 [==============================] - 65s 225ms/step - crf_loss: 15.2270 - accuracy: 0.8428\n",
            "Epoch 9/13\n",
            "290/290 [==============================] - 65s 225ms/step - crf_loss: 14.5125 - accuracy: 0.8352\n",
            "Epoch 10/13\n",
            "290/290 [==============================] - 66s 228ms/step - crf_loss: 14.0505 - accuracy: 0.8280\n",
            "Epoch 11/13\n",
            "290/290 [==============================] - 65s 226ms/step - crf_loss: 13.7313 - accuracy: 0.8222\n",
            "Epoch 12/13\n",
            "290/290 [==============================] - 65s 225ms/step - crf_loss: 13.4664 - accuracy: 0.8189\n",
            "Epoch 13/13\n",
            "290/290 [==============================] - 65s 225ms/step - crf_loss: 13.3528 - accuracy: 0.8175\n",
            "Model: \"model_with_crf_loss_4\"\n",
            "_________________________________________________________________\n",
            "Layer (type)                 Output Shape              Param #   \n",
            "=================================================================\n",
            "model_5 (Functional)         ((None, 102), (None, 102, 1027522   \n",
            "=================================================================\n",
            "Total params: 1,027,524\n",
            "Trainable params: 1,027,520\n",
            "Non-trainable params: 4\n",
            "_________________________________________________________________\n"
          ],
          "name": "stdout"
        }
      ]
    },
    {
      "cell_type": "code",
      "metadata": {
        "id": "y4j--KztuFUz",
        "outputId": "56b83e94-5ea4-4f5d-8034-27b142e4101f",
        "colab": {
          "base_uri": "https://localhost:8080/",
          "height": 1000
        }
      },
      "source": [
        "y_pred=model.predict(x_test)\r\n",
        "\r\n",
        "evaluation_report(y_test, y_pred[0])"
      ],
      "execution_count": 54,
      "outputs": [
        {
          "output_type": "display_data",
          "data": {
            "text/html": [
              "<div>\n",
              "<style scoped>\n",
              "    .dataframe tbody tr th:only-of-type {\n",
              "        vertical-align: middle;\n",
              "    }\n",
              "\n",
              "    .dataframe tbody tr th {\n",
              "        vertical-align: top;\n",
              "    }\n",
              "\n",
              "    .dataframe thead th {\n",
              "        text-align: right;\n",
              "    }\n",
              "</style>\n",
              "<table border=\"1\" class=\"dataframe\">\n",
              "  <thead>\n",
              "    <tr style=\"text-align: right;\">\n",
              "      <th></th>\n",
              "      <th>tag</th>\n",
              "      <th>precision</th>\n",
              "      <th>recall</th>\n",
              "      <th>f_score</th>\n",
              "      <th>correct_count</th>\n",
              "    </tr>\n",
              "  </thead>\n",
              "  <tbody>\n",
              "    <tr>\n",
              "      <th>0</th>\n",
              "      <td>0</td>\n",
              "      <td>-</td>\n",
              "      <td>0</td>\n",
              "      <td>-</td>\n",
              "      <td>0</td>\n",
              "    </tr>\n",
              "    <tr>\n",
              "      <th>1</th>\n",
              "      <td>1</td>\n",
              "      <td>84.8258</td>\n",
              "      <td>98.4532</td>\n",
              "      <td>91.1329</td>\n",
              "      <td>3628</td>\n",
              "    </tr>\n",
              "    <tr>\n",
              "      <th>2</th>\n",
              "      <td>2</td>\n",
              "      <td>91.0856</td>\n",
              "      <td>91.5495</td>\n",
              "      <td>91.317</td>\n",
              "      <td>7551</td>\n",
              "    </tr>\n",
              "    <tr>\n",
              "      <th>3</th>\n",
              "      <td>3</td>\n",
              "      <td>80.7324</td>\n",
              "      <td>97.2526</td>\n",
              "      <td>88.2258</td>\n",
              "      <td>16425</td>\n",
              "    </tr>\n",
              "    <tr>\n",
              "      <th>4</th>\n",
              "      <td>4</td>\n",
              "      <td>92.6866</td>\n",
              "      <td>98.8624</td>\n",
              "      <td>95.675</td>\n",
              "      <td>12775</td>\n",
              "    </tr>\n",
              "    <tr>\n",
              "      <th>5</th>\n",
              "      <td>5</td>\n",
              "      <td>-</td>\n",
              "      <td>0</td>\n",
              "      <td>-</td>\n",
              "      <td>0</td>\n",
              "    </tr>\n",
              "    <tr>\n",
              "      <th>6</th>\n",
              "      <td>6</td>\n",
              "      <td>99.7696</td>\n",
              "      <td>82.9502</td>\n",
              "      <td>90.5858</td>\n",
              "      <td>433</td>\n",
              "    </tr>\n",
              "    <tr>\n",
              "      <th>7</th>\n",
              "      <td>7</td>\n",
              "      <td>96.7376</td>\n",
              "      <td>65.6085</td>\n",
              "      <td>78.1886</td>\n",
              "      <td>1364</td>\n",
              "    </tr>\n",
              "    <tr>\n",
              "      <th>8</th>\n",
              "      <td>8</td>\n",
              "      <td>78.2946</td>\n",
              "      <td>24.3373</td>\n",
              "      <td>37.1324</td>\n",
              "      <td>101</td>\n",
              "    </tr>\n",
              "    <tr>\n",
              "      <th>9</th>\n",
              "      <td>9</td>\n",
              "      <td>62.2642</td>\n",
              "      <td>8.96739</td>\n",
              "      <td>15.677</td>\n",
              "      <td>33</td>\n",
              "    </tr>\n",
              "    <tr>\n",
              "      <th>10</th>\n",
              "      <td>10</td>\n",
              "      <td>78.4091</td>\n",
              "      <td>32.8963</td>\n",
              "      <td>46.3476</td>\n",
              "      <td>276</td>\n",
              "    </tr>\n",
              "    <tr>\n",
              "      <th>11</th>\n",
              "      <td>11</td>\n",
              "      <td>100</td>\n",
              "      <td>36.0465</td>\n",
              "      <td>52.9915</td>\n",
              "      <td>31</td>\n",
              "    </tr>\n",
              "    <tr>\n",
              "      <th>12</th>\n",
              "      <td>12</td>\n",
              "      <td>91.9308</td>\n",
              "      <td>79.6504</td>\n",
              "      <td>85.3512</td>\n",
              "      <td>638</td>\n",
              "    </tr>\n",
              "    <tr>\n",
              "      <th>13</th>\n",
              "      <td>13</td>\n",
              "      <td>88.4704</td>\n",
              "      <td>75.153</td>\n",
              "      <td>81.2697</td>\n",
              "      <td>2701</td>\n",
              "    </tr>\n",
              "    <tr>\n",
              "      <th>14</th>\n",
              "      <td>14</td>\n",
              "      <td>84.2624</td>\n",
              "      <td>95.0082</td>\n",
              "      <td>89.3132</td>\n",
              "      <td>5215</td>\n",
              "    </tr>\n",
              "    <tr>\n",
              "      <th>15</th>\n",
              "      <td>15</td>\n",
              "      <td>73.3967</td>\n",
              "      <td>55.0802</td>\n",
              "      <td>62.9328</td>\n",
              "      <td>618</td>\n",
              "    </tr>\n",
              "    <tr>\n",
              "      <th>16</th>\n",
              "      <td>16</td>\n",
              "      <td>85.0412</td>\n",
              "      <td>77.3938</td>\n",
              "      <td>81.0375</td>\n",
              "      <td>1859</td>\n",
              "    </tr>\n",
              "    <tr>\n",
              "      <th>17</th>\n",
              "      <td>17</td>\n",
              "      <td>94.7867</td>\n",
              "      <td>68.4932</td>\n",
              "      <td>79.5229</td>\n",
              "      <td>400</td>\n",
              "    </tr>\n",
              "    <tr>\n",
              "      <th>18</th>\n",
              "      <td>18</td>\n",
              "      <td>86.7518</td>\n",
              "      <td>94.1126</td>\n",
              "      <td>90.2824</td>\n",
              "      <td>1087</td>\n",
              "    </tr>\n",
              "    <tr>\n",
              "      <th>19</th>\n",
              "      <td>19</td>\n",
              "      <td>99.4949</td>\n",
              "      <td>57.1014</td>\n",
              "      <td>72.5599</td>\n",
              "      <td>197</td>\n",
              "    </tr>\n",
              "    <tr>\n",
              "      <th>20</th>\n",
              "      <td>20</td>\n",
              "      <td>95.5556</td>\n",
              "      <td>14.5763</td>\n",
              "      <td>25.2941</td>\n",
              "      <td>43</td>\n",
              "    </tr>\n",
              "    <tr>\n",
              "      <th>21</th>\n",
              "      <td>21</td>\n",
              "      <td>81.3526</td>\n",
              "      <td>81.7822</td>\n",
              "      <td>81.5668</td>\n",
              "      <td>1239</td>\n",
              "    </tr>\n",
              "    <tr>\n",
              "      <th>22</th>\n",
              "      <td>22</td>\n",
              "      <td>78.326</td>\n",
              "      <td>55.4585</td>\n",
              "      <td>64.9379</td>\n",
              "      <td>889</td>\n",
              "    </tr>\n",
              "    <tr>\n",
              "      <th>23</th>\n",
              "      <td>23</td>\n",
              "      <td>87.5298</td>\n",
              "      <td>78.1006</td>\n",
              "      <td>82.5468</td>\n",
              "      <td>1102</td>\n",
              "    </tr>\n",
              "    <tr>\n",
              "      <th>24</th>\n",
              "      <td>24</td>\n",
              "      <td>72.4868</td>\n",
              "      <td>74.8634</td>\n",
              "      <td>73.6559</td>\n",
              "      <td>685</td>\n",
              "    </tr>\n",
              "    <tr>\n",
              "      <th>25</th>\n",
              "      <td>25</td>\n",
              "      <td>88.3495</td>\n",
              "      <td>22.0339</td>\n",
              "      <td>35.2713</td>\n",
              "      <td>91</td>\n",
              "    </tr>\n",
              "    <tr>\n",
              "      <th>26</th>\n",
              "      <td>26</td>\n",
              "      <td>92.8571</td>\n",
              "      <td>44.3182</td>\n",
              "      <td>60</td>\n",
              "      <td>78</td>\n",
              "    </tr>\n",
              "    <tr>\n",
              "      <th>27</th>\n",
              "      <td>27</td>\n",
              "      <td>100</td>\n",
              "      <td>8.39695</td>\n",
              "      <td>15.493</td>\n",
              "      <td>11</td>\n",
              "    </tr>\n",
              "    <tr>\n",
              "      <th>28</th>\n",
              "      <td>29</td>\n",
              "      <td>95.3846</td>\n",
              "      <td>78.481</td>\n",
              "      <td>86.1111</td>\n",
              "      <td>248</td>\n",
              "    </tr>\n",
              "    <tr>\n",
              "      <th>29</th>\n",
              "      <td>30</td>\n",
              "      <td>20</td>\n",
              "      <td>1.96078</td>\n",
              "      <td>3.57143</td>\n",
              "      <td>2</td>\n",
              "    </tr>\n",
              "    <tr>\n",
              "      <th>30</th>\n",
              "      <td>31</td>\n",
              "      <td>84.6154</td>\n",
              "      <td>10.6796</td>\n",
              "      <td>18.9655</td>\n",
              "      <td>11</td>\n",
              "    </tr>\n",
              "    <tr>\n",
              "      <th>31</th>\n",
              "      <td>32</td>\n",
              "      <td>-</td>\n",
              "      <td>0</td>\n",
              "      <td>-</td>\n",
              "      <td>0</td>\n",
              "    </tr>\n",
              "    <tr>\n",
              "      <th>32</th>\n",
              "      <td>33</td>\n",
              "      <td>100</td>\n",
              "      <td>4.41176</td>\n",
              "      <td>8.4507</td>\n",
              "      <td>3</td>\n",
              "    </tr>\n",
              "    <tr>\n",
              "      <th>33</th>\n",
              "      <td>34</td>\n",
              "      <td>88.8496</td>\n",
              "      <td>89.3238</td>\n",
              "      <td>89.0861</td>\n",
              "      <td>502</td>\n",
              "    </tr>\n",
              "    <tr>\n",
              "      <th>34</th>\n",
              "      <td>35</td>\n",
              "      <td>-</td>\n",
              "      <td>0</td>\n",
              "      <td>-</td>\n",
              "      <td>0</td>\n",
              "    </tr>\n",
              "    <tr>\n",
              "      <th>35</th>\n",
              "      <td>36</td>\n",
              "      <td>-</td>\n",
              "      <td>0</td>\n",
              "      <td>-</td>\n",
              "      <td>0</td>\n",
              "    </tr>\n",
              "    <tr>\n",
              "      <th>36</th>\n",
              "      <td>37</td>\n",
              "      <td>66.6667</td>\n",
              "      <td>9.80392</td>\n",
              "      <td>17.094</td>\n",
              "      <td>10</td>\n",
              "    </tr>\n",
              "    <tr>\n",
              "      <th>37</th>\n",
              "      <td>38</td>\n",
              "      <td>100</td>\n",
              "      <td>2.5641</td>\n",
              "      <td>5</td>\n",
              "      <td>1</td>\n",
              "    </tr>\n",
              "    <tr>\n",
              "      <th>38</th>\n",
              "      <td>39</td>\n",
              "      <td>-</td>\n",
              "      <td>0</td>\n",
              "      <td>-</td>\n",
              "      <td>0</td>\n",
              "    </tr>\n",
              "    <tr>\n",
              "      <th>39</th>\n",
              "      <td>40</td>\n",
              "      <td>100</td>\n",
              "      <td>44.6429</td>\n",
              "      <td>61.7284</td>\n",
              "      <td>125</td>\n",
              "    </tr>\n",
              "    <tr>\n",
              "      <th>40</th>\n",
              "      <td>41</td>\n",
              "      <td>-</td>\n",
              "      <td>0</td>\n",
              "      <td>-</td>\n",
              "      <td>0</td>\n",
              "    </tr>\n",
              "    <tr>\n",
              "      <th>41</th>\n",
              "      <td>42</td>\n",
              "      <td>-</td>\n",
              "      <td>0</td>\n",
              "      <td>-</td>\n",
              "      <td>0</td>\n",
              "    </tr>\n",
              "    <tr>\n",
              "      <th>42</th>\n",
              "      <td>43</td>\n",
              "      <td>-</td>\n",
              "      <td>0</td>\n",
              "      <td>-</td>\n",
              "      <td>0</td>\n",
              "    </tr>\n",
              "    <tr>\n",
              "      <th>43</th>\n",
              "      <td>45</td>\n",
              "      <td>-</td>\n",
              "      <td>0</td>\n",
              "      <td>-</td>\n",
              "      <td>0</td>\n",
              "    </tr>\n",
              "    <tr>\n",
              "      <th>44</th>\n",
              "      <td>46</td>\n",
              "      <td>-</td>\n",
              "      <td>0</td>\n",
              "      <td>-</td>\n",
              "      <td>0</td>\n",
              "    </tr>\n",
              "    <tr>\n",
              "      <th>45</th>\n",
              "      <td>accuracy=86.20</td>\n",
              "      <td></td>\n",
              "      <td></td>\n",
              "      <td></td>\n",
              "      <td></td>\n",
              "    </tr>\n",
              "  </tbody>\n",
              "</table>\n",
              "</div>"
            ],
            "text/plain": [
              "               tag precision   recall  f_score correct_count\n",
              "0                0         -        0        -             0\n",
              "1                1   84.8258  98.4532  91.1329          3628\n",
              "2                2   91.0856  91.5495   91.317          7551\n",
              "3                3   80.7324  97.2526  88.2258         16425\n",
              "4                4   92.6866  98.8624   95.675         12775\n",
              "5                5         -        0        -             0\n",
              "6                6   99.7696  82.9502  90.5858           433\n",
              "7                7   96.7376  65.6085  78.1886          1364\n",
              "8                8   78.2946  24.3373  37.1324           101\n",
              "9                9   62.2642  8.96739   15.677            33\n",
              "10              10   78.4091  32.8963  46.3476           276\n",
              "11              11       100  36.0465  52.9915            31\n",
              "12              12   91.9308  79.6504  85.3512           638\n",
              "13              13   88.4704   75.153  81.2697          2701\n",
              "14              14   84.2624  95.0082  89.3132          5215\n",
              "15              15   73.3967  55.0802  62.9328           618\n",
              "16              16   85.0412  77.3938  81.0375          1859\n",
              "17              17   94.7867  68.4932  79.5229           400\n",
              "18              18   86.7518  94.1126  90.2824          1087\n",
              "19              19   99.4949  57.1014  72.5599           197\n",
              "20              20   95.5556  14.5763  25.2941            43\n",
              "21              21   81.3526  81.7822  81.5668          1239\n",
              "22              22    78.326  55.4585  64.9379           889\n",
              "23              23   87.5298  78.1006  82.5468          1102\n",
              "24              24   72.4868  74.8634  73.6559           685\n",
              "25              25   88.3495  22.0339  35.2713            91\n",
              "26              26   92.8571  44.3182       60            78\n",
              "27              27       100  8.39695   15.493            11\n",
              "28              29   95.3846   78.481  86.1111           248\n",
              "29              30        20  1.96078  3.57143             2\n",
              "30              31   84.6154  10.6796  18.9655            11\n",
              "31              32         -        0        -             0\n",
              "32              33       100  4.41176   8.4507             3\n",
              "33              34   88.8496  89.3238  89.0861           502\n",
              "34              35         -        0        -             0\n",
              "35              36         -        0        -             0\n",
              "36              37   66.6667  9.80392   17.094            10\n",
              "37              38       100   2.5641        5             1\n",
              "38              39         -        0        -             0\n",
              "39              40       100  44.6429  61.7284           125\n",
              "40              41         -        0        -             0\n",
              "41              42         -        0        -             0\n",
              "42              43         -        0        -             0\n",
              "43              45         -        0        -             0\n",
              "44              46         -        0        -             0\n",
              "45  accuracy=86.20                                          "
            ]
          },
          "metadata": {
            "tags": []
          }
        }
      ]
    },
    {
      "cell_type": "code",
      "metadata": {
        "id": "_H26CGf2shDH"
      },
      "source": [
        "import keras.backend as K\r\n",
        "K.clear_session()"
      ],
      "execution_count": 51,
      "outputs": []
    },
    {
      "cell_type": "code",
      "metadata": {
        "id": "xVTgYKsGr763"
      },
      "source": [
        "model.save_weights('to_do2.h5')"
      ],
      "execution_count": 47,
      "outputs": []
    },
    {
      "cell_type": "markdown",
      "metadata": {
        "id": "BYX749sbkzA-"
      },
      "source": [
        "### #TODO 3\n",
        "Compare the result between all neural tagger models in 4.1 and 4.2.x and provide a convincing reason and example for the result of these models (which model perform better, why?)\n",
        "\n",
        "(If you use your own weight please state so in the answer)"
      ]
    },
    {
      "cell_type": "markdown",
      "metadata": {
        "id": "QJKtOsoRhHQv"
      },
      "source": [
        "  from evalution results, 4.2.x perform better bacause CRF have a transition matrix that will put probablitity aporches to model and that will make language more sensible in the way of its principle"
      ]
    },
    {
      "cell_type": "markdown",
      "metadata": {
        "id": "_Z8raWOawjxp"
      },
      "source": [
        "### #TODO 4\n",
        "\n",
        "Upon inference, the model also returns its transition matrix, which is learned during training. Your task is to observe and report whether the returned matrix is sensible. You can provide some examples to support your argument.\n",
        "\n",
        "#### Hint : The transition matrix must have the shape  of (num_class, num_class).\n",
        "\n",
        "<b>Write your answer here : From the  2 heat maps above (first one is crf matrix after training, second one is crf matrix before training) the Before training show that value are random but after training the heatmap change, only some of transition has high freqency while the others has less frequency. It was sensible because if we look by the view of language's principle it always has corelation about some POS with other POS but not every POS that support the assumption in first plot.</b>"
      ]
    },
    {
      "cell_type": "code",
      "metadata": {
        "id": "TAHN4z8r3C3S"
      },
      "source": [
        "import numpy\r\n",
        "from tf2crf import CRF, ModelWithCRFLoss\r\n",
        "\r\n",
        "\r\n",
        "inputs = Input(shape=(102,), dtype='int32')\r\n",
        "output = (Embedding(len(word_to_idx),32,input_length=102,mask_zero=True))(inputs)\r\n",
        "output = Bidirectional(GRU(32, return_sequences=True))(output)\r\n",
        "output = Dropout(0.2)(output)\r\n",
        "output = Dense(n_classes)(output)\r\n",
        "crf = CRF(dtype='float32')\r\n",
        "output = crf(output)\r\n",
        "model = Model(inputs, output)\r\n",
        "model = ModelWithCRFLoss(model)\r\n",
        "model.compile(optimizer=Adam(lr=0.001), metrics=['categorical_accuracy'])\r\n",
        "model.built = True \r\n",
        "model.load_weights('to_do1.h5')"
      ],
      "execution_count": 80,
      "outputs": []
    },
    {
      "cell_type": "code",
      "metadata": {
        "id": "7mA8uA6TGq9W"
      },
      "source": [
        "import numpy\r\n",
        "from tf2crf import CRF, ModelWithCRFLoss\r\n",
        "\r\n",
        "\r\n",
        "inputs = Input(shape=(102,), dtype='int32')\r\n",
        "output = (Embedding(len(word_to_idx),32,input_length=102,mask_zero=True))(inputs)\r\n",
        "output = Bidirectional(GRU(32, return_sequences=True))(output)\r\n",
        "output = Dropout(0.2)(output)\r\n",
        "output = Dense(n_classes)(output)\r\n",
        "crf_zero = CRF(dtype='float32')\r\n",
        "output = crf_zero(output)\r\n",
        "model2 = Model(inputs, output)\r\n",
        "model2 = ModelWithCRFLoss(model2)\r\n",
        "model2.compile(optimizer=Adam(lr=0.001), metrics=['categorical_accuracy'])\r\n",
        "model.built = True "
      ],
      "execution_count": null,
      "outputs": []
    },
    {
      "cell_type": "code",
      "metadata": {
        "id": "z7TlVsuR5LOR",
        "outputId": "25a82828-5ee9-4e00-c38f-4c73fcc53812",
        "colab": {
          "base_uri": "https://localhost:8080/",
          "height": 267
        }
      },
      "source": [
        "## after train\r\n",
        "\r\n",
        "import numpy as np \r\n",
        "import matplotlib.pyplot as plt\r\n",
        "\r\n",
        "H = crf.transitions \r\n",
        "plt.imshow(H, cmap='gray')\r\n",
        "plt.show()"
      ],
      "execution_count": 121,
      "outputs": [
        {
          "output_type": "display_data",
          "data": {
            "image/png": "[encoded data removed]",
            "text/plain": [
              "<Figure size 432x288 with 1 Axes>"
            ]
          },
          "metadata": {
            "tags": [],
            "needs_background": "light"
          }
        }
      ]
    },
    {
      "cell_type": "code",
      "metadata": {
        "id": "Fmd4Ij2F8KUx",
        "outputId": "51948855-f772-4847-d7ce-017eed5640da",
        "colab": {
          "base_uri": "https://localhost:8080/",
          "height": 267
        }
      },
      "source": [
        "## before train\r\n",
        "\r\n",
        "import numpy as np \r\n",
        "import matplotlib.pyplot as plt\r\n",
        "\r\n",
        "H = crf_zero.transitions \r\n",
        "plt.imshow(H, cmap = 'gray')\r\n",
        "plt.show()"
      ],
      "execution_count": 120,
      "outputs": [
        {
          "output_type": "display_data",
          "data": {
            "image/png": "[encoded data removed]",
            "text/plain": [
              "<Figure size 432x288 with 1 Axes>"
            ]
          },
          "metadata": {
            "tags": [],
            "needs_background": "light"
          }
        }
      ]
    },
    {
      "cell_type": "code",
      "metadata": {
        "id": "lJEEheQ6M7kp"
      },
      "source": [
        ""
      ],
      "execution_count": null,
      "outputs": []
    },
    {
      "cell_type": "code",
      "metadata": {
        "id": "qsGYy7YZPHMW"
      },
      "source": [
        ""
      ],
      "execution_count": null,
      "outputs": []
    }
  ]
}