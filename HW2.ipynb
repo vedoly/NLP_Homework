{
  "nbformat": 4,
  "nbformat_minor": 0,
  "metadata": {
    "kernelspec": {
      "name": "python3",
      "display_name": "Python 3"
    },
    "language_info": {
      "codemirror_mode": {
        "name": "ipython",
        "version": 3
      },
      "file_extension": ".py",
      "mimetype": "text/x-python",
      "name": "python",
      "nbconvert_exporter": "python",
      "pygments_lexer": "ipython3",
      "version": "3.5.2"
    },
    "colab": {
      "name": "6031050121_HW2.ipynb",
      "provenance": [],
      "collapsed_sections": [
        "UVPuInbZGhZu",
        "oGX36Qc4GhaO"
      ],
      "toc_visible": true
    },
    "accelerator": "GPU"
  },
  "cells": [
    {
      "cell_type": "markdown",
      "metadata": {
        "id": "UVPuInbZGhZu"
      },
      "source": [
        "## Word Tokenizer exercise##\n",
        "\n",
        "In this exercise, you are going to build a set of deep learning models on a (sort of) real world task using Tensorflow and Keras. Tensorflow is a deep learning framwork developed by Google, and Keras is a frontend library built on top of Tensorflow (or Theano, CNTK) to provide an easier way to use standard layers and networks.\n",
        "\n",
        "To complete this exercise, you will need to build deep learning models for word tokenization in Thai (แบ่งเว้นวรรคภาษาไทย) using NECTEC's BEST corpus. You will build one model for each of the following type:\n",
        "- Fully Connected (Feedforward) Neural Network\n",
        "- One-Dimentional Convolution Neural Network (1D-CNN)\n",
        "- Recurrent Neural Network with Gated Recurrent Unit (GRU)\n",
        "\n",
        "and one more model of your choice to achieve the highest score possible.\n",
        "\n",
        "We provide the code for data cleaning and some starter code for keras in this notebook but feel free to modify those parts to suit your needs. You can also complete this exercise using only Tensorflow (without using Keras). Feel free to use additional libraries (e.g. scikit-learn) as long as you have a model for each type mentioned above.\n",
        "\n",
        "**Don't forget to change hardware accelerator to GPU in Google Colab.**\n"
      ]
    },
    {
      "cell_type": "code",
      "metadata": {
        "id": "JaTlUuSSP-ib"
      },
      "source": [
        "#Select tensorflow 2.0\n",
        "%tensorflow_version 2.x"
      ],
      "execution_count": null,
      "outputs": []
    },
    {
      "cell_type": "code",
      "metadata": {
        "id": "Q5xZnz2pGhZx"
      },
      "source": [
        "# Run setup code\n",
        "import os\n",
        "import numpy as np\n",
        "import pandas as pd\n",
        "import matplotlib.pyplot as plt\n",
        "from google_drive_downloader import GoogleDriveDownloader as gdd\n",
        "import tensorflow as tf\n",
        "%matplotlib inline"
      ],
      "execution_count": null,
      "outputs": []
    },
    {
      "cell_type": "code",
      "metadata": {
        "id": "c0eeumL-M8oZ",
        "colab": {
          "base_uri": "https://localhost:8080/"
        },
        "outputId": "4d9836f5-c04a-4bef-b15a-61b840994346"
      },
      "source": [
        "#Check GPU is available\n",
        "tf.test.gpu_device_name()"
      ],
      "execution_count": null,
      "outputs": [
        {
          "output_type": "execute_result",
          "data": {
            "application/vnd.google.colaboratory.intrinsic+json": {
              "type": "string"
            },
            "text/plain": [
              "'/device:GPU:0'"
            ]
          },
          "metadata": {
            "tags": []
          },
          "execution_count": 3
        }
      ]
    },
    {
      "cell_type": "code",
      "metadata": {
        "id": "AUiIBX2EHe3G"
      },
      "source": [
        "#Download dataset\n",
        "gdd.download_file_from_google_drive(file_id='1iodAqVNWEkiJgH8cWkccsLi_tqoFcMrV',\n",
        "                                    dest_path='./corpora.tar.gz')"
      ],
      "execution_count": null,
      "outputs": []
    },
    {
      "cell_type": "code",
      "metadata": {
        "id": "3-GN9NAyII9p",
        "colab": {
          "base_uri": "https://localhost:8080/"
        },
        "outputId": "57bb9641-de88-42f3-92d6-3bb276703c61"
      },
      "source": [
        "!tar xvzf corpora.tar.gz"
      ],
      "execution_count": null,
      "outputs": [
        {
          "output_type": "stream",
          "text": [
            "corpora/\n",
            "corpora/mnist_data/\n",
            "corpora/mnist_data/t10k-images-idx3-ubyte.gz\n",
            "corpora/mnist_data/train-images-idx3-ubyte.gz\n",
            "corpora/mnist_data/.ipynb_checkpoints/\n",
            "corpora/mnist_data/vis_utils.py\n",
            "corpora/mnist_data/__init__.py\n",
            "corpora/mnist_data/load_mnist.py\n",
            "corpora/mnist_data/train-labels-idx1-ubyte.gz\n",
            "corpora/mnist_data/t10k-labels-idx1-ubyte.gz\n",
            "corpora/BEST/\n",
            "corpora/BEST/test/\n",
            "corpora/BEST/test/df_best_article_test.csv\n",
            "corpora/BEST/test/df_best_encyclopedia_test.csv\n",
            "corpora/BEST/test/df_best_novel_test.csv\n",
            "corpora/BEST/test/df_best_news_test.csv\n",
            "corpora/BEST/train/\n",
            "corpora/BEST/train/df_best_encyclopedia_train.csv\n",
            "corpora/BEST/train/df_best_article_train.csv\n",
            "corpora/BEST/train/df_best_news_train.csv\n",
            "corpora/BEST/train/df_best_novel_train.csv\n",
            "corpora/BEST/val/\n",
            "corpora/BEST/val/df_best_encyclopedia_val.csv\n",
            "corpora/BEST/val/df_best_news_val.csv\n",
            "corpora/BEST/val/df_best_article_val.csv\n",
            "corpora/BEST/val/df_best_novel_val.csv\n",
            "corpora/.ipynb_checkpoints/\n",
            "corpora/.ipynb_checkpoints/Word_Tokenizer.new-checkpoint.ipynb\n",
            "corpora/.ipynb_checkpoints/BackProp-checkpoint.ipynb\n",
            "corpora/.ipynb_checkpoints/Word_Tokenizer_backup-checkpoint.ipynb\n",
            "corpora/.ipynb_checkpoints/char2vec-checkpoint.ipynb\n",
            "corpora/.ipynb_checkpoints/Word_Tokenizer-checkpoint.ipynb\n",
            "corpora/cattern/\n",
            "corpora/cattern/gradient_check.py\n",
            "corpora/cattern/.ipynb_checkpoints/\n",
            "corpora/cattern/__init__.py\n",
            "corpora/cattern/data_utils.py\n",
            "corpora/wiki/\n",
            "corpora/wiki/thwiki_chk.txt\n"
          ],
          "name": "stdout"
        }
      ]
    },
    {
      "cell_type": "code",
      "metadata": {
        "id": "C76gLVKeGhZ0"
      },
      "source": [
        "# Prepare data\n",
        "# You don't need to run the following code as we already did it for you to give everyone the same dataset\n",
        "# import cattern.data_utils\n",
        "# cattern.data_utils.generate_best_dataset(os.getcwd()+'/data', create_val=True)"
      ],
      "execution_count": null,
      "outputs": []
    },
    {
      "cell_type": "markdown",
      "metadata": {
        "id": "VhxWFvL2GhZ3"
      },
      "source": [
        "For simplicity, we are going to build a word tokenization model which is a binary classification model trying to predict whether a character is the begining of the word or not (if it is, then there is a space in front of it) and without using any knowledge about type of character (vowel, number, English character etc.).\n",
        "\n",
        "For example,\n",
        "\n",
        "'แมวดำน่ารักมาก' -> 'แมว ดำ น่า รัก มาก'\n",
        "\n",
        "will have these true labels:\n",
        "\n",
        "[(แ,1), (ม,0), (ว,0) (ด,1), ( ำ,0), (น,1), (-่,0), (า,0), (ร,1), (-ั,0), (ก,0), (ม,1), (า,0), (ก,0)]\n",
        "\n",
        "In this task, we will use only main character you are trying to predict  and the characters that surround it (the context) as features. However, you can imagine that a more complex model will try to include more knowledge about each character into the model. You can do that too if you feel like it."
      ]
    },
    {
      "cell_type": "code",
      "metadata": {
        "id": "5PIEb0TMGhZ4"
      },
      "source": [
        "# Create a character map\n",
        "CHARS = [\n",
        "  '\\n', ' ', '!', '\"', '#', '$', '%', '&', \"'\", '(', ')', '*', '+',\n",
        "  ',', '-', '.', '/', '0', '1', '2', '3', '4', '5', '6', '7', '8',\n",
        "  '9', ':', ';', '<', '=', '>', '?', '@', 'A', 'B', 'C', 'D', 'E',\n",
        "  'F', 'G', 'H', 'I', 'J', 'K', 'L', 'M', 'N', 'O', 'P', 'Q', 'R',\n",
        "  'S', 'T', 'U', 'V', 'W', 'X', 'Y', 'Z', '[', '\\\\', ']', '^', '_',\n",
        "  'a', 'b', 'c', 'd', 'e', 'f', 'g', 'h', 'i', 'j', 'k', 'l', 'm',\n",
        "  'n', 'o', 'other', 'p', 'q', 'r', 's', 't', 'u', 'v', 'w', 'x', 'y',\n",
        "  'z', '}', '~', 'ก', 'ข', 'ฃ', 'ค', 'ฅ', 'ฆ', 'ง', 'จ', 'ฉ', 'ช',\n",
        "  'ซ', 'ฌ', 'ญ', 'ฎ', 'ฏ', 'ฐ', 'ฑ', 'ฒ', 'ณ', 'ด', 'ต', 'ถ', 'ท',\n",
        "  'ธ', 'น', 'บ', 'ป', 'ผ', 'ฝ', 'พ', 'ฟ', 'ภ', 'ม', 'ย', 'ร', 'ฤ',\n",
        "  'ล', 'ว', 'ศ', 'ษ', 'ส', 'ห', 'ฬ', 'อ', 'ฮ', 'ฯ', 'ะ', 'ั', 'า',\n",
        "  'ำ', 'ิ', 'ี', 'ึ', 'ื', 'ุ', 'ู', 'ฺ', 'เ', 'แ', 'โ', 'ใ', 'ไ',\n",
        "  'ๅ', 'ๆ', '็', '่', '้', '๊', '๋', '์', 'ํ', '๐', '๑', '๒', '๓',\n",
        "  '๔', '๕', '๖', '๗', '๘', '๙', '‘', '’', '\\ufeff'\n",
        "]\n",
        "CHARS_MAP = {v: k for k, v in enumerate(CHARS)}"
      ],
      "execution_count": null,
      "outputs": []
    },
    {
      "cell_type": "code",
      "metadata": {
        "id": "KLzWh8e3GhZ7"
      },
      "source": [
        "def create_n_gram_df(df, n_pad):\n",
        "  \"\"\"\n",
        "  Given an input dataframe, create a feature dataframe of shifted characters\n",
        "  Input:\n",
        "  df: timeseries of size (N)\n",
        "  n_pad: the number of context. For a given character at position [idx],\n",
        "    character at position [idx-n_pad/2 : idx+n_pad/2] will be used \n",
        "    as features for that character.\n",
        "  \n",
        "  Output:\n",
        "  dataframe of size (N * n_pad) which each row contains the character, \n",
        "    n_pad_2 characters to the left, and n_pad_2 characters to the right\n",
        "    of that character.\n",
        "  \"\"\"\n",
        "  n_pad_2 = int((n_pad - 1)/2)\n",
        "  for i in range(n_pad_2):\n",
        "      df['char-{}'.format(i+1)] = df['char'].shift(i + 1)\n",
        "      df['char{}'.format(i+1)] = df['char'].shift(-i - 1)\n",
        "  return df[n_pad_2: -n_pad_2]"
      ],
      "execution_count": null,
      "outputs": []
    },
    {
      "cell_type": "code",
      "metadata": {
        "id": "VTdWc1kAGhZ9"
      },
      "source": [
        "def prepare_feature(best_processed_path, option='train'):\n",
        "  \"\"\"\n",
        "  Transform the path to a directory containing processed files \n",
        "  into a feature matrix and output array\n",
        "  Input:\n",
        "  best_processed_path: str, path to a processed version of the BEST dataset\n",
        "  option: str, 'train' or 'test'\n",
        "  \"\"\"\n",
        "  # we use padding equals 21 here to consider 10 characters to the left\n",
        "  # and 10 characters to the right as features for the character in the middle\n",
        "  n_pad = 21\n",
        "  n_pad_2 = int((n_pad - 1)/2)\n",
        "  pad = [{'char': ' ', 'target': True}]\n",
        "  df_pad = pd.DataFrame(pad * n_pad_2)\n",
        "\n",
        "  df = []\n",
        "  # article types in BEST corpus\n",
        "  article_types = ['article', 'encyclopedia', 'news', 'novel']\n",
        "  for article_type in article_types:\n",
        "      df.append(pd.read_csv(os.path.join(best_processed_path, option, 'df_best_{}_{}.csv'.format(article_type, option))))\n",
        "  \n",
        "  df = pd.concat(df)\n",
        "  # pad with empty string feature\n",
        "  df = pd.concat((df_pad, df, df_pad))\n",
        "\n",
        "  # map characters to numbers, use 'other' if not in the predefined character set.\n",
        "  df['char'] = df['char'].map(lambda x: CHARS_MAP.get(x, 80))\n",
        "\n",
        "  # Use nearby characters as features\n",
        "  df_with_context = create_n_gram_df(df, n_pad=n_pad)\n",
        "\n",
        "  char_row = ['char' + str(i + 1) for i in range(n_pad_2)] + \\\n",
        "             ['char-' + str(i + 1) for i in range(n_pad_2)] + ['char']\n",
        "\n",
        "  # convert pandas dataframe to numpy array to feed to the model\n",
        "  x_char = df_with_context[char_row].to_numpy()\n",
        "  y = df_with_context['target'].astype(int).to_numpy()\n",
        "\n",
        "  return x_char, y"
      ],
      "execution_count": null,
      "outputs": []
    },
    {
      "cell_type": "markdown",
      "metadata": {
        "id": "lD-rj_A-GhaA"
      },
      "source": [
        "Before running the following commands, we must inform you that our data is quite large and loading the whole dataset at once will **use a lot of memory (~6 GB after processing and up to ~12GB while processing)**. We expect you to be running this on Google Cloud or Google Colab so that you will not run into this problem. But, if, for any reason, you have to run this on your PC or machine with not enough memory, you might need to write a data generator to process a few entries at a time then feed it to the model while training.\n",
        "\n",
        "For keras, you can use [fit_generator](https://keras.io/getting-started/faq/#how-can-i-use-keras-with-datasets-that-dont-fit-in-memory) to cope with that."
      ]
    },
    {
      "cell_type": "code",
      "metadata": {
        "id": "CO6tammyGhaA"
      },
      "source": [
        "# Path to the preprocessed data\n",
        "best_processed_path = 'corpora/BEST'"
      ],
      "execution_count": null,
      "outputs": []
    },
    {
      "cell_type": "code",
      "metadata": {
        "id": "xGTv1h-_GhaD",
        "colab": {
          "base_uri": "https://localhost:8080/"
        },
        "outputId": "6772d000-e216-4d77-b6e1-9989d510c528"
      },
      "source": [
        "# Load preprocessed BEST corpus\n",
        "x_train_char, y_train = prepare_feature(best_processed_path, option='train')\n",
        "x_val_char, y_val = prepare_feature(best_processed_path, option='val')\n",
        "x_test_char, y_test = prepare_feature(best_processed_path, option='test')\n",
        "\n",
        "# As a sanity check, we print out the size of the training, val, and test data.\n",
        "print('Training data shape: ', x_train_char.shape)\n",
        "print('Training data labels shape: ', y_train.shape)\n",
        "print('Validation data shape: ', x_val_char.shape)\n",
        "print('Validation data labels shape: ', y_val.shape)\n",
        "print('Test data shape: ', x_test_char.shape)\n",
        "print('Test data labels shape: ', y_test.shape)"
      ],
      "execution_count": null,
      "outputs": [
        {
          "output_type": "stream",
          "text": [
            "Training data shape:  (16461637, 21)\n",
            "Training data labels shape:  (16461637,)\n",
            "Validation data shape:  (2035694, 21)\n",
            "Validation data labels shape:  (2035694,)\n",
            "Test data shape:  (2271932, 21)\n",
            "Test data labels shape:  (2271932,)\n"
          ],
          "name": "stdout"
        }
      ]
    },
    {
      "cell_type": "code",
      "metadata": {
        "id": "NXh5E82tGhaF",
        "colab": {
          "base_uri": "https://localhost:8080/"
        },
        "outputId": "18db2dd1-d171-4755-ad9a-3eb4db110855"
      },
      "source": [
        "# Print some entry from the data to make sure it is the same as what you think.\n",
        "print('First 3 features: ', x_train_char[:3])\n",
        "print('First 30 class labels', y_train[:30])"
      ],
      "execution_count": null,
      "outputs": [
        {
          "output_type": "stream",
          "text": [
            "First 3 features:  [[112. 140. 114. 148. 130. 142.  94. 142. 128. 128.   1.   1.   1.   1.\n",
            "    1.   1.   1.   1.   1.   1.  97.]\n",
            " [140. 114. 148. 130. 142.  94. 142. 128. 128. 141.  97.   1.   1.   1.\n",
            "    1.   1.   1.   1.   1.   1. 112.]\n",
            " [114. 148. 130. 142.  94. 142. 128. 128. 141. 109. 112.  97.   1.   1.\n",
            "    1.   1.   1.   1.   1.   1. 140.]]\n",
            "First 30 class labels [1 0 0 0 0 0 0 0 0 0 0 0 0 0 0 0 0 0 0 0 1 0 0 1 0 0 0 1 0 0]\n"
          ],
          "name": "stdout"
        }
      ]
    },
    {
      "cell_type": "code",
      "metadata": {
        "id": "s7sUX7gCGhaI",
        "colab": {
          "base_uri": "https://localhost:8080/"
        },
        "outputId": "458276e0-9efa-4726-fdf7-5268786df68a"
      },
      "source": [
        "#print char of feature 1\n",
        "char = np.array(CHARS)\n",
        "\n",
        "#A function for displaying our features in text\n",
        "def print_features(tfeature,label,index):\n",
        "    feature = np.array(tfeature[index],dtype=int).reshape(21,1)\n",
        "    #Convert to string\n",
        "    char_list = char[feature]\n",
        "    left = ''.join(reversed(char_list[10:20].reshape(10))).replace(\" \", \"\")\n",
        "    center = ''.join(char_list[20])\n",
        "    right =  ''.join(char_list[0:10].reshape(10)).replace(\" \", \"\")\n",
        "    word = ''.join([left,' ',center,' ',right])\n",
        "    print(center + ': ' + word + \"\\tpred = \"+str(label[index]))\n",
        "    return center,word\n",
        "\n",
        "for ind in range(0,30):\n",
        "    print_features(x_train_char,y_train,ind)"
      ],
      "execution_count": null,
      "outputs": [
        {
          "output_type": "stream",
          "text": [
            "ค:  ค ณะตุลาการร\tpred = 1\n",
            "ณ: ค ณ ะตุลาการรั\tpred = 0\n",
            "ะ: คณ ะ ตุลาการรัฐ\tpred = 0\n",
            "ต: คณะ ต ุลาการรัฐธ\tpred = 0\n",
            "ุ: คณะต ุ ลาการรัฐธร\tpred = 0\n",
            "ล: คณะตุ ล าการรัฐธรร\tpred = 0\n",
            "า: คณะตุล า การรัฐธรรม\tpred = 0\n",
            "ก: คณะตุลา ก ารรัฐธรรมน\tpred = 0\n",
            "า: คณะตุลาก า รรัฐธรรมนู\tpred = 0\n",
            "ร: คณะตุลากา ร รัฐธรรมนูญ\tpred = 0\n",
            "ร: คณะตุลาการ ร ัฐธรรมนูญก\tpred = 0\n",
            "ั: ณะตุลาการร ั ฐธรรมนูญกั\tpred = 0\n",
            "ฐ: ะตุลาการรั ฐ ธรรมนูญกับ\tpred = 0\n",
            "ธ: ตุลาการรัฐ ธ รรมนูญกับค\tpred = 0\n",
            "ร: ุลาการรัฐธ ร รมนูญกับคว\tpred = 0\n",
            "ร: ลาการรัฐธร ร มนูญกับควา\tpred = 0\n",
            "ม: าการรัฐธรร ม นูญกับความ\tpred = 0\n",
            "น: การรัฐธรรม น ูญกับความเ\tpred = 0\n",
            "ู: ารรัฐธรรมน ู ญกับความเป\tpred = 0\n",
            "ญ: รรัฐธรรมนู ญ กับความเป็\tpred = 0\n",
            "ก: รัฐธรรมนูญ ก ับความเป็น\tpred = 1\n",
            "ั: ัฐธรรมนูญก ั บความเป็นอ\tpred = 0\n",
            "บ: ฐธรรมนูญกั บ ความเป็นอง\tpred = 0\n",
            "ค: ธรรมนูญกับ ค วามเป็นองค\tpred = 1\n",
            "ว: รรมนูญกับค ว ามเป็นองค์\tpred = 0\n",
            "า: รมนูญกับคว า มเป็นองค์ก\tpred = 0\n",
            "ม: มนูญกับควา ม เป็นองค์กร\tpred = 0\n",
            "เ: นูญกับความ เ ป็นองค์กรต\tpred = 1\n",
            "ป: ูญกับความเ ป ็นองค์กรตุ\tpred = 0\n",
            "็: ญกับความเป ็ นองค์กรตุล\tpred = 0\n"
          ],
          "name": "stdout"
        }
      ]
    },
    {
      "cell_type": "markdown",
      "metadata": {
        "id": "qh5dG3w3GhaN"
      },
      "source": [
        "Now, you are going to define the model to be used as your classifier. If you are using Keras, please follow the guideline we provide below. We encourage you to use the Keras Funtional API instead of the Sequential model as it is easier to create complex models (and to read your code). You can find more about Keras Functional API on Keras [documentation](https://keras.io/getting-started/functional-api-guide/).\n",
        "\n",
        "You need to create a function that return a model you want and write code that invoke _**model.fit**_ to train your model. For example, your function ***get_nn()*** might looks like this:\n",
        "\n",
        "```python\n",
        "def get_nn():\n",
        "  input1 = Input(...)\n",
        "  ...\n",
        "  # Create your wonderful model.\n",
        "  ...\n",
        "  out = ...\n",
        "  model = Model(inputs=input1, outputs=out)\n",
        "  model.compile(...)\n",
        "return model\n",
        "```\n",
        "\n",
        "Also, beware that complex model requires more time to train and your dataset is already quite large. We tested it with a simple 1-hidden-layered feedforward nueral network and it used ~10 mins to train 1 epoch. It got more than 95% accuracy on validation set after the first epoch, so you should aim for a model with accuracy around 96-98%."
      ]
    },
    {
      "cell_type": "markdown",
      "metadata": {
        "id": "oGX36Qc4GhaO"
      },
      "source": [
        "# Three-Layer Feedforward Neural Networks\n",
        "\n",
        "Below, we provide you the code for creating a 3-layer fully connected neural network in keras. This will also serve as the baseline for your other models. Run the code below while making sure you understand what you are doing. Then, report the results."
      ]
    },
    {
      "cell_type": "code",
      "metadata": {
        "id": "TohElGvuGhaO"
      },
      "source": [
        "from tensorflow.keras.models import Model\n",
        "from tensorflow.keras.layers import Input, Dense\n",
        "from tensorflow.keras.optimizers import Adam\n",
        "\n",
        "def get_feedforward_nn():\n",
        "  input1 = Input(shape=(21,))\n",
        "  x = Dense(100, activation='relu')(input1)\n",
        "  x = Dense(100, activation='relu')(x)\n",
        "  x = Dense(100, activation='relu')(x)\n",
        "  out = Dense(1, activation='sigmoid')(x)\n",
        "\n",
        "  model = Model(inputs=input1, outputs=out)\n",
        "  model.compile(optimizer=Adam(),\n",
        "                loss='binary_crossentropy',\n",
        "                metrics=['acc'])\n",
        "  return model"
      ],
      "execution_count": null,
      "outputs": []
    },
    {
      "cell_type": "code",
      "metadata": {
        "id": "SDwqboppGhaR",
        "colab": {
          "base_uri": "https://localhost:8080/"
        },
        "outputId": "0692bcee-9ed7-42b1-ab6e-db6ae400565e"
      },
      "source": [
        "from tensorflow.keras.callbacks import ModelCheckpoint, TensorBoard\n",
        "\n",
        "# This is called to clear the original model session in order to use TensorBoard\n",
        "from tensorflow.keras import backend as K\n",
        "K.clear_session()\n",
        "\n",
        "# Path to save model parameters\n",
        "weight_path_feedforward_nn='./model_weight_feedforward_nn.h5'\n",
        "\n",
        "# Training callbacks list. TensorBoard() write logs for tensorboard GUI. \n",
        "# ModelCheckpoint() writes the resulting model.\n",
        "# Note that writing to disk takes time (longer than model training time). \n",
        "# For other sections, you might not writing any files to disk \n",
        "# or write only the graph for TensorBoard.\n",
        "\n",
        "callbacks_list_feedforward_nn = [\n",
        "        TensorBoard(log_dir='./Graph/ff', histogram_freq=1, write_graph=True, write_grads=False),\n",
        "        ModelCheckpoint(\n",
        "            weight_path_feedforward_nn,\n",
        "            save_best_only=True,\n",
        "            save_weights_only=True,\n",
        "            monitor='val_loss',\n",
        "            mode='min',\n",
        "            verbose=1\n",
        "        )\n",
        "  ]\n",
        "\n",
        "print('start training')\n",
        "verbose = 1\n",
        "model_feedforward_nn = get_feedforward_nn()\n",
        "train_params = [(3, 512)]\n",
        "for (epochs, batch_size) in train_params:\n",
        "  print(\"train with {} epochs and {} batch size\".format(epochs, batch_size))\n",
        "  model_feedforward_nn.fit(x_train_char, y_train, epochs=epochs, batch_size=batch_size, verbose=verbose,\n",
        "                           callbacks=callbacks_list_feedforward_nn,\n",
        "                           validation_data=(x_val_char, y_val))"
      ],
      "execution_count": null,
      "outputs": [
        {
          "output_type": "stream",
          "text": [
            "start training\n",
            "train with 3 epochs and 512 batch size\n",
            "Epoch 1/3\n",
            "32152/32152 [==============================] - 103s 3ms/step - loss: 0.4120 - acc: 0.8259 - val_loss: 0.2869 - val_acc: 0.8769\n",
            "\n",
            "Epoch 00001: val_loss improved from inf to 0.28688, saving model to ./model_weight_feedforward_nn.h5\n",
            "Epoch 2/3\n",
            "32152/32152 [==============================] - 99s 3ms/step - loss: 0.2794 - acc: 0.8812 - val_loss: 0.2510 - val_acc: 0.8945\n",
            "\n",
            "Epoch 00002: val_loss improved from 0.28688 to 0.25103, saving model to ./model_weight_feedforward_nn.h5\n",
            "Epoch 3/3\n",
            "32152/32152 [==============================] - 99s 3ms/step - loss: 0.2501 - acc: 0.8955 - val_loss: 0.2368 - val_acc: 0.9025\n",
            "\n",
            "Epoch 00003: val_loss improved from 0.25103 to 0.23682, saving model to ./model_weight_feedforward_nn.h5\n"
          ],
          "name": "stdout"
        }
      ]
    },
    {
      "cell_type": "code",
      "metadata": {
        "colab": {
          "base_uri": "https://localhost:8080/"
        },
        "id": "yOYG8m0n5I2O",
        "outputId": "bccded01-eb10-4086-f349-115f3650b523"
      },
      "source": [
        "y_train"
      ],
      "execution_count": null,
      "outputs": [
        {
          "output_type": "execute_result",
          "data": {
            "text/plain": [
              "array([1, 0, 0, ..., 1, 0, 0])"
            ]
          },
          "metadata": {
            "tags": []
          },
          "execution_count": 16
        }
      ]
    },
    {
      "cell_type": "code",
      "metadata": {
        "id": "7SCsblxEGhaT"
      },
      "source": [
        "################################################################################\n",
        "# In case you want to close the session, you can re-load the model by          #\n",
        "################################################################################\n",
        "# weight_path_feedforward_nn='/data/model_weight_feedforward_nn.h5'\n",
        "# model_feedforward_nn = get_feedforward_nn()\n",
        "# model_feedforward_nn.load_weights(weight_path_feedforward_nn)\n",
        "# model_feedforward_nn._make_predict_function()\n",
        "# model_feedforward_nn.summary()"
      ],
      "execution_count": null,
      "outputs": []
    },
    {
      "cell_type": "code",
      "metadata": {
        "id": "07ErGkHMGhaV"
      },
      "source": [
        "from sklearn.metrics import f1_score,precision_score,recall_score\n",
        "\n",
        "################################################################################\n",
        "# Write a function to evaluate your model. Your function must make prediction  #\n",
        "# using the input model and return f-score, precision, and recall of the model.#\n",
        "# You can make predictions by calling model.predict().                         #\n",
        "################################################################################\n",
        "def evaluate(x_test, y_test, model):\n",
        "  \"\"\"\n",
        "  Evaluate model on the splitted 10 percent testing set.\n",
        "  \"\"\"\n",
        "  y_pred = model.predict(x_test)\n",
        "\n",
        "  #map probability to class\n",
        "  prob_to_class = lambda p: 1 if p[0]>=0.5 else 0\n",
        "  y_pred = np.apply_along_axis(prob_to_class,1,y_pred)\n",
        "    \n",
        "  f1score = f1_score(y_test,y_pred)\n",
        "  precision = precision_score(y_test,y_pred)\n",
        "  recall = recall_score(y_test,y_pred)\n",
        "  return f1score, precision, recall"
      ],
      "execution_count": null,
      "outputs": []
    },
    {
      "cell_type": "code",
      "metadata": {
        "id": "6ZoBB5YJGhaY",
        "colab": {
          "base_uri": "https://localhost:8080/"
        },
        "outputId": "31fdaaef-5f9a-4a4d-df3b-b8494ddd009f"
      },
      "source": [
        "evaluate(x_test_char, y_test, model_feedforward_nn)"
      ],
      "execution_count": null,
      "outputs": [
        {
          "output_type": "execute_result",
          "data": {
            "text/plain": [
              "(0.8280377621774719, 0.8369964995634541, 0.8192687723621543)"
            ]
          },
          "metadata": {
            "tags": []
          },
          "execution_count": 19
        }
      ]
    },
    {
      "cell_type": "markdown",
      "metadata": {
        "id": "KBuqJw3kGhaa"
      },
      "source": [
        "# Debugging\n",
        "\n",
        "In order to understand what is going on in your model and where the error is, you should try looking at the inputs your model made wrong predictions.\n",
        "\n",
        "In this task, write a function to print the characters on test data that got wrong prediction along with its context of size 10 (from [x-10] to [x+10]). Examine a fews of those and write your assumption on where the model got wrong prediction."
      ]
    },
    {
      "cell_type": "code",
      "metadata": {
        "id": "YsV7cHslGhab",
        "colab": {
          "base_uri": "https://localhost:8080/",
          "height": 585
        },
        "outputId": "e4807587-4b15-45a1-d850-3beb82e8500f"
      },
      "source": [
        "from mlxtend.plotting import plot_confusion_matrix\n",
        "from sklearn.metrics import confusion_matrix\n",
        "\n",
        "y_pred = model_feedforward_nn.predict(x_test_char)\n",
        "\n",
        "prob_to_class = lambda p: 1 if p[0]>=0.5 else 0\n",
        "y_pred = np.apply_along_axis(prob_to_class,1,y_pred)\n",
        "mat = confusion_matrix(y_test, y_pred)\n",
        "plot_confusion_matrix(conf_mat = mat, show_normed = False, figsize = (9,9))"
      ],
      "execution_count": null,
      "outputs": [
        {
          "output_type": "execute_result",
          "data": {
            "text/plain": [
              "(<Figure size 648x648 with 1 Axes>,\n",
              " <matplotlib.axes._subplots.AxesSubplot at 0x7f5895cf2c18>)"
            ]
          },
          "metadata": {
            "tags": []
          },
          "execution_count": 20
        },
        {
          "output_type": "display_data",
          "data": {
            "image/png": "[encoded data removed]",
            "text/plain": [
              "<Figure size 648x648 with 1 Axes>"
            ]
          },
          "metadata": {
            "tags": [],
            "needs_background": "light"
          }
        }
      ]
    },
    {
      "cell_type": "code",
      "metadata": {
        "id": "-FWHzyfZEOjW"
      },
      "source": [
        "def getFalsePositive(y_pred):\r\n",
        "  global y_test\r\n",
        "  out = []\r\n",
        "\r\n",
        "  for i in range(len(y_pred)):\r\n",
        "    if (y_pred[i] != y_test[i] and  y_pred[i] == 1):\r\n",
        "      out.append(i)\r\n",
        "  return out\r\n",
        "\r\n",
        "def getFalseNegative(y_pred):\r\n",
        "  global y_test\r\n",
        "  out = []\r\n",
        "\r\n",
        "  for i in range(len(y_pred)):\r\n",
        "    if (y_pred[i] != y_test[i] and  y_pred[i] == 0):\r\n",
        "      out.append(i)\r\n",
        "  return out\r\n",
        "\r\n"
      ],
      "execution_count": null,
      "outputs": []
    },
    {
      "cell_type": "code",
      "metadata": {
        "colab": {
          "base_uri": "https://localhost:8080/"
        },
        "id": "_liPby1wCNET",
        "outputId": "544d5183-fd42-47ac-f146-8e6d939e53a6"
      },
      "source": [
        "idx_of_fp = getFalsePositive(y_pred)\r\n",
        "for k in idx_of_fp [0:10]:\r\n",
        "  print_features(x_test_char,y_pred, k)"
      ],
      "execution_count": null,
      "outputs": [
        {
          "output_type": "stream",
          "text": [
            "บ: ะวิธีคิดแบ บ แยกส่วนลด\tpred = 1\n",
            "ร: ศึกษาเรียน ร ู้\"ในหลาย\tpred = 1\n",
            "ก: กระทรวงศึ ก ษาธิการทบ\tpred = 1\n",
            "า: ระทรวงศึกษ า ธิการทบวง\tpred = 1\n",
            "ก: รวงศึกษาธิ ก ารทบวงมหา\tpred = 1\n",
            "ม: ธิการทบวง ม หาวิทยาลัย\tpred = 1\n",
            "เ: มาอย่างต่อ เ นื่องยาวนา\tpred = 1\n",
            "น: อเนื่องยาว น าน(เหมือน\tpred = 1\n",
            "ภ: ่เรื่องสุข ภ าพเป็นเรื่\tpred = 1\n",
            "พ: ฐได้ถูกวิ พ ากษ์วิจารณ\tpred = 1\n"
          ],
          "name": "stdout"
        }
      ]
    },
    {
      "cell_type": "code",
      "metadata": {
        "colab": {
          "base_uri": "https://localhost:8080/"
        },
        "id": "xkQZTAzIEw_n",
        "outputId": "7303c11c-8cdc-49d0-a50e-7e00c161608c"
      },
      "source": [
        "idx_of_fn = getFalseNegative(y_pred)\r\n",
        "for k in idx_of_fn [0:10]:\r\n",
        "  print_features(x_test_char,y_pred, k)"
      ],
      "execution_count": null,
      "outputs": [
        {
          "output_type": "stream",
          "text": [
            "ท: งทางกระบวน ท ัศน์และบริ\tpred = 0\n",
            "บ: วนทัศน์และ บ ริบทสังคมไ\tpred = 0\n",
            "ส: น์และบริบท ส ังคมไทยThe\tpred = 0\n",
            "ไ: บริบทสังคม ไ ทยTheRefo\tpred = 0\n",
            "ก: erspective ก ระบวนทัศน์\tpred = 0\n",
            "ท: tiveกระบวน ท ัศน์และวิธ\tpred = 0\n",
            "แ: วิธีคิดแบบ แ ยกส่วนลดส\tpred = 0\n",
            "ส: ีคิดแบบแยก ส ่วนลดส่วน\tpred = 0\n",
            "ส: แยกส่วนลด ส ่วนได้ทำใ\tpred = 0\n",
            "เ: ้\"การศึกษา เ รียนรู้\"ใน\tpred = 0\n"
          ],
          "name": "stdout"
        }
      ]
    },
    {
      "cell_type": "markdown",
      "metadata": {
        "id": "tHjvB1syGhad"
      },
      "source": [
        "# Write your answer here\n",
        "\n",
        "** I reckon a reason behind the wrong prediction is imperfection of model. In a tokenization task, it's need highly precision that mean if it do wrong for +1 -1 index (that show some in example above) it would be count as wrong and the construction of model could be improve with more compatible architecture**: TODO#2"
      ]
    },
    {
      "cell_type": "markdown",
      "metadata": {
        "id": "H9cLkAUEGhae"
      },
      "source": [
        "# Tensorboard #\n",
        "The code provided also have Tensorboard (a visualization tool that comes with Tensorflow). Note the part that calls it `TensorBoard(log_dir='./Graph/' + graph_name, histogram_freq=1, write_graph=True, write_grads=True)`. This tells Tensorflow to write extra outputs to the `log_dir` which can then be used for visualization.\n",
        "\n",
        "To start tensorboard do\n",
        "```\n",
        "tensorboard --logdir=/full_path_to_your_logs\n",
        "```\n",
        "\n",
        "In Tensorboard, you will be able to debug your computation graph which can be hard to keep track in code. This is might seem trivial in Keras, but it is very helpful for Tensorflow. You can see a visualization of the computation graph at the `GRAPH` tab. If you see multiple dense layers (more than 4), this is caused by running the code several times without deleting the log dir. Delete the log dir and re-run the code.\n",
        "\n",
        "Next, let's look at the scalars tab, we can see the loss and accuracy on the training and validation set as they change over each epoch. This can be useful to detect overfitting.\n",
        "\n",
        "Another useful tab is the histograms tab (Enable by setting 'write_grads=True'). This plot histograms of the weights, biases, and outputs of each layer. The depth of the histograms show the change over epochs. We can see how the histograms of weights change over the training peroid. This can be used to debug vanishing gradients or getting stuck in local minimas.\n",
        "\n",
        "There are other useful tabs in Tensorboard, you can read about them in the Keras [documentation](https://keras.io/callbacks/#tensorboard) for tensorboard."
      ]
    },
    {
      "cell_type": "code",
      "metadata": {
        "id": "TGsGl0wPJYjI",
        "colab": {
          "base_uri": "https://localhost:8080/",
          "height": 838
        },
        "outputId": "e430b6c6-2819-4b17-f8c1-3a17aeeb1265"
      },
      "source": [
        "%load_ext tensorboard\n",
        "%tensorboard --logdir='./Graph/ff'"
      ],
      "execution_count": null,
      "outputs": [
        {
          "output_type": "display_data",
          "data": {
            "text/plain": [
              "Reusing TensorBoard on port 6006 (pid 2186), started 0:38:31 ago. (Use '!kill 2186' to kill it.)"
            ]
          },
          "metadata": {
            "tags": []
          }
        },
        {
          "output_type": "display_data",
          "data": {
            "application/javascript": [
              "\n",
              "        (async () => {\n",
              "            const url = new URL(await google.colab.kernel.proxyPort(6006, {'cache': true}));\n",
              "            url.searchParams.set('tensorboardColab', 'true');\n",
              "            const iframe = document.createElement('iframe');\n",
              "            iframe.src = url;\n",
              "            iframe.setAttribute('width', '100%');\n",
              "            iframe.setAttribute('height', '800');\n",
              "            iframe.setAttribute('frameborder', 0);\n",
              "            document.body.appendChild(iframe);\n",
              "        })();\n",
              "    "
            ],
            "text/plain": [
              "<IPython.core.display.Javascript object>"
            ]
          },
          "metadata": {
            "tags": []
          }
        }
      ]
    },
    {
      "cell_type": "markdown",
      "metadata": {
        "id": "-feqv2DbGhae"
      },
      "source": [
        "# Tensorboard observation\n",
        "\n",
        "Write your own interpretation of the logs from this example. A simple sentence or two for each tab is sufficient.\n",
        "\n",
        "**Scalars: Show how perfomance (accuracy, loss) of model change each iteration**\n",
        "  \n",
        "**Gparh: Show model architecture and it related components such as optimizer**\n",
        "\n",
        "**Distribution: Show  distribution weight of bias and kernel in layers each iteration**\n",
        "\n",
        "**Histrogram: Showing detail like Distribution tab but different way to represent and  easiler to observe and more beautiful**\n",
        "\n",
        "**Time series: Showing the summary of above mentioned tabs**\n",
        "\n",
        "  ****: TODO#3"
      ]
    },
    {
      "cell_type": "markdown",
      "metadata": {
        "id": "KvYIoaL9Ghaf"
      },
      "source": [
        "# Dropout\n",
        "\n",
        "You might notice that the 3-layered feedforward does not use dropout at all. Now, try adding dropout to the model, run, and report the result again."
      ]
    },
    {
      "cell_type": "code",
      "metadata": {
        "id": "6kCkj03VGhag"
      },
      "source": [
        "# TODO#4\n",
        "# Write a function that return feedforward model with dropout \n",
        "def get_nn_with_dropout():\n",
        "\n",
        "  input1 = Input(shape=(21,))\n",
        "  x = Dense(100, activation='relu')(input1)\n",
        "  x = Dropout(0.1)(x)\n",
        "  x = Dense(100, activation='relu')(x)\n",
        "  x = Dropout(0.1)(x)\n",
        "  x = Dense(100, activation='relu')(x)\n",
        "  out = Dense(1, activation='sigmoid')(x)\n",
        "\n",
        "  model = Model(inputs=input1, outputs=out)\n",
        "  model.compile(optimizer=Adam(),\n",
        "                loss='binary_crossentropy',\n",
        "                metrics=['acc'])\n",
        "  return model"
      ],
      "execution_count": null,
      "outputs": []
    },
    {
      "cell_type": "code",
      "metadata": {
        "id": "8i08GqWiGhai",
        "colab": {
          "base_uri": "https://localhost:8080/"
        },
        "outputId": "d9f806c8-6b7a-4160-f31e-9882af63fb9d"
      },
      "source": [
        "# Train your model\n",
        "from tensorflow.keras.layers import Dropout\n",
        "print('start training')\n",
        "verbose = 2\n",
        "model_nn_with_dropout = get_nn_with_dropout()\n",
        "# TODO#5\n",
        "# Complete the code to train your model with dropout\n",
        "################################################################################\n",
        "              \n",
        "callbacks_list_feedforward_nn_dropout = [\n",
        "        TensorBoard(log_dir='./Graph/ff_dropout', histogram_freq=1, write_graph=True, write_grads=False),\n",
        "        ModelCheckpoint(\n",
        "            './model_weight_nn_with_dropout.h5',\n",
        "            save_best_only=True,\n",
        "            save_weights_only=True,\n",
        "            monitor='val_loss',\n",
        "            mode='min',\n",
        "            verbose=1\n",
        "        )\n",
        "  ]\n",
        "\n",
        "print('start training')\n",
        "train_params = [(3, 512)]\n",
        "for (epochs, batch_size) in train_params:\n",
        "  print(\"train with {} epochs and {} 1\".format(1, batch_size))\n",
        "  model_nn_with_dropout.fit(x_train_char, y_train, epochs=1, batch_size=batch_size*2, verbose=verbose,\n",
        "                           callbacks=callbacks_list_feedforward_nn_dropout,\n",
        "                           validation_data=(x_val_char, y_val))                                  #\n",
        "################################################################################\n"
      ],
      "execution_count": null,
      "outputs": [
        {
          "output_type": "stream",
          "text": [
            "start training\n",
            "start training\n",
            "train with 1 epochs and 512 1\n",
            "16076/16076 - 51s - loss: 0.4100 - acc: 0.8234 - val_loss: 0.3267 - val_acc: 0.8573\n",
            "\n",
            "Epoch 00001: val_loss improved from inf to 0.32669, saving model to ./model_weight_nn_with_dropout.h5\n"
          ],
          "name": "stdout"
        }
      ]
    },
    {
      "cell_type": "code",
      "metadata": {
        "id": "BhnDFcAaGhan",
        "colab": {
          "base_uri": "https://localhost:8080/"
        },
        "outputId": "bd5cb410-97ca-4726-cab0-9ecc4897cfdd"
      },
      "source": [
        "evaluate(x_test_char, y_test, model_nn_with_dropout)"
      ],
      "execution_count": null,
      "outputs": [
        {
          "output_type": "execute_result",
          "data": {
            "text/plain": [
              "(0.7156603851595125, 0.8302118936548684, 0.6288873618779076)"
            ]
          },
          "metadata": {
            "tags": []
          },
          "execution_count": 27
        }
      ]
    },
    {
      "cell_type": "markdown",
      "metadata": {
        "id": "fOTSGof4Ghaq"
      },
      "source": [
        "# Convolution Neural Networks\n",
        "\n",
        "Now, you are going to implement you own 1d-convolution neural networks with the following structure:\n",
        "input -> embedding layer (size 32) -> 1D-convolution layer (100 filters of size 5, strides of 1) -> TimeDistributed (Dense size 5) -> fully-connected layer (size 100) -> output.\n",
        "\n",
        "These parameters are simple guidelines to save your time. You can play with them in the final section.\n",
        "\n",
        "The results should be better than the feedforward model.\n",
        "\n",
        "Embedding layers turn the input from a one-hot vector into better representations via some feature transform (a simple matrix multiply in this case). TimeDistributed is Keras' way of specifying that the layer of the network should be distributed along time (the first dimension) as shown in the picture below.\n",
        "\n",
        "<img src=\"https://raw.githubusercontent.com/ekapolc/nlp_course/master/HW1/images/configuration.png\">\n",
        "\n",
        "Note you need to flatten() before the final fully connected layer because of dimension mis-match.\n",
        "\n",
        "Do consult keras documentation on how to use [embedding layers](https://keras.io/layers/embeddings/) and [1D-cnn](https://keras.io/layers/convolutional/).\n"
      ]
    },
    {
      "cell_type": "code",
      "metadata": {
        "id": "5ruKGHjTGhaq"
      },
      "source": [
        "################################################################################\n",
        "# TODO#6:                                                                      #\n",
        "# Write a function that returns keras convolution nueral network model.        #\n",
        "# You can choose any normalization methods, activation function, as well as    #\n",
        "# any hyperparameter the way you want. Your goal is to predict a score         #\n",
        "# between [0,1] for each input whether it is the beginning of the word or not. #\n",
        "#                                                                              #\n",
        "# Hint: You should read keras documentation to see the list of available       #\n",
        "# layers and options you can use.                                              #\n",
        "################################################################################\n",
        "from tensorflow.keras.layers import Conv1D, Embedding, TimeDistributed,Flatten\n",
        "\n",
        "\n",
        "def get_conv1d_nn():\n",
        "\n",
        "  input1 = Input(shape=(21,))\n",
        "  x = Embedding(len(CHARS),32,input_length=21)(input1)\n",
        "\n",
        "  x = Conv1D(filters=100, kernel_size=5, padding='same', activation='relu', strides=1)(x)\n",
        "  \n",
        "  x = TimeDistributed(Dense(5))(x)\n",
        "  x = Flatten()(x)\n",
        "  x = Dense(100, activation='relu')(x)\n",
        "\n",
        "  out = Dense(1, activation='sigmoid')(x)\n",
        "  \n",
        "\n",
        "  \n",
        "\n",
        "\n",
        "  model = Model(inputs=input1, outputs=out)\n",
        "  model.compile(optimizer=Adam(),\n",
        "                loss='binary_crossentropy',\n",
        "                metrics=['acc'])\n",
        "  return model"
      ],
      "execution_count": null,
      "outputs": []
    },
    {
      "cell_type": "code",
      "metadata": {
        "colab": {
          "base_uri": "https://localhost:8080/"
        },
        "id": "P_Xdefi-eK5Z",
        "outputId": "cad75dc3-c7aa-468b-a245-41f15fd1b774"
      },
      "source": [
        "get_conv1d_nn().summary()"
      ],
      "execution_count": null,
      "outputs": [
        {
          "output_type": "stream",
          "text": [
            "Model: \"model_2\"\n",
            "_________________________________________________________________\n",
            "Layer (type)                 Output Shape              Param #   \n",
            "=================================================================\n",
            "input_3 (InputLayer)         [(None, 21)]              0         \n",
            "_________________________________________________________________\n",
            "embedding (Embedding)        (None, 21, 32)            5696      \n",
            "_________________________________________________________________\n",
            "conv1d (Conv1D)              (None, 21, 100)           16100     \n",
            "_________________________________________________________________\n",
            "time_distributed (TimeDistri (None, 21, 5)             505       \n",
            "_________________________________________________________________\n",
            "flatten (Flatten)            (None, 105)               0         \n",
            "_________________________________________________________________\n",
            "dense_9 (Dense)              (None, 100)               10600     \n",
            "_________________________________________________________________\n",
            "dense_10 (Dense)             (None, 1)                 101       \n",
            "=================================================================\n",
            "Total params: 33,002\n",
            "Trainable params: 33,002\n",
            "Non-trainable params: 0\n",
            "_________________________________________________________________\n"
          ],
          "name": "stdout"
        }
      ]
    },
    {
      "cell_type": "code",
      "metadata": {
        "id": "uAohzSijGhas",
        "colab": {
          "base_uri": "https://localhost:8080/"
        },
        "outputId": "7b251246-38bc-41e8-b92c-db33922de85f"
      },
      "source": [
        "################################################################################\n",
        "# TODO#7:                                                                      #\n",
        "# Write code that call model.fit, or model.fit_generator if you have data      #\n",
        "# generator, to train you models. Make sure you have validation_data as an     # \n",
        "# argument and use verbose=2 to generate one log line per epoch. Select your   #\n",
        "# batch size carefully as it will affect your model's ability to converge and  #\n",
        "# time needed for one epoch.                                                   #\n",
        "################################################################################\n",
        "print('start training conv1d')\n",
        "model_conv1d_nn = get_conv1d_nn()\n",
        "################################################################################\n",
        "#    \n",
        "callbacks_list_feedforward_cnn = [\n",
        "        TensorBoard(log_dir='./Graph/ff_cnn', histogram_freq=1, write_graph=True, write_grads=False),\n",
        "        ModelCheckpoint(\n",
        "            './model_weight_nn_with_cnn.h5',\n",
        "            save_best_only=True,\n",
        "            save_weights_only=True,\n",
        "            monitor='val_loss',\n",
        "            mode='min',\n",
        "            verbose=1\n",
        "        )\n",
        "  ]\n",
        "\n",
        "print('start training')\n",
        "verbose = 2\n",
        "train_params = [(3, 512)]\n",
        "for (epochs, batch_size) in train_params:\n",
        "  print(\"train with {} epochs and {} 3\".format(3, batch_size))\n",
        "  model_conv1d_nn.fit(x_train_char, y_train, epochs=3, batch_size=batch_size*2, verbose=verbose,\n",
        "                           callbacks=callbacks_list_feedforward_cnn,\n",
        "                           validation_data=(x_val_char, y_val))                       #\n",
        "################################################################################\n"
      ],
      "execution_count": null,
      "outputs": [
        {
          "output_type": "stream",
          "text": [
            "start training conv1d\n",
            "start training\n",
            "train with 3 epochs and 512 3\n",
            "Epoch 1/3\n",
            "16076/16076 - 109s - loss: 0.0823 - acc: 0.9683 - val_loss: 0.0677 - val_acc: 0.9748\n",
            "\n",
            "Epoch 00001: val_loss improved from inf to 0.06770, saving model to ./model_weight_nn_with_cnn.h5\n",
            "Epoch 2/3\n",
            "16076/16076 - 102s - loss: 0.0591 - acc: 0.9781 - val_loss: 0.0616 - val_acc: 0.9773\n",
            "\n",
            "Epoch 00002: val_loss improved from 0.06770 to 0.06157, saving model to ./model_weight_nn_with_cnn.h5\n",
            "Epoch 3/3\n",
            "16076/16076 - 102s - loss: 0.0544 - acc: 0.9800 - val_loss: 0.0579 - val_acc: 0.9791\n",
            "\n",
            "Epoch 00003: val_loss improved from 0.06157 to 0.05791, saving model to ./model_weight_nn_with_cnn.h5\n"
          ],
          "name": "stdout"
        }
      ]
    },
    {
      "cell_type": "code",
      "metadata": {
        "id": "iFT1ZjZuGhau",
        "colab": {
          "base_uri": "https://localhost:8080/"
        },
        "outputId": "2bbb757a-f8ef-44f7-f507-28e209eae0d6"
      },
      "source": [
        "evaluate(x_test_char, y_test, model_conv1d_nn)"
      ],
      "execution_count": null,
      "outputs": [
        {
          "output_type": "execute_result",
          "data": {
            "text/plain": [
              "(0.9657624543682494, 0.9595563296932574, 0.9720493803758027)"
            ]
          },
          "metadata": {
            "tags": []
          },
          "execution_count": 31
        }
      ]
    },
    {
      "cell_type": "markdown",
      "metadata": {
        "id": "ctS8V2rMGhax"
      },
      "source": [
        "# GRU\n",
        "\n",
        "Implement your GRU model with the following structure: input -> embedding layer (size 32) -> GRU layer (size 32) -> fully-connected layer (size 100) -> output.\n",
        "\n",
        "\n",
        "These parameters are simple guidelines to save your time. You can play with them in the final section.\n",
        "\n",
        "The result should be better than the feedforward model and at least on par with your CNN model.\n",
        "\n",
        "Do consult keras documentation on how to use [embedding layers](https://keras.io/layers/embeddings/) and [GRUs](https://keras.io/layers/recurrent/).\n"
      ]
    },
    {
      "cell_type": "code",
      "metadata": {
        "id": "HQbPtCKUGhay"
      },
      "source": [
        "\n",
        "\n",
        "################################################################################\n",
        "# TODO#8                                                                       #\n",
        "# Write a function that returns keras GRU network moded. You can choose any    #\n",
        "# normalization methods, activation function, as well as any hyperparameter    #\n",
        "# the way you want. Your goal is to predict a score between [0,1] for each     #\n",
        "# input whether it is the beginning of the word or not.                        #\n",
        "#                                                                              #\n",
        "# Hint: You should read keras documentation to see the list of available       #\n",
        "# layers and options you can use.                                              #\n",
        "################################################################################\n",
        "from tensorflow.keras.layers import GRU\n",
        "def get_gru():\n",
        "  input1 = Input(shape=(21,))\n",
        "  x = Embedding(len(CHARS),32,input_length=21)(input1)\n",
        "  x = GRU(32, return_sequences=False, return_state=False)(x)\n",
        "  \n",
        "  x = Dense(100,activation = 'relu')(x)\n",
        "  out = Dense(1, activation='sigmoid')(x)\n",
        "\n",
        "  model = Model(inputs=input1, outputs=out)\n",
        "  model.compile(optimizer=Adam(),\n",
        "                loss='binary_crossentropy',\n",
        "                metrics=['acc'])\n",
        "  return model"
      ],
      "execution_count": null,
      "outputs": []
    },
    {
      "cell_type": "code",
      "metadata": {
        "colab": {
          "base_uri": "https://localhost:8080/"
        },
        "id": "AvDnWyUijylM",
        "outputId": "245b25e7-d541-462c-9b46-f61ff0b4ff68"
      },
      "source": [
        "get_gru().summary()"
      ],
      "execution_count": null,
      "outputs": [
        {
          "output_type": "stream",
          "text": [
            "Model: \"model_4\"\n",
            "_________________________________________________________________\n",
            "Layer (type)                 Output Shape              Param #   \n",
            "=================================================================\n",
            "input_5 (InputLayer)         [(None, 21)]              0         \n",
            "_________________________________________________________________\n",
            "embedding_2 (Embedding)      (None, 21, 32)            5696      \n",
            "_________________________________________________________________\n",
            "gru (GRU)                    (None, 32)                6336      \n",
            "_________________________________________________________________\n",
            "dense_14 (Dense)             (None, 100)               3300      \n",
            "_________________________________________________________________\n",
            "dense_15 (Dense)             (None, 1)                 101       \n",
            "=================================================================\n",
            "Total params: 15,433\n",
            "Trainable params: 15,433\n",
            "Non-trainable params: 0\n",
            "_________________________________________________________________\n"
          ],
          "name": "stdout"
        }
      ]
    },
    {
      "cell_type": "code",
      "metadata": {
        "id": "M3l0z_nUGha0",
        "colab": {
          "base_uri": "https://localhost:8080/"
        },
        "outputId": "8e42bf4f-1531-49c7-c7f9-7437d7dde12e"
      },
      "source": [
        "################################################################################\n",
        "# TODO#9                                                                       #\n",
        "# Write code that call model.fit, or model.fit_generator if you have data      #\n",
        "# generator, to train you models. Make sure you have validation_data as an     # \n",
        "# argument and use verbose=2 to generate one log line per epoch. Select your   #\n",
        "# batch size carefully as it will affect your model's ability to converge and  #\n",
        "# time needed for one epoch.                                                   #\n",
        "################################################################################\n",
        "print('start training gru')\n",
        "model_gru = get_gru()\n",
        "################################################################################\n",
        "callbacks_list_feedforward_gru = [\n",
        "        TensorBoard(log_dir='./Graph/ff_gpu', histogram_freq=1, write_graph=True, write_grads=False),\n",
        "        ModelCheckpoint(\n",
        "            './model_weight_nn_with_gru.h5',\n",
        "            save_best_only=True,\n",
        "            save_weights_only=True,\n",
        "            monitor='val_loss',\n",
        "            mode='min',\n",
        "            verbose=1\n",
        "        )\n",
        "  ]\n",
        "\n",
        "print('start training')\n",
        "verbose = 2\n",
        "train_params = [(3, 512)]\n",
        "for (epochs, batch_size) in train_params:\n",
        "  print(\"train with {} epochs and {} 3\".format(3, batch_size))\n",
        "  model_gru.fit(x_train_char, y_train, epochs=3, batch_size=batch_size*2, verbose=verbose,\n",
        "                           callbacks=callbacks_list_feedforward_gru,\n",
        "                           validation_data=(x_val_char, y_val))                                                          #\n",
        "################################################################################\n"
      ],
      "execution_count": null,
      "outputs": [
        {
          "output_type": "stream",
          "text": [
            "start training gru\n",
            "start training\n",
            "train with 3 epochs and 512 3\n",
            "Epoch 1/3\n",
            "16076/16076 - 120s - loss: 0.1719 - acc: 0.9265 - val_loss: 0.0994 - val_acc: 0.9616\n",
            "\n",
            "Epoch 00001: val_loss improved from inf to 0.09945, saving model to ./model_weight_nn_with_gru.h5\n",
            "Epoch 2/3\n",
            "16076/16076 - 118s - loss: 0.0869 - acc: 0.9666 - val_loss: 0.0816 - val_acc: 0.9698\n",
            "\n",
            "Epoch 00002: val_loss improved from 0.09945 to 0.08164, saving model to ./model_weight_nn_with_gru.h5\n",
            "Epoch 3/3\n",
            "16076/16076 - 116s - loss: 0.0735 - acc: 0.9726 - val_loss: 0.0732 - val_acc: 0.9734\n",
            "\n",
            "Epoch 00003: val_loss improved from 0.08164 to 0.07317, saving model to ./model_weight_nn_with_gru.h5\n"
          ],
          "name": "stdout"
        }
      ]
    },
    {
      "cell_type": "code",
      "metadata": {
        "id": "MiYbLM1IGha2",
        "colab": {
          "base_uri": "https://localhost:8080/"
        },
        "outputId": "deb8901d-a25c-4947-abe2-1228ae2457de"
      },
      "source": [
        "evaluate(x_test_char, y_test, model_gru)"
      ],
      "execution_count": null,
      "outputs": [
        {
          "output_type": "execute_result",
          "data": {
            "text/plain": [
              "(0.9563683270521038, 0.9417115067175857, 0.9714885987568025)"
            ]
          },
          "metadata": {
            "tags": []
          },
          "execution_count": 35
        }
      ]
    },
    {
      "cell_type": "markdown",
      "metadata": {
        "id": "kqgyzyMIGha4"
      },
      "source": [
        "# Final Section\n",
        "# Keras playground\n",
        "\n",
        "Now, train the best model you can do for this task. You can use any model structure and function available. Remember that trainig time increases with the complexity of the model. You might find TensorBoard helpful in tuning of complicated models.\n",
        "\n",
        "Your model should be better than your CNN or GRU model in the previous sections.\n",
        "\n",
        "Some ideas to try\n",
        "1. Tune the parameters\n",
        "2. Bi-directional GRU\n",
        "3. CNN-GRU model"
      ]
    },
    {
      "cell_type": "code",
      "metadata": {
        "id": "fIya6OYHGha4"
      },
      "source": [
        "################################################################################\n",
        "# TODO#10                                                                      #\n",
        "# Write a function that returns keras your best model. You can use anything    #\n",
        "# you want. The goal here is to create the best model you can think of.        #\n",
        "# Your model should get f-score more than 97% from calling evaluate().         #\n",
        "#                                                                              #\n",
        "# Hint: You should read keras documentation to see the list of available       #\n",
        "# layers and options you can use.                                              #\n",
        "################################################################################\n",
        "from tensorflow.keras.layers import GlobalAveragePooling1D\n",
        "from tensorflow.keras.models import Model\n",
        "from tensorflow.keras.layers import Input, Dense\n",
        "from tensorflow.keras.optimizers import Adam\n",
        "from tensorflow.keras.callbacks import ModelCheckpoint, TensorBoard\n",
        "from tensorflow.keras import backend as K\n",
        "from tensorflow.keras.layers import Dropout\n",
        "from tensorflow.keras.layers import Conv1D, Embedding, TimeDistributed,Flatten\n",
        "\n",
        "\n",
        "def get_my_best_model():\n",
        "\n",
        "  input1 = Input(shape=(21,))\n",
        "  x = Embedding(len(CHARS),32,input_length=21)(input1)\n",
        "\n",
        "  x = Conv1D(filters=128, kernel_size=5, padding='same', activation='relu', strides=1)(x)\n",
        "  \n",
        "  x = TimeDistributed(Dense(5))(x)\n",
        "  x = Flatten()(x)\n",
        "  x = Dense(128, activation='relu')(x)\n",
        "\n",
        "  out = Dense(1, activation='sigmoid')(x)\n",
        "  \n",
        "\n",
        "  \n",
        "\n",
        "\n",
        "  model = Model(inputs=input1, outputs=out)\n",
        "  model.compile(optimizer=Adam(),\n",
        "                loss='binary_crossentropy',\n",
        "                metrics=['acc'])\n",
        "  return model"
      ],
      "execution_count": null,
      "outputs": []
    },
    {
      "cell_type": "code",
      "metadata": {
        "id": "1mOriMKuGha7",
        "colab": {
          "base_uri": "https://localhost:8080/"
        },
        "outputId": "30a75e54-b013-431b-ab31-a1e83da8ab7b"
      },
      "source": [
        "################################################################################\n",
        "# TODO#11                                                                      #\n",
        "# Write code that call model.fit, or model.fit_generator if you have data      #\n",
        "# generator, to train you models. Make sure you have validation_data as an     # \n",
        "# argument and use verbose=2 to generate one log line per epoch. Select your   #\n",
        "# batch size carefully as it will affect your model's ability to converge and  #\n",
        "# time needed for one epoch.                                                   #\n",
        "#                                                                              #\n",
        "# Hint: Read about callbacks_list argument on the documentation. You might     #\n",
        "# find  ReduceLROnPlateau() and ModelCheckpoint() useful for your training     #\n",
        "# process. Feel free to use any other callback function available.             #\n",
        "################################################################################\n",
        "print('start training best model')\n",
        "my_best_model = get_my_best_model()\n",
        "################################################################################\n",
        "################################################################################\n",
        "callbacks_list_feedforward_best = [\n",
        "        TensorBoard(log_dir='./Graph/ff_best', histogram_freq=1, write_graph=True, write_grads=False),\n",
        "        ModelCheckpoint(\n",
        "            './model_weight_nn_with_best.h5',\n",
        "            save_best_only=True,\n",
        "            save_weights_only=True,\n",
        "            monitor='val_loss',\n",
        "            mode='min',\n",
        "            verbose=1\n",
        "        )\n",
        "  ]\n",
        "\n",
        "print('start training')\n",
        "verbose = 1\n",
        "train_params = [(3, 512)]\n",
        "\n",
        "for (epochs, batch_size) in train_params:\n",
        "  print(\"train with {} epochs and {} 3\".format(5, batch_size*2))\n",
        "  my_best_model.fit(x_train_char, y_train, epochs=5, batch_size=batch_size*2, verbose=verbose,\n",
        "                           callbacks=callbacks_list_feedforward_best,\n",
        "                           validation_data=(x_val_char, y_val))                              #\n",
        "################################################################################"
      ],
      "execution_count": null,
      "outputs": [
        {
          "output_type": "stream",
          "text": [
            "start training best model\n",
            "start training\n",
            "train with 5 epochs and 1024 3\n",
            "Epoch 1/5\n",
            "16076/16076 [==============================] - 124s 7ms/step - loss: 0.1114 - acc: 0.9555 - val_loss: 0.0672 - val_acc: 0.9752\n",
            "\n",
            "Epoch 00001: val_loss improved from inf to 0.06716, saving model to ./model_weight_nn_with_best.h5\n",
            "Epoch 2/5\n",
            "16076/16076 [==============================] - 113s 7ms/step - loss: 0.0590 - acc: 0.9781 - val_loss: 0.0602 - val_acc: 0.9781\n",
            "\n",
            "Epoch 00002: val_loss improved from 0.06716 to 0.06021, saving model to ./model_weight_nn_with_best.h5\n",
            "Epoch 3/5\n",
            "16076/16076 [==============================] - 113s 7ms/step - loss: 0.0531 - acc: 0.9806 - val_loss: 0.0577 - val_acc: 0.9792\n",
            "\n",
            "Epoch 00003: val_loss improved from 0.06021 to 0.05772, saving model to ./model_weight_nn_with_best.h5\n",
            "Epoch 4/5\n",
            "16076/16076 [==============================] - 113s 7ms/step - loss: 0.0500 - acc: 0.9818 - val_loss: 0.0561 - val_acc: 0.9801\n",
            "\n",
            "Epoch 00004: val_loss improved from 0.05772 to 0.05612, saving model to ./model_weight_nn_with_best.h5\n",
            "Epoch 5/5\n",
            "16076/16076 [==============================] - 114s 7ms/step - loss: 0.0480 - acc: 0.9827 - val_loss: 0.0561 - val_acc: 0.9803\n",
            "\n",
            "Epoch 00005: val_loss improved from 0.05612 to 0.05612, saving model to ./model_weight_nn_with_best.h5\n"
          ],
          "name": "stdout"
        }
      ]
    },
    {
      "cell_type": "code",
      "metadata": {
        "colab": {
          "base_uri": "https://localhost:8080/"
        },
        "id": "iGZ9lYTJ2pdB",
        "outputId": "2bba75bb-13f3-4905-c489-c1b5f658deb3"
      },
      "source": [
        "my_best_model.fit(x_train_char, y_train, epochs=1, batch_size=batch_size*2, verbose=verbose,\r\n",
        "                           callbacks=callbacks_list_feedforward_best,\r\n",
        "                           validation_data=(x_val_char, y_val)) "
      ],
      "execution_count": null,
      "outputs": [
        {
          "output_type": "stream",
          "text": [
            "16076/16076 [==============================] - 114s 7ms/step - loss: 0.0465 - acc: 0.9834 - val_loss: 0.0534 - val_acc: 0.9811\n",
            "\n",
            "Epoch 00001: val_loss improved from 0.05612 to 0.05341, saving model to ./model_weight_nn_with_best.h5\n"
          ],
          "name": "stdout"
        },
        {
          "output_type": "execute_result",
          "data": {
            "text/plain": [
              "<tensorflow.python.keras.callbacks.History at 0x7f05b4015668>"
            ]
          },
          "metadata": {
            "tags": []
          },
          "execution_count": 22
        }
      ]
    },
    {
      "cell_type": "code",
      "metadata": {
        "colab": {
          "base_uri": "https://localhost:8080/"
        },
        "id": "PSMueYs93gmz",
        "outputId": "a83e2ca2-ac82-4912-8d8e-1821be051a00"
      },
      "source": [
        "my_best_model.fit(x_train_char, y_train, epochs=1, batch_size=batch_size*2, verbose=verbose,\r\n",
        "                           callbacks=callbacks_list_feedforward_best,\r\n",
        "                           validation_data=(x_val_char, y_val)) "
      ],
      "execution_count": null,
      "outputs": [
        {
          "output_type": "stream",
          "text": [
            "16076/16076 [==============================] - 114s 7ms/step - loss: 0.0455 - acc: 0.9837 - val_loss: 0.0516 - val_acc: 0.9817\n",
            "\n",
            "Epoch 00001: val_loss improved from 0.05341 to 0.05157, saving model to ./model_weight_nn_with_best.h5\n"
          ],
          "name": "stdout"
        },
        {
          "output_type": "execute_result",
          "data": {
            "text/plain": [
              "<tensorflow.python.keras.callbacks.History at 0x7f05b4023358>"
            ]
          },
          "metadata": {
            "tags": []
          },
          "execution_count": 26
        }
      ]
    },
    {
      "cell_type": "code",
      "metadata": {
        "colab": {
          "base_uri": "https://localhost:8080/"
        },
        "id": "YdaMdrpF5Kv7",
        "outputId": "38909883-f508-4ac6-9f89-5625c026e731"
      },
      "source": [
        "my_best_model.fit(x_train_char, y_train, epochs=1, batch_size=batch_size*2, verbose=verbose,\r\n",
        "                           callbacks=callbacks_list_feedforward_best,\r\n",
        "                           validation_data=(x_val_char, y_val)) "
      ],
      "execution_count": null,
      "outputs": [
        {
          "output_type": "stream",
          "text": [
            "16076/16076 [==============================] - 114s 7ms/step - loss: 0.0445 - acc: 0.9842 - val_loss: 0.0514 - val_acc: 0.9820\n",
            "\n",
            "Epoch 00001: val_loss improved from 0.05157 to 0.05145, saving model to ./model_weight_nn_with_best.h5\n"
          ],
          "name": "stdout"
        },
        {
          "output_type": "execute_result",
          "data": {
            "text/plain": [
              "<tensorflow.python.keras.callbacks.History at 0x7f04021a7ac8>"
            ]
          },
          "metadata": {
            "tags": []
          },
          "execution_count": 28
        }
      ]
    },
    {
      "cell_type": "code",
      "metadata": {
        "colab": {
          "base_uri": "https://localhost:8080/"
        },
        "id": "ZiMGK_rv5lQO",
        "outputId": "37c9e5f6-0f9c-4c3e-8eff-6b26b527b93c"
      },
      "source": [
        "evaluate(x_test_char, y_test, my_best_model)"
      ],
      "execution_count": null,
      "outputs": [
        {
          "output_type": "execute_result",
          "data": {
            "text/plain": [
              "(0.97088964392434, 0.9643749922076627, 0.9774929112464359)"
            ]
          },
          "metadata": {
            "tags": []
          },
          "execution_count": 29
        }
      ]
    }
  ]
}